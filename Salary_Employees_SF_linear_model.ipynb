{
  "nbformat": 4,
  "nbformat_minor": 0,
  "metadata": {
    "colab": {
      "name": "Salary_Employees_SF_linear_model",
      "provenance": [],
      "toc_visible": true
    },
    "kernelspec": {
      "name": "python3",
      "display_name": "Python 3"
    }
  },
  "cells": [
    {
      "cell_type": "markdown",
      "metadata": {
        "id": "5zJ8VzEWEuc6"
      },
      "source": [
        "# Importing original dataset"
      ]
    },
    {
      "cell_type": "markdown",
      "metadata": {
        "id": "c6Roh9ahE25-"
      },
      "source": [
        "Skip this section if you already have split up dataset\r\n",
        "Link to the original dataset below"
      ]
    },
    {
      "cell_type": "code",
      "metadata": {
        "id": "iiiou5CuRiwg"
      },
      "source": [
        "# https://data.world/data-society/employee-compensation-in-sf/workspace/intro"
      ],
      "execution_count": null,
      "outputs": []
    },
    {
      "cell_type": "code",
      "metadata": {
        "colab": {
          "base_uri": "https://localhost:8080/",
          "height": 447
        },
        "id": "NNuncT2nTCWI",
        "outputId": "7951ad3f-b4d2-43e9-ef55-05edec66c387"
      },
      "source": [
        "df = pd.read_csv(\"drive/My Drive/Data Job/Colab Notebooks/Data Science Nanodegree/Employee_Compensation_SF.csv\")\r\n",
        "df.head()"
      ],
      "execution_count": null,
      "outputs": [
        {
          "output_type": "execute_result",
          "data": {
            "text/html": [
              "<div>\n",
              "<style scoped>\n",
              "    .dataframe tbody tr th:only-of-type {\n",
              "        vertical-align: middle;\n",
              "    }\n",
              "\n",
              "    .dataframe tbody tr th {\n",
              "        vertical-align: top;\n",
              "    }\n",
              "\n",
              "    .dataframe thead th {\n",
              "        text-align: right;\n",
              "    }\n",
              "</style>\n",
              "<table border=\"1\" class=\"dataframe\">\n",
              "  <thead>\n",
              "    <tr style=\"text-align: right;\">\n",
              "      <th></th>\n",
              "      <th>Year Type</th>\n",
              "      <th>Year</th>\n",
              "      <th>Organization Group Code</th>\n",
              "      <th>Organization Group</th>\n",
              "      <th>Department Code</th>\n",
              "      <th>Department</th>\n",
              "      <th>Union Code</th>\n",
              "      <th>Union</th>\n",
              "      <th>Job Family Code</th>\n",
              "      <th>Job Family</th>\n",
              "      <th>Job Code</th>\n",
              "      <th>Job</th>\n",
              "      <th>Employee Identifier</th>\n",
              "      <th>Salaries</th>\n",
              "      <th>Overtime</th>\n",
              "      <th>Other Salaries</th>\n",
              "      <th>Total Salary</th>\n",
              "      <th>Retirement</th>\n",
              "      <th>Health/Dental</th>\n",
              "      <th>Other Benefits</th>\n",
              "      <th>Total Benefits</th>\n",
              "      <th>Total Compensation</th>\n",
              "    </tr>\n",
              "  </thead>\n",
              "  <tbody>\n",
              "    <tr>\n",
              "      <th>0</th>\n",
              "      <td>Fiscal</td>\n",
              "      <td>2016</td>\n",
              "      <td>1</td>\n",
              "      <td>Public Protection</td>\n",
              "      <td>DAT</td>\n",
              "      <td>District Attorney</td>\n",
              "      <td>311.0</td>\n",
              "      <td>Municipal Attorneys' Association</td>\n",
              "      <td>8100</td>\n",
              "      <td>Legal &amp; Court</td>\n",
              "      <td>8177</td>\n",
              "      <td>Attorney (Civil/Criminal)</td>\n",
              "      <td>49919</td>\n",
              "      <td>114473.16</td>\n",
              "      <td>0.0</td>\n",
              "      <td>1500.00</td>\n",
              "      <td>115973.16</td>\n",
              "      <td>21025.98</td>\n",
              "      <td>13068.80</td>\n",
              "      <td>9368.71</td>\n",
              "      <td>43463.49</td>\n",
              "      <td>159436.65</td>\n",
              "    </tr>\n",
              "    <tr>\n",
              "      <th>1</th>\n",
              "      <td>Calendar</td>\n",
              "      <td>2013</td>\n",
              "      <td>5</td>\n",
              "      <td>Culture &amp; Recreation</td>\n",
              "      <td>ART</td>\n",
              "      <td>Arts Commission</td>\n",
              "      <td>790.0</td>\n",
              "      <td>SEIU - Miscellaneous, Local 1021</td>\n",
              "      <td>1800</td>\n",
              "      <td>Budget, Admn &amp; Stats Analysis</td>\n",
              "      <td>1844</td>\n",
              "      <td>Senior Management Assistant</td>\n",
              "      <td>1225</td>\n",
              "      <td>84077.11</td>\n",
              "      <td>0.0</td>\n",
              "      <td>0.00</td>\n",
              "      <td>84077.11</td>\n",
              "      <td>16587.30</td>\n",
              "      <td>12457.73</td>\n",
              "      <td>6931.91</td>\n",
              "      <td>35976.94</td>\n",
              "      <td>120054.05</td>\n",
              "    </tr>\n",
              "    <tr>\n",
              "      <th>2</th>\n",
              "      <td>Calendar</td>\n",
              "      <td>2015</td>\n",
              "      <td>4</td>\n",
              "      <td>Community Health</td>\n",
              "      <td>DPH</td>\n",
              "      <td>Public Health</td>\n",
              "      <td>535.0</td>\n",
              "      <td>SEIU - Human Services, Local 1021</td>\n",
              "      <td>2900</td>\n",
              "      <td>Human Services</td>\n",
              "      <td>2903</td>\n",
              "      <td>Eligibility Worker</td>\n",
              "      <td>34873</td>\n",
              "      <td>9980.17</td>\n",
              "      <td>0.0</td>\n",
              "      <td>798.43</td>\n",
              "      <td>10778.60</td>\n",
              "      <td>0.00</td>\n",
              "      <td>2254.93</td>\n",
              "      <td>835.11</td>\n",
              "      <td>3090.04</td>\n",
              "      <td>13868.64</td>\n",
              "    </tr>\n",
              "    <tr>\n",
              "      <th>3</th>\n",
              "      <td>Fiscal</td>\n",
              "      <td>2015</td>\n",
              "      <td>4</td>\n",
              "      <td>Community Health</td>\n",
              "      <td>DPH</td>\n",
              "      <td>Public Health</td>\n",
              "      <td>250.0</td>\n",
              "      <td>SEIU - Health Workers, Local 1021</td>\n",
              "      <td>2200</td>\n",
              "      <td>Medical &amp; Dental</td>\n",
              "      <td>2202</td>\n",
              "      <td>Dental Aide</td>\n",
              "      <td>51145</td>\n",
              "      <td>2873.41</td>\n",
              "      <td>0.0</td>\n",
              "      <td>0.00</td>\n",
              "      <td>2873.41</td>\n",
              "      <td>0.00</td>\n",
              "      <td>622.63</td>\n",
              "      <td>222.46</td>\n",
              "      <td>845.09</td>\n",
              "      <td>3718.50</td>\n",
              "    </tr>\n",
              "    <tr>\n",
              "      <th>4</th>\n",
              "      <td>Fiscal</td>\n",
              "      <td>2014</td>\n",
              "      <td>5</td>\n",
              "      <td>Culture &amp; Recreation</td>\n",
              "      <td>REC</td>\n",
              "      <td>Recreation and Park Commission</td>\n",
              "      <td>790.0</td>\n",
              "      <td>SEIU - Miscellaneous, Local 1021</td>\n",
              "      <td>3200</td>\n",
              "      <td>Recreation</td>\n",
              "      <td>3279</td>\n",
              "      <td>Recreation Leader</td>\n",
              "      <td>48705</td>\n",
              "      <td>6701.85</td>\n",
              "      <td>0.0</td>\n",
              "      <td>176.70</td>\n",
              "      <td>6878.55</td>\n",
              "      <td>0.00</td>\n",
              "      <td>2711.66</td>\n",
              "      <td>538.43</td>\n",
              "      <td>3250.09</td>\n",
              "      <td>10128.64</td>\n",
              "    </tr>\n",
              "  </tbody>\n",
              "</table>\n",
              "</div>"
            ],
            "text/plain": [
              "  Year Type  Year  ...  Total Benefits Total Compensation\n",
              "0    Fiscal  2016  ...        43463.49          159436.65\n",
              "1  Calendar  2013  ...        35976.94          120054.05\n",
              "2  Calendar  2015  ...         3090.04           13868.64\n",
              "3    Fiscal  2015  ...          845.09            3718.50\n",
              "4    Fiscal  2014  ...         3250.09           10128.64\n",
              "\n",
              "[5 rows x 22 columns]"
            ]
          },
          "metadata": {
            "tags": []
          },
          "execution_count": 32
        }
      ]
    },
    {
      "cell_type": "markdown",
      "metadata": {
        "id": "MJS9ZUVXzF8z"
      },
      "source": [
        "The original dataset was too large to be uploaded on Github. The following code splits the dataframe into manageable csv files that could be uploaded to Github"
      ]
    },
    {
      "cell_type": "code",
      "metadata": {
        "id": "zy2CUUSVB-22"
      },
      "source": [
        "df.reset_index(inplace=True) #in order to later concatenate the dataframe back together we set the original index as column"
      ],
      "execution_count": null,
      "outputs": []
    },
    {
      "cell_type": "code",
      "metadata": {
        "colab": {
          "base_uri": "https://localhost:8080/",
          "height": 251
        },
        "id": "zkDsvXcHCAWI",
        "outputId": "477eebb1-3621-4be6-dc66-d16dc79aafe2"
      },
      "source": [
        "df.head(2)"
      ],
      "execution_count": null,
      "outputs": [
        {
          "output_type": "execute_result",
          "data": {
            "text/html": [
              "<div>\n",
              "<style scoped>\n",
              "    .dataframe tbody tr th:only-of-type {\n",
              "        vertical-align: middle;\n",
              "    }\n",
              "\n",
              "    .dataframe tbody tr th {\n",
              "        vertical-align: top;\n",
              "    }\n",
              "\n",
              "    .dataframe thead th {\n",
              "        text-align: right;\n",
              "    }\n",
              "</style>\n",
              "<table border=\"1\" class=\"dataframe\">\n",
              "  <thead>\n",
              "    <tr style=\"text-align: right;\">\n",
              "      <th></th>\n",
              "      <th>index</th>\n",
              "      <th>Year Type</th>\n",
              "      <th>Year</th>\n",
              "      <th>Organization Group Code</th>\n",
              "      <th>Organization Group</th>\n",
              "      <th>Department Code</th>\n",
              "      <th>Department</th>\n",
              "      <th>Union Code</th>\n",
              "      <th>Union</th>\n",
              "      <th>Job Family Code</th>\n",
              "      <th>Job Family</th>\n",
              "      <th>Job Code</th>\n",
              "      <th>Job</th>\n",
              "      <th>Employee Identifier</th>\n",
              "      <th>Salaries</th>\n",
              "      <th>Overtime</th>\n",
              "      <th>Other Salaries</th>\n",
              "      <th>Total Salary</th>\n",
              "      <th>Retirement</th>\n",
              "      <th>Health/Dental</th>\n",
              "      <th>Other Benefits</th>\n",
              "      <th>Total Benefits</th>\n",
              "      <th>Total Compensation</th>\n",
              "    </tr>\n",
              "  </thead>\n",
              "  <tbody>\n",
              "    <tr>\n",
              "      <th>0</th>\n",
              "      <td>0</td>\n",
              "      <td>Fiscal</td>\n",
              "      <td>2016</td>\n",
              "      <td>1</td>\n",
              "      <td>Public Protection</td>\n",
              "      <td>DAT</td>\n",
              "      <td>District Attorney</td>\n",
              "      <td>311.0</td>\n",
              "      <td>Municipal Attorneys' Association</td>\n",
              "      <td>8100</td>\n",
              "      <td>Legal &amp; Court</td>\n",
              "      <td>8177</td>\n",
              "      <td>Attorney (Civil/Criminal)</td>\n",
              "      <td>49919</td>\n",
              "      <td>114473.16</td>\n",
              "      <td>0.0</td>\n",
              "      <td>1500.0</td>\n",
              "      <td>115973.16</td>\n",
              "      <td>21025.98</td>\n",
              "      <td>13068.80</td>\n",
              "      <td>9368.71</td>\n",
              "      <td>43463.49</td>\n",
              "      <td>159436.65</td>\n",
              "    </tr>\n",
              "    <tr>\n",
              "      <th>1</th>\n",
              "      <td>1</td>\n",
              "      <td>Calendar</td>\n",
              "      <td>2013</td>\n",
              "      <td>5</td>\n",
              "      <td>Culture &amp; Recreation</td>\n",
              "      <td>ART</td>\n",
              "      <td>Arts Commission</td>\n",
              "      <td>790.0</td>\n",
              "      <td>SEIU - Miscellaneous, Local 1021</td>\n",
              "      <td>1800</td>\n",
              "      <td>Budget, Admn &amp; Stats Analysis</td>\n",
              "      <td>1844</td>\n",
              "      <td>Senior Management Assistant</td>\n",
              "      <td>1225</td>\n",
              "      <td>84077.11</td>\n",
              "      <td>0.0</td>\n",
              "      <td>0.0</td>\n",
              "      <td>84077.11</td>\n",
              "      <td>16587.30</td>\n",
              "      <td>12457.73</td>\n",
              "      <td>6931.91</td>\n",
              "      <td>35976.94</td>\n",
              "      <td>120054.05</td>\n",
              "    </tr>\n",
              "  </tbody>\n",
              "</table>\n",
              "</div>"
            ],
            "text/plain": [
              "   index Year Type  Year  ...  Other Benefits Total Benefits Total Compensation\n",
              "0      0    Fiscal  2016  ...         9368.71       43463.49          159436.65\n",
              "1      1  Calendar  2013  ...         6931.91       35976.94          120054.05\n",
              "\n",
              "[2 rows x 23 columns]"
            ]
          },
          "metadata": {
            "tags": []
          },
          "execution_count": 34
        }
      ]
    },
    {
      "cell_type": "code",
      "metadata": {
        "id": "fh0DQz2fy0FG"
      },
      "source": [
        "part_list = list(range(round(df.shape[0]/100000)))\r\n",
        "for part in part_list:\r\n",
        "  if part != part_list[-1]:\r\n",
        "    df_part = df[part * round((df.shape[0])/len(part_list)) : (part + 1) * round((df.shape[0])/len(part_list))]\r\n",
        "    df_part.to_csv(r'drive/My Drive/Data Job/Colab Notebooks/Data Science Nanodegree/Employee_Compensation_SF_{}.csv'.format(part))\r\n",
        "  else:\r\n",
        "    df_part = df[part * round((df.shape[0])/len(part_list)) : ]\r\n",
        "    df_part.to_csv(r'drive/My Drive/Data Job/Colab Notebooks/Data Science Nanodegree/Employee_Compensation_SF_{}.csv'.format(part))"
      ],
      "execution_count": null,
      "outputs": []
    },
    {
      "cell_type": "markdown",
      "metadata": {
        "id": "bkl5w3MX7mnX"
      },
      "source": [
        "#Business Questions"
      ]
    },
    {
      "cell_type": "markdown",
      "metadata": {
        "id": "q7iFJOZRNNeT"
      },
      "source": [
        "The questions we would like to answer:\r\n",
        "\r\n",
        "1.  What is the most profitable profession in the city system?\r\n",
        "2.  Do people who earn more get higher percentage of their compensation in benefits than lower income?\r\n",
        "3.  Do people who work overtime tend to earn more or less than average?\r\n",
        "4.  What are the professions / Job titles who earn average amount of money?\r\n",
        "5.  What percentage of city employees receive benefits through work? If some do not, what are job titles?\r\n",
        "\r\n",
        "\r\n"
      ]
    },
    {
      "cell_type": "markdown",
      "metadata": {
        "id": "yVjuAMQVFGnS"
      },
      "source": [
        "#Importing libraries"
      ]
    },
    {
      "cell_type": "code",
      "metadata": {
        "id": "VRPa_MKZFHMm"
      },
      "source": [
        "import numpy as np\r\n",
        "import pandas as pd\r\n",
        "import matplotlib.pyplot as plt\r\n",
        "import sklearn\r\n",
        "from sklearn.linear_model import LinearRegression\r\n",
        "from sklearn.model_selection import train_test_split\r\n",
        "from sklearn.metrics import r2_score, mean_squared_error\r\n",
        "import seaborn as sns\r\n",
        "%matplotlib inline\r\n",
        "\r\n",
        "from google.colab import files\r\n",
        "from sklearn.model_selection import train_test_split\r\n",
        "\r\n",
        "import statistics"
      ],
      "execution_count": 1,
      "outputs": []
    },
    {
      "cell_type": "markdown",
      "metadata": {
        "id": "Rj-qUisbn9M5"
      },
      "source": [
        "#Importing Dataset"
      ]
    },
    {
      "cell_type": "code",
      "metadata": {
        "id": "SOGtJ8GnFSKB"
      },
      "source": [
        "parts = 3 #number of dataframe parts \r\n",
        "part_list = list(range(parts))"
      ],
      "execution_count": 2,
      "outputs": []
    },
    {
      "cell_type": "code",
      "metadata": {
        "id": "ZdJvhH41F0Er"
      },
      "source": [
        "data = []\r\n",
        "for part in part_list:\r\n",
        "  data.append(pd.read_csv(\"drive/My Drive/Data Job/Colab Notebooks/Data Science Nanodegree/Employee_Compensation_SF_{}.csv\".format(part)))\r\n",
        "\r\n",
        "df_comb = pd.concat(data, ignore_index=True)\r\n"
      ],
      "execution_count": 3,
      "outputs": []
    },
    {
      "cell_type": "code",
      "metadata": {
        "colab": {
          "base_uri": "https://localhost:8080/"
        },
        "id": "n5LeMfIiGRCH",
        "outputId": "0cd9e32c-30d0-476e-aaea-1bb3d400420f"
      },
      "source": [
        "df_comb.drop(['Unnamed: 0'], axis = 1,inplace= True)\r\n",
        "df_comb.columns"
      ],
      "execution_count": 4,
      "outputs": [
        {
          "output_type": "execute_result",
          "data": {
            "text/plain": [
              "Index(['Year Type', 'Year', 'Organization Group Code', 'Organization Group',\n",
              "       'Department Code', 'Department', 'Union Code', 'Union',\n",
              "       'Job Family Code', 'Job Family', 'Job Code', 'Job',\n",
              "       'Employee Identifier', 'Salaries', 'Overtime', 'Other Salaries',\n",
              "       'Total Salary', 'Retirement', 'Health/Dental', 'Other Benefits',\n",
              "       'Total Benefits', 'Total Compensation'],\n",
              "      dtype='object')"
            ]
          },
          "metadata": {
            "tags": []
          },
          "execution_count": 4
        }
      ]
    },
    {
      "cell_type": "code",
      "metadata": {
        "colab": {
          "base_uri": "https://localhost:8080/",
          "height": 251
        },
        "id": "afHwZWpwyjSG",
        "outputId": "10f52297-9b07-4b3c-a887-37f282031418"
      },
      "source": [
        "df_comb.head(2)"
      ],
      "execution_count": 5,
      "outputs": [
        {
          "output_type": "execute_result",
          "data": {
            "text/html": [
              "<div>\n",
              "<style scoped>\n",
              "    .dataframe tbody tr th:only-of-type {\n",
              "        vertical-align: middle;\n",
              "    }\n",
              "\n",
              "    .dataframe tbody tr th {\n",
              "        vertical-align: top;\n",
              "    }\n",
              "\n",
              "    .dataframe thead th {\n",
              "        text-align: right;\n",
              "    }\n",
              "</style>\n",
              "<table border=\"1\" class=\"dataframe\">\n",
              "  <thead>\n",
              "    <tr style=\"text-align: right;\">\n",
              "      <th></th>\n",
              "      <th>Year Type</th>\n",
              "      <th>Year</th>\n",
              "      <th>Organization Group Code</th>\n",
              "      <th>Organization Group</th>\n",
              "      <th>Department Code</th>\n",
              "      <th>Department</th>\n",
              "      <th>Union Code</th>\n",
              "      <th>Union</th>\n",
              "      <th>Job Family Code</th>\n",
              "      <th>Job Family</th>\n",
              "      <th>Job Code</th>\n",
              "      <th>Job</th>\n",
              "      <th>Employee Identifier</th>\n",
              "      <th>Salaries</th>\n",
              "      <th>Overtime</th>\n",
              "      <th>Other Salaries</th>\n",
              "      <th>Total Salary</th>\n",
              "      <th>Retirement</th>\n",
              "      <th>Health/Dental</th>\n",
              "      <th>Other Benefits</th>\n",
              "      <th>Total Benefits</th>\n",
              "      <th>Total Compensation</th>\n",
              "    </tr>\n",
              "  </thead>\n",
              "  <tbody>\n",
              "    <tr>\n",
              "      <th>0</th>\n",
              "      <td>Fiscal</td>\n",
              "      <td>2016</td>\n",
              "      <td>1</td>\n",
              "      <td>Public Protection</td>\n",
              "      <td>DAT</td>\n",
              "      <td>District Attorney</td>\n",
              "      <td>311.0</td>\n",
              "      <td>Municipal Attorneys' Association</td>\n",
              "      <td>8100</td>\n",
              "      <td>Legal &amp; Court</td>\n",
              "      <td>8177</td>\n",
              "      <td>Attorney (Civil/Criminal)</td>\n",
              "      <td>49919</td>\n",
              "      <td>114473.16</td>\n",
              "      <td>0.0</td>\n",
              "      <td>1500.0</td>\n",
              "      <td>115973.16</td>\n",
              "      <td>21025.98</td>\n",
              "      <td>13068.80</td>\n",
              "      <td>9368.71</td>\n",
              "      <td>43463.49</td>\n",
              "      <td>159436.65</td>\n",
              "    </tr>\n",
              "    <tr>\n",
              "      <th>1</th>\n",
              "      <td>Calendar</td>\n",
              "      <td>2013</td>\n",
              "      <td>5</td>\n",
              "      <td>Culture &amp; Recreation</td>\n",
              "      <td>ART</td>\n",
              "      <td>Arts Commission</td>\n",
              "      <td>790.0</td>\n",
              "      <td>SEIU - Miscellaneous, Local 1021</td>\n",
              "      <td>1800</td>\n",
              "      <td>Budget, Admn &amp; Stats Analysis</td>\n",
              "      <td>1844</td>\n",
              "      <td>Senior Management Assistant</td>\n",
              "      <td>1225</td>\n",
              "      <td>84077.11</td>\n",
              "      <td>0.0</td>\n",
              "      <td>0.0</td>\n",
              "      <td>84077.11</td>\n",
              "      <td>16587.30</td>\n",
              "      <td>12457.73</td>\n",
              "      <td>6931.91</td>\n",
              "      <td>35976.94</td>\n",
              "      <td>120054.05</td>\n",
              "    </tr>\n",
              "  </tbody>\n",
              "</table>\n",
              "</div>"
            ],
            "text/plain": [
              "  Year Type  Year  ...  Total Benefits Total Compensation\n",
              "0    Fiscal  2016  ...        43463.49          159436.65\n",
              "1  Calendar  2013  ...        35976.94          120054.05\n",
              "\n",
              "[2 rows x 22 columns]"
            ]
          },
          "metadata": {
            "tags": []
          },
          "execution_count": 5
        }
      ]
    },
    {
      "cell_type": "markdown",
      "metadata": {
        "id": "P8UPmC2d0kqh"
      },
      "source": [
        "in the histogram below we could the salary dsitribution is skewed to the right and peaks at about $100k per year"
      ]
    },
    {
      "cell_type": "code",
      "metadata": {
        "colab": {
          "base_uri": "https://localhost:8080/",
          "height": 282
        },
        "id": "Tj3V8qNy6Le-",
        "outputId": "cadeec7a-4e29-4cbc-c2d1-f57bc74e1b0c"
      },
      "source": [
        "df_comb['Total Compensation'].hist(bins = 15)"
      ],
      "execution_count": 6,
      "outputs": [
        {
          "output_type": "execute_result",
          "data": {
            "text/plain": [
              "<matplotlib.axes._subplots.AxesSubplot at 0x7f666754bc50>"
            ]
          },
          "metadata": {
            "tags": []
          },
          "execution_count": 6
        },
        {
          "output_type": "display_data",
          "data": {
            "image/png": "[encoded data removed]",
            "text/plain": [
              "<Figure size 432x288 with 1 Axes>"
            ]
          },
          "metadata": {
            "tags": [],
            "needs_background": "light"
          }
        }
      ]
    },
    {
      "cell_type": "code",
      "metadata": {
        "colab": {
          "base_uri": "https://localhost:8080/",
          "height": 282
        },
        "id": "AWUIsDlc0Q8k",
        "outputId": "d403b48d-76ff-4b40-de1b-7346cb3866e0"
      },
      "source": [
        "df_comb['Total Benefits'].hist(bins = 15)"
      ],
      "execution_count": 7,
      "outputs": [
        {
          "output_type": "execute_result",
          "data": {
            "text/plain": [
              "<matplotlib.axes._subplots.AxesSubplot at 0x7f66673f0c10>"
            ]
          },
          "metadata": {
            "tags": []
          },
          "execution_count": 7
        },
        {
          "output_type": "display_data",
          "data": {
            "image/png": "[encoded data removed]",
            "text/plain": [
              "<Figure size 432x288 with 1 Axes>"
            ]
          },
          "metadata": {
            "tags": [],
            "needs_background": "light"
          }
        }
      ]
    },
    {
      "cell_type": "markdown",
      "metadata": {
        "id": "wTWw7lw2r1f7"
      },
      "source": [
        "Wait a minute! Are these negative salaries/benefits? Does not seem right. Let's look into it"
      ]
    },
    {
      "cell_type": "code",
      "metadata": {
        "colab": {
          "base_uri": "https://localhost:8080/",
          "height": 878
        },
        "id": "oSu5K4vesDVb",
        "outputId": "66af9327-3cba-4a78-f952-19ec43af214c"
      },
      "source": [
        "df_comb[(df_comb['Total Compensation']<=0) | (df_comb['Total Salary']<0) | (df_comb['Salaries']<0) | (df_comb['Other Salaries']<0) | (df_comb['Retirement']<0) | (df_comb['Health/Dental']<0) | (df_comb['Other Benefits']<0) | (df_comb['Total Benefits']<0)].sort_values('Total Compensation').head(10)"
      ],
      "execution_count": 8,
      "outputs": [
        {
          "output_type": "execute_result",
          "data": {
            "text/html": [
              "<div>\n",
              "<style scoped>\n",
              "    .dataframe tbody tr th:only-of-type {\n",
              "        vertical-align: middle;\n",
              "    }\n",
              "\n",
              "    .dataframe tbody tr th {\n",
              "        vertical-align: top;\n",
              "    }\n",
              "\n",
              "    .dataframe thead th {\n",
              "        text-align: right;\n",
              "    }\n",
              "</style>\n",
              "<table border=\"1\" class=\"dataframe\">\n",
              "  <thead>\n",
              "    <tr style=\"text-align: right;\">\n",
              "      <th></th>\n",
              "      <th>Year Type</th>\n",
              "      <th>Year</th>\n",
              "      <th>Organization Group Code</th>\n",
              "      <th>Organization Group</th>\n",
              "      <th>Department Code</th>\n",
              "      <th>Department</th>\n",
              "      <th>Union Code</th>\n",
              "      <th>Union</th>\n",
              "      <th>Job Family Code</th>\n",
              "      <th>Job Family</th>\n",
              "      <th>Job Code</th>\n",
              "      <th>Job</th>\n",
              "      <th>Employee Identifier</th>\n",
              "      <th>Salaries</th>\n",
              "      <th>Overtime</th>\n",
              "      <th>Other Salaries</th>\n",
              "      <th>Total Salary</th>\n",
              "      <th>Retirement</th>\n",
              "      <th>Health/Dental</th>\n",
              "      <th>Other Benefits</th>\n",
              "      <th>Total Benefits</th>\n",
              "      <th>Total Compensation</th>\n",
              "    </tr>\n",
              "  </thead>\n",
              "  <tbody>\n",
              "    <tr>\n",
              "      <th>203975</th>\n",
              "      <td>Fiscal</td>\n",
              "      <td>2014</td>\n",
              "      <td>1</td>\n",
              "      <td>Public Protection</td>\n",
              "      <td>FIR</td>\n",
              "      <td>Fire Department</td>\n",
              "      <td>323.0</td>\n",
              "      <td>Members of Boards and Commissions</td>\n",
              "      <td>0900</td>\n",
              "      <td>Management</td>\n",
              "      <td>0114</td>\n",
              "      <td>Bdcomm Mbr, Grp5,M$100/Mo</td>\n",
              "      <td>12878</td>\n",
              "      <td>-68771.78</td>\n",
              "      <td>0.0</td>\n",
              "      <td>0.00</td>\n",
              "      <td>-68771.78</td>\n",
              "      <td>0.00</td>\n",
              "      <td>17.98</td>\n",
              "      <td>-5328.81</td>\n",
              "      <td>-5310.83</td>\n",
              "      <td>-74082.61</td>\n",
              "    </tr>\n",
              "    <tr>\n",
              "      <th>140656</th>\n",
              "      <td>Fiscal</td>\n",
              "      <td>2013</td>\n",
              "      <td>3</td>\n",
              "      <td>Human Welfare &amp; Neighborhood Development</td>\n",
              "      <td>HRC</td>\n",
              "      <td>Human Rights Commission</td>\n",
              "      <td>790.0</td>\n",
              "      <td>SEIU - Miscellaneous, Local 1021</td>\n",
              "      <td>2900</td>\n",
              "      <td>Human Services</td>\n",
              "      <td>2996</td>\n",
              "      <td>Rep, Human Rights Comm</td>\n",
              "      <td>33028</td>\n",
              "      <td>-17635.32</td>\n",
              "      <td>0.0</td>\n",
              "      <td>782.28</td>\n",
              "      <td>-16853.04</td>\n",
              "      <td>-3190.24</td>\n",
              "      <td>-2940.47</td>\n",
              "      <td>-1378.51</td>\n",
              "      <td>-7509.22</td>\n",
              "      <td>-24362.26</td>\n",
              "    </tr>\n",
              "    <tr>\n",
              "      <th>69411</th>\n",
              "      <td>Fiscal</td>\n",
              "      <td>2015</td>\n",
              "      <td>4</td>\n",
              "      <td>Community Health</td>\n",
              "      <td>DPH</td>\n",
              "      <td>Public Health</td>\n",
              "      <td>21.0</td>\n",
              "      <td>Prof &amp; Tech Engineers - Miscellaneous, Local 21</td>\n",
              "      <td>2100</td>\n",
              "      <td>Hospital Administration</td>\n",
              "      <td>2119</td>\n",
              "      <td>Health Care Analyst</td>\n",
              "      <td>35658</td>\n",
              "      <td>-7423.00</td>\n",
              "      <td>0.0</td>\n",
              "      <td>0.00</td>\n",
              "      <td>-7423.00</td>\n",
              "      <td>-1582.59</td>\n",
              "      <td>-1245.26</td>\n",
              "      <td>-595.47</td>\n",
              "      <td>-3423.32</td>\n",
              "      <td>-10846.32</td>\n",
              "    </tr>\n",
              "    <tr>\n",
              "      <th>220161</th>\n",
              "      <td>Calendar</td>\n",
              "      <td>2014</td>\n",
              "      <td>4</td>\n",
              "      <td>Community Health</td>\n",
              "      <td>DPH</td>\n",
              "      <td>Public Health</td>\n",
              "      <td>791.0</td>\n",
              "      <td>SEIU - Staff and Per Diem Nurses, Local 1021</td>\n",
              "      <td>2300</td>\n",
              "      <td>Nursing</td>\n",
              "      <td>2328</td>\n",
              "      <td>Nurse Practitioner</td>\n",
              "      <td>3768</td>\n",
              "      <td>12329.19</td>\n",
              "      <td>0.0</td>\n",
              "      <td>0.00</td>\n",
              "      <td>12329.19</td>\n",
              "      <td>-30469.00</td>\n",
              "      <td>0.00</td>\n",
              "      <td>9173.85</td>\n",
              "      <td>-21295.15</td>\n",
              "      <td>-8965.96</td>\n",
              "    </tr>\n",
              "    <tr>\n",
              "      <th>212789</th>\n",
              "      <td>Fiscal</td>\n",
              "      <td>2016</td>\n",
              "      <td>2</td>\n",
              "      <td>Public Works, Transportation &amp; Commerce</td>\n",
              "      <td>MTA</td>\n",
              "      <td>Municipal Transportation Agency</td>\n",
              "      <td>856.0</td>\n",
              "      <td>Teamsters - Miscellaneous, Local 856</td>\n",
              "      <td>7400</td>\n",
              "      <td>Skilled Labor</td>\n",
              "      <td>7444</td>\n",
              "      <td>Parking Meter Repairer</td>\n",
              "      <td>19982</td>\n",
              "      <td>-4770.20</td>\n",
              "      <td>0.0</td>\n",
              "      <td>0.00</td>\n",
              "      <td>-4770.20</td>\n",
              "      <td>-1069.96</td>\n",
              "      <td>-847.97</td>\n",
              "      <td>-241.98</td>\n",
              "      <td>-2159.91</td>\n",
              "      <td>-6930.11</td>\n",
              "    </tr>\n",
              "    <tr>\n",
              "      <th>92189</th>\n",
              "      <td>Fiscal</td>\n",
              "      <td>2014</td>\n",
              "      <td>4</td>\n",
              "      <td>Community Health</td>\n",
              "      <td>DPH</td>\n",
              "      <td>Public Health</td>\n",
              "      <td>791.0</td>\n",
              "      <td>SEIU - Staff and Per Diem Nurses, Local 1021</td>\n",
              "      <td>2300</td>\n",
              "      <td>Nursing</td>\n",
              "      <td>P103</td>\n",
              "      <td>Special Nurse</td>\n",
              "      <td>30584</td>\n",
              "      <td>-5255.50</td>\n",
              "      <td>0.0</td>\n",
              "      <td>69.89</td>\n",
              "      <td>-5185.61</td>\n",
              "      <td>-1212.70</td>\n",
              "      <td>0.00</td>\n",
              "      <td>-25.49</td>\n",
              "      <td>-1238.19</td>\n",
              "      <td>-6423.80</td>\n",
              "    </tr>\n",
              "    <tr>\n",
              "      <th>43356</th>\n",
              "      <td>Fiscal</td>\n",
              "      <td>2013</td>\n",
              "      <td>4</td>\n",
              "      <td>Community Health</td>\n",
              "      <td>DPH</td>\n",
              "      <td>Public Health</td>\n",
              "      <td>790.0</td>\n",
              "      <td>SEIU - Miscellaneous, Local 1021</td>\n",
              "      <td>9900</td>\n",
              "      <td>Public Service Aide</td>\n",
              "      <td>9924</td>\n",
              "      <td>PS Aide Health Services</td>\n",
              "      <td>35253</td>\n",
              "      <td>-3772.90</td>\n",
              "      <td>0.0</td>\n",
              "      <td>0.00</td>\n",
              "      <td>-3772.90</td>\n",
              "      <td>0.00</td>\n",
              "      <td>-1427.89</td>\n",
              "      <td>-293.95</td>\n",
              "      <td>-1721.84</td>\n",
              "      <td>-5494.74</td>\n",
              "    </tr>\n",
              "    <tr>\n",
              "      <th>243714</th>\n",
              "      <td>Fiscal</td>\n",
              "      <td>2014</td>\n",
              "      <td>2</td>\n",
              "      <td>Public Works, Transportation &amp; Commerce</td>\n",
              "      <td>MTA</td>\n",
              "      <td>Municipal Transportation Agency</td>\n",
              "      <td>21.0</td>\n",
              "      <td>Prof &amp; Tech Engineers - Miscellaneous, Local 21</td>\n",
              "      <td>2900</td>\n",
              "      <td>Human Services</td>\n",
              "      <td>2978</td>\n",
              "      <td>Contract Compliance Officer 2</td>\n",
              "      <td>10043</td>\n",
              "      <td>0.00</td>\n",
              "      <td>0.0</td>\n",
              "      <td>0.00</td>\n",
              "      <td>0.00</td>\n",
              "      <td>-4657.96</td>\n",
              "      <td>0.00</td>\n",
              "      <td>0.00</td>\n",
              "      <td>-4657.96</td>\n",
              "      <td>-4657.96</td>\n",
              "    </tr>\n",
              "    <tr>\n",
              "      <th>285516</th>\n",
              "      <td>Fiscal</td>\n",
              "      <td>2014</td>\n",
              "      <td>6</td>\n",
              "      <td>General Administration &amp; Finance</td>\n",
              "      <td>BOS</td>\n",
              "      <td>Board of Supervisors</td>\n",
              "      <td>22.0</td>\n",
              "      <td>Prof &amp; Tech Engineers - Personnel, Local 21</td>\n",
              "      <td>1800</td>\n",
              "      <td>Budget, Admn &amp; Stats Analysis</td>\n",
              "      <td>1835</td>\n",
              "      <td>Legislative Assistant</td>\n",
              "      <td>771</td>\n",
              "      <td>-2997.00</td>\n",
              "      <td>0.0</td>\n",
              "      <td>0.00</td>\n",
              "      <td>-2997.00</td>\n",
              "      <td>0.00</td>\n",
              "      <td>-479.41</td>\n",
              "      <td>-232.03</td>\n",
              "      <td>-711.44</td>\n",
              "      <td>-3708.44</td>\n",
              "    </tr>\n",
              "    <tr>\n",
              "      <th>212810</th>\n",
              "      <td>Fiscal</td>\n",
              "      <td>2014</td>\n",
              "      <td>6</td>\n",
              "      <td>General Administration &amp; Finance</td>\n",
              "      <td>ADM</td>\n",
              "      <td>General Services Agency - City Admin</td>\n",
              "      <td>790.0</td>\n",
              "      <td>SEIU - Miscellaneous, Local 1021</td>\n",
              "      <td>2700</td>\n",
              "      <td>Housekeeping &amp; Laundry</td>\n",
              "      <td>2708</td>\n",
              "      <td>Custodian</td>\n",
              "      <td>33418</td>\n",
              "      <td>-3345.90</td>\n",
              "      <td>0.0</td>\n",
              "      <td>-33.44</td>\n",
              "      <td>-3379.34</td>\n",
              "      <td>0.00</td>\n",
              "      <td>0.00</td>\n",
              "      <td>-266.97</td>\n",
              "      <td>-266.97</td>\n",
              "      <td>-3646.31</td>\n",
              "    </tr>\n",
              "  </tbody>\n",
              "</table>\n",
              "</div>"
            ],
            "text/plain": [
              "       Year Type  Year  ...  Total Benefits Total Compensation\n",
              "203975    Fiscal  2014  ...        -5310.83          -74082.61\n",
              "140656    Fiscal  2013  ...        -7509.22          -24362.26\n",
              "69411     Fiscal  2015  ...        -3423.32          -10846.32\n",
              "220161  Calendar  2014  ...       -21295.15           -8965.96\n",
              "212789    Fiscal  2016  ...        -2159.91           -6930.11\n",
              "92189     Fiscal  2014  ...        -1238.19           -6423.80\n",
              "43356     Fiscal  2013  ...        -1721.84           -5494.74\n",
              "243714    Fiscal  2014  ...        -4657.96           -4657.96\n",
              "285516    Fiscal  2014  ...         -711.44           -3708.44\n",
              "212810    Fiscal  2014  ...         -266.97           -3646.31\n",
              "\n",
              "[10 rows x 22 columns]"
            ]
          },
          "metadata": {
            "tags": []
          },
          "execution_count": 8
        }
      ]
    },
    {
      "cell_type": "markdown",
      "metadata": {
        "id": "wPDUz8NkJexw"
      },
      "source": [
        "There is a thing like a negative salary, if for example the employee took a loan from the company and is repaying it with salary deduction. This could overcomplicate our model. For the sake of time constrain for this project, we would drop all rows that have negative salary, negative total compensation. We would keep negative health/dental as some employees may contribute to their insurance resulting in negative benefit"
      ]
    },
    {
      "cell_type": "code",
      "metadata": {
        "colab": {
          "base_uri": "https://localhost:8080/",
          "height": 499
        },
        "id": "UouFxTZELcuT",
        "outputId": "7aff1afb-25ef-4d4a-d0c6-a35c276a2cdd"
      },
      "source": [
        "df_comb = df_comb[(df_comb['Total Compensation']>0) & (df_comb['Total Salary']>0)]\r\n",
        "df_comb = df_comb[(df_comb['Salaries']>=0) | (df_comb['Other Salaries']>=0) | (df_comb['Retirement']>=0) | (df_comb['Total Benefits']>=0)]\r\n",
        "\r\n",
        "df_comb.sort_values('Total Compensation').head()"
      ],
      "execution_count": 9,
      "outputs": [
        {
          "output_type": "execute_result",
          "data": {
            "text/html": [
              "<div>\n",
              "<style scoped>\n",
              "    .dataframe tbody tr th:only-of-type {\n",
              "        vertical-align: middle;\n",
              "    }\n",
              "\n",
              "    .dataframe tbody tr th {\n",
              "        vertical-align: top;\n",
              "    }\n",
              "\n",
              "    .dataframe thead th {\n",
              "        text-align: right;\n",
              "    }\n",
              "</style>\n",
              "<table border=\"1\" class=\"dataframe\">\n",
              "  <thead>\n",
              "    <tr style=\"text-align: right;\">\n",
              "      <th></th>\n",
              "      <th>Year Type</th>\n",
              "      <th>Year</th>\n",
              "      <th>Organization Group Code</th>\n",
              "      <th>Organization Group</th>\n",
              "      <th>Department Code</th>\n",
              "      <th>Department</th>\n",
              "      <th>Union Code</th>\n",
              "      <th>Union</th>\n",
              "      <th>Job Family Code</th>\n",
              "      <th>Job Family</th>\n",
              "      <th>Job Code</th>\n",
              "      <th>Job</th>\n",
              "      <th>Employee Identifier</th>\n",
              "      <th>Salaries</th>\n",
              "      <th>Overtime</th>\n",
              "      <th>Other Salaries</th>\n",
              "      <th>Total Salary</th>\n",
              "      <th>Retirement</th>\n",
              "      <th>Health/Dental</th>\n",
              "      <th>Other Benefits</th>\n",
              "      <th>Total Benefits</th>\n",
              "      <th>Total Compensation</th>\n",
              "    </tr>\n",
              "  </thead>\n",
              "  <tbody>\n",
              "    <tr>\n",
              "      <th>202891</th>\n",
              "      <td>Fiscal</td>\n",
              "      <td>2014</td>\n",
              "      <td>6</td>\n",
              "      <td>General Administration &amp; Finance</td>\n",
              "      <td>ADM</td>\n",
              "      <td>General Services Agency - City Admin</td>\n",
              "      <td>790.0</td>\n",
              "      <td>SEIU - Miscellaneous, Local 1021</td>\n",
              "      <td>1800</td>\n",
              "      <td>Budget, Admn &amp; Stats Analysis</td>\n",
              "      <td>1840</td>\n",
              "      <td>Junior Management Assistant</td>\n",
              "      <td>3095</td>\n",
              "      <td>0.57</td>\n",
              "      <td>0.0</td>\n",
              "      <td>0.00</td>\n",
              "      <td>0.57</td>\n",
              "      <td>0.13</td>\n",
              "      <td>0.12</td>\n",
              "      <td>0.05</td>\n",
              "      <td>0.30</td>\n",
              "      <td>0.87</td>\n",
              "    </tr>\n",
              "    <tr>\n",
              "      <th>175430</th>\n",
              "      <td>Calendar</td>\n",
              "      <td>2014</td>\n",
              "      <td>6</td>\n",
              "      <td>General Administration &amp; Finance</td>\n",
              "      <td>ADM</td>\n",
              "      <td>General Services Agency - City Admin</td>\n",
              "      <td>790.0</td>\n",
              "      <td>SEIU - Miscellaneous, Local 1021</td>\n",
              "      <td>1800</td>\n",
              "      <td>Budget, Admn &amp; Stats Analysis</td>\n",
              "      <td>1840</td>\n",
              "      <td>Junior Management Assistant</td>\n",
              "      <td>3095</td>\n",
              "      <td>0.57</td>\n",
              "      <td>0.0</td>\n",
              "      <td>0.00</td>\n",
              "      <td>0.57</td>\n",
              "      <td>0.13</td>\n",
              "      <td>0.12</td>\n",
              "      <td>0.05</td>\n",
              "      <td>0.30</td>\n",
              "      <td>0.87</td>\n",
              "    </tr>\n",
              "    <tr>\n",
              "      <th>33280</th>\n",
              "      <td>Fiscal</td>\n",
              "      <td>2013</td>\n",
              "      <td>6</td>\n",
              "      <td>General Administration &amp; Finance</td>\n",
              "      <td>HSS</td>\n",
              "      <td>Health Service System</td>\n",
              "      <td>351.0</td>\n",
              "      <td>Municipal Executive Association - Miscellaneous</td>\n",
              "      <td>9100</td>\n",
              "      <td>Street Transit</td>\n",
              "      <td>9187</td>\n",
              "      <td>Deputy Dir II, MTA</td>\n",
              "      <td>36609</td>\n",
              "      <td>0.00</td>\n",
              "      <td>0.0</td>\n",
              "      <td>1.54</td>\n",
              "      <td>1.54</td>\n",
              "      <td>0.00</td>\n",
              "      <td>0.00</td>\n",
              "      <td>0.00</td>\n",
              "      <td>0.00</td>\n",
              "      <td>1.54</td>\n",
              "    </tr>\n",
              "    <tr>\n",
              "      <th>104617</th>\n",
              "      <td>Fiscal</td>\n",
              "      <td>2015</td>\n",
              "      <td>3</td>\n",
              "      <td>Human Welfare &amp; Neighborhood Development</td>\n",
              "      <td>CSS</td>\n",
              "      <td>Child Support Services</td>\n",
              "      <td>790.0</td>\n",
              "      <td>SEIU - Miscellaneous, Local 1021</td>\n",
              "      <td>8100</td>\n",
              "      <td>Legal &amp; Court</td>\n",
              "      <td>8158</td>\n",
              "      <td>Child Support Officer II</td>\n",
              "      <td>41318</td>\n",
              "      <td>0.00</td>\n",
              "      <td>0.0</td>\n",
              "      <td>1.83</td>\n",
              "      <td>1.83</td>\n",
              "      <td>0.00</td>\n",
              "      <td>0.00</td>\n",
              "      <td>0.14</td>\n",
              "      <td>0.14</td>\n",
              "      <td>1.97</td>\n",
              "    </tr>\n",
              "    <tr>\n",
              "      <th>24175</th>\n",
              "      <td>Fiscal</td>\n",
              "      <td>2016</td>\n",
              "      <td>4</td>\n",
              "      <td>Community Health</td>\n",
              "      <td>DPH</td>\n",
              "      <td>Public Health</td>\n",
              "      <td>250.0</td>\n",
              "      <td>SEIU - Health Workers, Local 1021</td>\n",
              "      <td>2600</td>\n",
              "      <td>Dietary &amp; Food</td>\n",
              "      <td>2654</td>\n",
              "      <td>Cook</td>\n",
              "      <td>33365</td>\n",
              "      <td>0.00</td>\n",
              "      <td>0.0</td>\n",
              "      <td>2.21</td>\n",
              "      <td>2.21</td>\n",
              "      <td>0.00</td>\n",
              "      <td>0.00</td>\n",
              "      <td>0.17</td>\n",
              "      <td>0.17</td>\n",
              "      <td>2.38</td>\n",
              "    </tr>\n",
              "  </tbody>\n",
              "</table>\n",
              "</div>"
            ],
            "text/plain": [
              "       Year Type  Year  ...  Total Benefits Total Compensation\n",
              "202891    Fiscal  2014  ...            0.30               0.87\n",
              "175430  Calendar  2014  ...            0.30               0.87\n",
              "33280     Fiscal  2013  ...            0.00               1.54\n",
              "104617    Fiscal  2015  ...            0.14               1.97\n",
              "24175     Fiscal  2016  ...            0.17               2.38\n",
              "\n",
              "[5 rows x 22 columns]"
            ]
          },
          "metadata": {
            "tags": []
          },
          "execution_count": 9
        }
      ]
    },
    {
      "cell_type": "markdown",
      "metadata": {
        "id": "XWmRI_EKXbGP"
      },
      "source": [
        "Annual salaries near 1 dollar still seem strange to me. Let's look at box plot for possible outliers"
      ]
    },
    {
      "cell_type": "code",
      "metadata": {
        "colab": {
          "base_uri": "https://localhost:8080/",
          "height": 282
        },
        "id": "9fTuXrZ0Lzvt",
        "outputId": "3c27f585-5683-4a8b-ea9f-0c1289502a37"
      },
      "source": [
        "df_comb[['Total Compensation']].boxplot()"
      ],
      "execution_count": 10,
      "outputs": [
        {
          "output_type": "execute_result",
          "data": {
            "text/plain": [
              "<matplotlib.axes._subplots.AxesSubplot at 0x7f6666f08c90>"
            ]
          },
          "metadata": {
            "tags": []
          },
          "execution_count": 10
        },
        {
          "output_type": "display_data",
          "data": {
            "image/png": "[encoded data removed]",
            "text/plain": [
              "<Figure size 432x288 with 1 Axes>"
            ]
          },
          "metadata": {
            "tags": [],
            "needs_background": "light"
          }
        }
      ]
    },
    {
      "cell_type": "markdown",
      "metadata": {
        "id": "j2WaEkUC9VQY"
      },
      "source": [
        "The plot does not show any low outliers. It seems these near dollar salaries is something normal?"
      ]
    },
    {
      "cell_type": "markdown",
      "metadata": {
        "id": "02jx8JId92U2"
      },
      "source": [
        "#Question 1"
      ]
    },
    {
      "cell_type": "markdown",
      "metadata": {
        "id": "v7s4aO2u_kZ9"
      },
      "source": [
        "What is the most profitable profession in the city system?\n",
        "\n",
        "Let's figure out who are the top earners and what their salary information is"
      ]
    },
    {
      "cell_type": "code",
      "metadata": {
        "colab": {
          "base_uri": "https://localhost:8080/",
          "height": 415
        },
        "id": "2C6Ke6gC-Mlo",
        "outputId": "61e64400-a0ae-47dd-adc7-e8e69b5473f2"
      },
      "source": [
        "df_comb[df_comb['Total Compensation'] > df_comb.quantile(0.99)[-1]][['Job', 'Total Compensation']]"
      ],
      "execution_count": 11,
      "outputs": [
        {
          "output_type": "execute_result",
          "data": {
            "text/html": [
              "<div>\n",
              "<style scoped>\n",
              "    .dataframe tbody tr th:only-of-type {\n",
              "        vertical-align: middle;\n",
              "    }\n",
              "\n",
              "    .dataframe tbody tr th {\n",
              "        vertical-align: top;\n",
              "    }\n",
              "\n",
              "    .dataframe thead th {\n",
              "        text-align: right;\n",
              "    }\n",
              "</style>\n",
              "<table border=\"1\" class=\"dataframe\">\n",
              "  <thead>\n",
              "    <tr style=\"text-align: right;\">\n",
              "      <th></th>\n",
              "      <th>Job</th>\n",
              "      <th>Total Compensation</th>\n",
              "    </tr>\n",
              "  </thead>\n",
              "  <tbody>\n",
              "    <tr>\n",
              "      <th>133</th>\n",
              "      <td>Senior Physician Specialist</td>\n",
              "      <td>297001.71</td>\n",
              "    </tr>\n",
              "    <tr>\n",
              "      <th>218</th>\n",
              "      <td>Senior Physician Specialist</td>\n",
              "      <td>305700.60</td>\n",
              "    </tr>\n",
              "    <tr>\n",
              "      <th>372</th>\n",
              "      <td>Battlion Chief, Fire Suppressi</td>\n",
              "      <td>302932.50</td>\n",
              "    </tr>\n",
              "    <tr>\n",
              "      <th>430</th>\n",
              "      <td>Dep Dir IV</td>\n",
              "      <td>321615.86</td>\n",
              "    </tr>\n",
              "    <tr>\n",
              "      <th>458</th>\n",
              "      <td>Nursing Supervisor Psychiatric</td>\n",
              "      <td>302958.02</td>\n",
              "    </tr>\n",
              "    <tr>\n",
              "      <th>...</th>\n",
              "      <td>...</td>\n",
              "      <td>...</td>\n",
              "    </tr>\n",
              "    <tr>\n",
              "      <th>291565</th>\n",
              "      <td>Supervising Physician Spec</td>\n",
              "      <td>293285.65</td>\n",
              "    </tr>\n",
              "    <tr>\n",
              "      <th>291666</th>\n",
              "      <td>Dept Head V</td>\n",
              "      <td>353667.55</td>\n",
              "    </tr>\n",
              "    <tr>\n",
              "      <th>291759</th>\n",
              "      <td>Firefighter</td>\n",
              "      <td>268339.50</td>\n",
              "    </tr>\n",
              "    <tr>\n",
              "      <th>291788</th>\n",
              "      <td>Anesthetist</td>\n",
              "      <td>359840.09</td>\n",
              "    </tr>\n",
              "    <tr>\n",
              "      <th>291819</th>\n",
              "      <td>Firefighter</td>\n",
              "      <td>268840.80</td>\n",
              "    </tr>\n",
              "  </tbody>\n",
              "</table>\n",
              "<p>2914 rows × 2 columns</p>\n",
              "</div>"
            ],
            "text/plain": [
              "                                   Job  Total Compensation\n",
              "133        Senior Physician Specialist           297001.71\n",
              "218        Senior Physician Specialist           305700.60\n",
              "372     Battlion Chief, Fire Suppressi           302932.50\n",
              "430                         Dep Dir IV           321615.86\n",
              "458     Nursing Supervisor Psychiatric           302958.02\n",
              "...                                ...                 ...\n",
              "291565      Supervising Physician Spec           293285.65\n",
              "291666                     Dept Head V           353667.55\n",
              "291759                     Firefighter           268339.50\n",
              "291788                     Anesthetist           359840.09\n",
              "291819                     Firefighter           268840.80\n",
              "\n",
              "[2914 rows x 2 columns]"
            ]
          },
          "metadata": {
            "tags": []
          },
          "execution_count": 11
        }
      ]
    },
    {
      "cell_type": "markdown",
      "metadata": {
        "id": "gWZMagbxilZK"
      },
      "source": [
        "The following jobs are the highest earners among SF city employees "
      ]
    },
    {
      "cell_type": "code",
      "metadata": {
        "colab": {
          "base_uri": "https://localhost:8080/"
        },
        "id": "6nszbGmbC-Y1",
        "outputId": "3b8c0700-8c65-4b00-a11f-1605ee6be537"
      },
      "source": [
        "df_comb[df_comb['Total Compensation'] > df_comb.quantile(0.99)[-1]]['Job'].unique()"
      ],
      "execution_count": 12,
      "outputs": [
        {
          "output_type": "execute_result",
          "data": {
            "text/plain": [
              "array(['Senior Physician Specialist', 'Battlion Chief, Fire Suppressi',\n",
              "       'Dep Dir IV', 'Nursing Supervisor Psychiatric', 'Police Officer 3',\n",
              "       'Lieutenant, Fire Suppression', 'Engineer',\n",
              "       'Captain, Emergency Med Svcs', 'Lieutenant 3',\n",
              "       'Assistant Deputy Chief 2', 'Captain, Fire Suppression',\n",
              "       'Assistant Chief Attorney 1', 'Captain 3',\n",
              "       'Head Atty, Civil & Criminal', 'Dept Head III', 'Manager VII',\n",
              "       'Dep Dir V', 'Manager VIII', 'Lieutenant 2', 'Commander 3',\n",
              "       'Sergeant 3', 'Asst Chf Of Dept (Fire Dept)', 'Dept Head IV',\n",
              "       'Inspector 3', 'EMT/Paramedic/Firefighter', 'Deputy Chief 3',\n",
              "       'Nurse Manager', 'Capt,Fire Prev Or Fire Invsgtn',\n",
              "       \"Sheriff's Sergeant\", 'Executive Contract Employee',\n",
              "       'Chief Deputy Sheriff', 'Nursing Supervisor', 'Nurse Practitioner',\n",
              "       'Anesthetist', 'Supervising Physician Spec', 'Firefighter',\n",
              "       'Dep Dir III', 'Deputy Sheriff', 'Sheriff (SFERS)', 'Manager VI',\n",
              "       'Dir Emp Relations Div', 'Mech Shop & Equip Supt',\n",
              "       'Incident Support Specialist', 'Police Officer',\n",
              "       'Human Resources Director', 'Assistant Chief Attorney 2',\n",
              "       'Attorney (Civil/Criminal)', 'Public Defender',\n",
              "       'Landscape Architect Assoc 2', \"Sheriff's Lieutenant\",\n",
              "       'District Attorney', 'Heating/Ventilating Inspector',\n",
              "       'Transit Supervisor', 'Dept Head V', 'Physician Specialist',\n",
              "       'Chief Atty1 (Civil & Criminal)', 'Asst Med Examiner',\n",
              "       'Dep Chf Of Dept (Fire Dept)', 'Undersheriff (SFERS)',\n",
              "       'Senior Deputy Sheriff', 'Track Maint Wrk Sprv 1', 'Electrician',\n",
              "       'Pilot Of Fire Boats', 'Emergency Medical Svcs Chief',\n",
              "       'Controller', 'Port Director', 'Police Officer 2',\n",
              "       'Cfdntal Chf Atty 2,(Cvl&Crmnl)', 'City Attorney',\n",
              "       'Adm, SFGH Medical Center', 'Chief Investment Officer',\n",
              "       'Manager, Department Of Public Health', 'Manager VIII, MTA',\n",
              "       'Dept Head I', 'Dept Head II', 'Deputy Dir I, MTA', 'Mayor',\n",
              "       'Forensic Toxicologist', 'Sergeant 2', 'Physician Assistant',\n",
              "       'Deputy Dir II, MTA', 'Manager V', 'Gen Mgr, Public Trnsp Dept',\n",
              "       'Pharmacist', 'Lieut,Fire Prev', 'Dep Dir For Investments, Ret',\n",
              "       'Special Assistant 22', 'Wire Rope Cable Maint Sprv',\n",
              "       \"Sheriff's Captain\", 'Insp, Fire Dept',\n",
              "       'Engineer/Architect Principal', 'Fire Safety Inspector 2',\n",
              "       'Court Executive Officer', 'Chief, Fire Department',\n",
              "       'Undersheriff', 'Mayoral Staff XVII', 'Clinical Nurse Specialist',\n",
              "       'Diagnostic Imaging Tech III',\n",
              "       'Administrator, Department Of Public Heal', 'Project Manager 4',\n",
              "       'Electrical Transit System Mech', 'Chief Adult Probation Officer',\n",
              "       'Electronic Maintenance Tech', 'Senior Personnel Analyst',\n",
              "       'Electrical Trnst Shop Sprv 1', 'Chf Prob Ofc, Juv Court',\n",
              "       'Eng/Arch/Landscape Arch Sr', 'Chief Of Police', 'Manager VI, MTA',\n",
              "       'Transit Operations Specialist', 'Director, Info Tech Group',\n",
              "       'Assistant Inspector 3', 'Transit Power Line Sprv1',\n",
              "       'Special Assistant 21', 'Senior Museum Registrar',\n",
              "       'Inspector, (Police Department)', 'Pub Safety Communication Coord',\n",
              "       'Marine Engineer Of Fire Boats', 'Electr Maint Tech Asst Sprv',\n",
              "       'Chief Adult Prob Offcr (SFERS)', 'Deputy Probation Officer'],\n",
              "      dtype=object)"
            ]
          },
          "metadata": {
            "tags": []
          },
          "execution_count": 12
        }
      ]
    },
    {
      "cell_type": "markdown",
      "metadata": {
        "id": "DB_7qj_DiyvW"
      },
      "source": [
        "Their total compensation"
      ]
    },
    {
      "cell_type": "code",
      "metadata": {
        "colab": {
          "base_uri": "https://localhost:8080/",
          "height": 571
        },
        "id": "TdmMOjtRAQS4",
        "outputId": "e317e407-1831-4b1a-cd32-63c0599c294b"
      },
      "source": [
        "top_1_per = df_comb[df_comb['Total Compensation'] > df_comb.quantile(0.99)[-1]][['Job', 'Total Compensation', 'Department', 'Total Salary', 'Total Benefits']].sort_values(by = 'Total Compensation', ascending = False)\r\n",
        "top_1_per"
      ],
      "execution_count": 13,
      "outputs": [
        {
          "output_type": "execute_result",
          "data": {
            "text/html": [
              "<div>\n",
              "<style scoped>\n",
              "    .dataframe tbody tr th:only-of-type {\n",
              "        vertical-align: middle;\n",
              "    }\n",
              "\n",
              "    .dataframe tbody tr th {\n",
              "        vertical-align: top;\n",
              "    }\n",
              "\n",
              "    .dataframe thead th {\n",
              "        text-align: right;\n",
              "    }\n",
              "</style>\n",
              "<table border=\"1\" class=\"dataframe\">\n",
              "  <thead>\n",
              "    <tr style=\"text-align: right;\">\n",
              "      <th></th>\n",
              "      <th>Job</th>\n",
              "      <th>Total Compensation</th>\n",
              "      <th>Department</th>\n",
              "      <th>Total Salary</th>\n",
              "      <th>Total Benefits</th>\n",
              "    </tr>\n",
              "  </thead>\n",
              "  <tbody>\n",
              "    <tr>\n",
              "      <th>219830</th>\n",
              "      <td>Chief Investment Officer</td>\n",
              "      <td>653498.15</td>\n",
              "      <td>Retirement System</td>\n",
              "      <td>515101.80</td>\n",
              "      <td>138396.35</td>\n",
              "    </tr>\n",
              "    <tr>\n",
              "      <th>36326</th>\n",
              "      <td>Chief Investment Officer</td>\n",
              "      <td>648875.24</td>\n",
              "      <td>Retirement System</td>\n",
              "      <td>507831.60</td>\n",
              "      <td>141043.64</td>\n",
              "    </tr>\n",
              "    <tr>\n",
              "      <th>267960</th>\n",
              "      <td>Deputy Chief 3</td>\n",
              "      <td>510574.44</td>\n",
              "      <td>Police</td>\n",
              "      <td>471952.64</td>\n",
              "      <td>38621.80</td>\n",
              "    </tr>\n",
              "    <tr>\n",
              "      <th>219896</th>\n",
              "      <td>Asst Med Examiner</td>\n",
              "      <td>497505.00</td>\n",
              "      <td>General Services Agency - City Admin</td>\n",
              "      <td>409892.62</td>\n",
              "      <td>87612.38</td>\n",
              "    </tr>\n",
              "    <tr>\n",
              "      <th>116381</th>\n",
              "      <td>Chief Investment Officer</td>\n",
              "      <td>495720.60</td>\n",
              "      <td>Retirement System</td>\n",
              "      <td>379201.70</td>\n",
              "      <td>116518.90</td>\n",
              "    </tr>\n",
              "    <tr>\n",
              "      <th>...</th>\n",
              "      <td>...</td>\n",
              "      <td>...</td>\n",
              "      <td>...</td>\n",
              "      <td>...</td>\n",
              "      <td>...</td>\n",
              "    </tr>\n",
              "    <tr>\n",
              "      <th>241882</th>\n",
              "      <td>Head Atty, Civil &amp; Criminal</td>\n",
              "      <td>266195.90</td>\n",
              "      <td>Public Defender</td>\n",
              "      <td>201935.52</td>\n",
              "      <td>64260.38</td>\n",
              "    </tr>\n",
              "    <tr>\n",
              "      <th>242100</th>\n",
              "      <td>Assistant Chief Attorney 2</td>\n",
              "      <td>266192.17</td>\n",
              "      <td>District Attorney</td>\n",
              "      <td>205687.51</td>\n",
              "      <td>60504.66</td>\n",
              "    </tr>\n",
              "    <tr>\n",
              "      <th>153362</th>\n",
              "      <td>Captain 3</td>\n",
              "      <td>266188.83</td>\n",
              "      <td>Police</td>\n",
              "      <td>207715.36</td>\n",
              "      <td>58473.47</td>\n",
              "    </tr>\n",
              "    <tr>\n",
              "      <th>5187</th>\n",
              "      <td>Sheriff's Sergeant</td>\n",
              "      <td>266157.46</td>\n",
              "      <td>Sheriff</td>\n",
              "      <td>212960.54</td>\n",
              "      <td>53196.92</td>\n",
              "    </tr>\n",
              "    <tr>\n",
              "      <th>180085</th>\n",
              "      <td>Head Atty, Civil &amp; Criminal</td>\n",
              "      <td>266127.73</td>\n",
              "      <td>District Attorney</td>\n",
              "      <td>204531.56</td>\n",
              "      <td>61596.17</td>\n",
              "    </tr>\n",
              "  </tbody>\n",
              "</table>\n",
              "<p>2914 rows × 5 columns</p>\n",
              "</div>"
            ],
            "text/plain": [
              "                                Job  ...  Total Benefits\n",
              "219830     Chief Investment Officer  ...       138396.35\n",
              "36326      Chief Investment Officer  ...       141043.64\n",
              "267960               Deputy Chief 3  ...        38621.80\n",
              "219896            Asst Med Examiner  ...        87612.38\n",
              "116381     Chief Investment Officer  ...       116518.90\n",
              "...                             ...  ...             ...\n",
              "241882  Head Atty, Civil & Criminal  ...        64260.38\n",
              "242100   Assistant Chief Attorney 2  ...        60504.66\n",
              "153362                    Captain 3  ...        58473.47\n",
              "5187             Sheriff's Sergeant  ...        53196.92\n",
              "180085  Head Atty, Civil & Criminal  ...        61596.17\n",
              "\n",
              "[2914 rows x 5 columns]"
            ]
          },
          "metadata": {
            "tags": []
          },
          "execution_count": 13
        }
      ]
    },
    {
      "cell_type": "markdown",
      "metadata": {
        "id": "nRmWMKhM62OY"
      },
      "source": [
        "What is the range of their salaries, benefits, and total compensation? "
      ]
    },
    {
      "cell_type": "code",
      "metadata": {
        "colab": {
          "base_uri": "https://localhost:8080/"
        },
        "id": "bWcfvY7w61sr",
        "outputId": "712f219f-c484-46a5-ca9c-56fa7bda951e"
      },
      "source": [
        "print('Total Compensations range from {} to {} for the top 1% of employees'.format(top_1_per['Total Compensation'].min(), top_1_per['Total Compensation'].max()))\r\n",
        "print('Total Salaries range from {} to {} for the top 1% of employees'.format(top_1_per['Total Salary'].min(), top_1_per['Total Salary'].max()))\r\n",
        "print('Total Benefits range from {} to {} for the top 1% of employees'.format(top_1_per['Total Benefits'].min(), top_1_per['Total Benefits'].max()))\r\n"
      ],
      "execution_count": 14,
      "outputs": [
        {
          "output_type": "stream",
          "text": [
            "Total Compensations range from 266127.73 to 653498.15 for the top 1% of employees\n",
            "Total Salaries range from 190333.34 to 515101.8 for the top 1% of employees\n",
            "Total Benefits range from 0.0 to 141043.64 for the top 1% of employees\n"
          ],
          "name": "stdout"
        }
      ]
    },
    {
      "cell_type": "markdown",
      "metadata": {
        "id": "OMTBQ6OSjH0Y"
      },
      "source": [
        "So what departments account for the most highest earners?"
      ]
    },
    {
      "cell_type": "code",
      "metadata": {
        "colab": {
          "base_uri": "https://localhost:8080/",
          "height": 458
        },
        "id": "HHWpNGKDjWdN",
        "outputId": "ef0f1303-96ec-4c1b-a262-aacc3c4590d0"
      },
      "source": [
        "top_1_per.groupby('Department')['Job'].count().plot(kind = 'bar', figsize=(20,10))"
      ],
      "execution_count": 15,
      "outputs": [
        {
          "output_type": "execute_result",
          "data": {
            "text/plain": [
              "<matplotlib.axes._subplots.AxesSubplot at 0x7f6666ed60d0>"
            ]
          },
          "metadata": {
            "tags": []
          },
          "execution_count": 15
        },
        {
          "output_type": "display_data",
          "data": {
            "image/png": "[encoded data removed]",
            "text/plain": [
              "<Figure size 1440x720 with 1 Axes>"
            ]
          },
          "metadata": {
            "tags": [],
            "needs_background": "light"
          }
        }
      ]
    },
    {
      "cell_type": "markdown",
      "metadata": {
        "id": "pVQwmflzlmAW"
      },
      "source": [
        "That's on top 1%. Let's look at the top 10 employees"
      ]
    },
    {
      "cell_type": "code",
      "metadata": {
        "colab": {
          "base_uri": "https://localhost:8080/",
          "height": 494
        },
        "id": "em8phtCbjPkv",
        "outputId": "2c29f09c-97b7-4cf0-ae42-62067315d44a"
      },
      "source": [
        "\r\n",
        "top_10 = df_comb.sort_values('Total Compensation', ascending= False).head(10).reset_index()\r\n",
        "top_10[['Job', 'Department', 'Total Compensation', 'Total Salary', 'Total Benefits']]"
      ],
      "execution_count": 16,
      "outputs": [
        {
          "output_type": "execute_result",
          "data": {
            "text/html": [
              "<div>\n",
              "<style scoped>\n",
              "    .dataframe tbody tr th:only-of-type {\n",
              "        vertical-align: middle;\n",
              "    }\n",
              "\n",
              "    .dataframe tbody tr th {\n",
              "        vertical-align: top;\n",
              "    }\n",
              "\n",
              "    .dataframe thead th {\n",
              "        text-align: right;\n",
              "    }\n",
              "</style>\n",
              "<table border=\"1\" class=\"dataframe\">\n",
              "  <thead>\n",
              "    <tr style=\"text-align: right;\">\n",
              "      <th></th>\n",
              "      <th>Job</th>\n",
              "      <th>Department</th>\n",
              "      <th>Total Compensation</th>\n",
              "      <th>Total Salary</th>\n",
              "      <th>Total Benefits</th>\n",
              "    </tr>\n",
              "  </thead>\n",
              "  <tbody>\n",
              "    <tr>\n",
              "      <th>0</th>\n",
              "      <td>Chief Investment Officer</td>\n",
              "      <td>Retirement System</td>\n",
              "      <td>653498.15</td>\n",
              "      <td>515101.80</td>\n",
              "      <td>138396.35</td>\n",
              "    </tr>\n",
              "    <tr>\n",
              "      <th>1</th>\n",
              "      <td>Chief Investment Officer</td>\n",
              "      <td>Retirement System</td>\n",
              "      <td>648875.24</td>\n",
              "      <td>507831.60</td>\n",
              "      <td>141043.64</td>\n",
              "    </tr>\n",
              "    <tr>\n",
              "      <th>2</th>\n",
              "      <td>Deputy Chief 3</td>\n",
              "      <td>Police</td>\n",
              "      <td>510574.44</td>\n",
              "      <td>471952.64</td>\n",
              "      <td>38621.80</td>\n",
              "    </tr>\n",
              "    <tr>\n",
              "      <th>3</th>\n",
              "      <td>Asst Med Examiner</td>\n",
              "      <td>General Services Agency - City Admin</td>\n",
              "      <td>497505.00</td>\n",
              "      <td>409892.62</td>\n",
              "      <td>87612.38</td>\n",
              "    </tr>\n",
              "    <tr>\n",
              "      <th>4</th>\n",
              "      <td>Chief Investment Officer</td>\n",
              "      <td>Retirement System</td>\n",
              "      <td>495720.60</td>\n",
              "      <td>379201.70</td>\n",
              "      <td>116518.90</td>\n",
              "    </tr>\n",
              "    <tr>\n",
              "      <th>5</th>\n",
              "      <td>Asst Med Examiner</td>\n",
              "      <td>General Services Agency - City Admin</td>\n",
              "      <td>480509.28</td>\n",
              "      <td>397574.04</td>\n",
              "      <td>82935.24</td>\n",
              "    </tr>\n",
              "    <tr>\n",
              "      <th>6</th>\n",
              "      <td>Chief Of Police</td>\n",
              "      <td>Police</td>\n",
              "      <td>466798.21</td>\n",
              "      <td>392721.50</td>\n",
              "      <td>74076.71</td>\n",
              "    </tr>\n",
              "    <tr>\n",
              "      <th>7</th>\n",
              "      <td>Asst Med Examiner</td>\n",
              "      <td>General Services Agency - City Admin</td>\n",
              "      <td>460271.32</td>\n",
              "      <td>373217.00</td>\n",
              "      <td>87054.32</td>\n",
              "    </tr>\n",
              "    <tr>\n",
              "      <th>8</th>\n",
              "      <td>Chief Investment Officer</td>\n",
              "      <td>Retirement System</td>\n",
              "      <td>445102.40</td>\n",
              "      <td>339653.70</td>\n",
              "      <td>105448.70</td>\n",
              "    </tr>\n",
              "    <tr>\n",
              "      <th>9</th>\n",
              "      <td>Deputy Chief 3</td>\n",
              "      <td>Police</td>\n",
              "      <td>438158.70</td>\n",
              "      <td>366487.20</td>\n",
              "      <td>71671.50</td>\n",
              "    </tr>\n",
              "  </tbody>\n",
              "</table>\n",
              "</div>"
            ],
            "text/plain": [
              "                        Job  ... Total Benefits\n",
              "0  Chief Investment Officer  ...      138396.35\n",
              "1  Chief Investment Officer  ...      141043.64\n",
              "2            Deputy Chief 3  ...       38621.80\n",
              "3         Asst Med Examiner  ...       87612.38\n",
              "4  Chief Investment Officer  ...      116518.90\n",
              "5         Asst Med Examiner  ...       82935.24\n",
              "6           Chief Of Police  ...       74076.71\n",
              "7         Asst Med Examiner  ...       87054.32\n",
              "8  Chief Investment Officer  ...      105448.70\n",
              "9            Deputy Chief 3  ...       71671.50\n",
              "\n",
              "[10 rows x 5 columns]"
            ]
          },
          "metadata": {
            "tags": []
          },
          "execution_count": 16
        }
      ]
    },
    {
      "cell_type": "code",
      "metadata": {
        "colab": {
          "base_uri": "https://localhost:8080/"
        },
        "id": "LM6YREbGIEso",
        "outputId": "5a1c6a79-525b-46f8-a052-07cb3cecbed9"
      },
      "source": [
        "print('Total Compensations range from {} to {} for the top 10 of employees'.format(top_10['Total Compensation'].min(), top_10['Total Compensation'].max()))\r\n",
        "print('Total Salaries range from {} to {} for the top 10 of employees'.format(top_10['Total Salary'].min(), top_10['Total Salary'].max()))\r\n",
        "print('Total Benefits range from {} to {} for the top 10 of employees'.format(top_10['Total Benefits'].min(), top_10['Total Benefits'].max()))"
      ],
      "execution_count": 17,
      "outputs": [
        {
          "output_type": "stream",
          "text": [
            "Total Compensations range from 438158.7 to 653498.15 for the top 10 of employees\n",
            "Total Salaries range from 339653.7 to 515101.8 for the top 10 of employees\n",
            "Total Benefits range from 38621.8 to 141043.64 for the top 10 of employees\n"
          ],
          "name": "stdout"
        }
      ]
    },
    {
      "cell_type": "markdown",
      "metadata": {
        "id": "qfh2BVIL-8cg"
      },
      "source": [
        "Which departments are employing our top 10?"
      ]
    },
    {
      "cell_type": "code",
      "metadata": {
        "colab": {
          "base_uri": "https://localhost:8080/",
          "height": 585
        },
        "id": "t7GFq3Vw_EnD",
        "outputId": "91919727-80bd-4f6b-b972-5d81482df4c9"
      },
      "source": [
        "top_10.groupby('Department')['Job'].count().plot(kind = 'bar', figsize=(6,6))\r\n"
      ],
      "execution_count": 18,
      "outputs": [
        {
          "output_type": "execute_result",
          "data": {
            "text/plain": [
              "<matplotlib.axes._subplots.AxesSubplot at 0x7f667b5c3b50>"
            ]
          },
          "metadata": {
            "tags": []
          },
          "execution_count": 18
        },
        {
          "output_type": "display_data",
          "data": {
            "image/png": "[encoded data removed]",
            "text/plain": [
              "<Figure size 432x432 with 1 Axes>"
            ]
          },
          "metadata": {
            "tags": [],
            "needs_background": "light"
          }
        }
      ]
    },
    {
      "cell_type": "markdown",
      "metadata": {
        "id": "5utam2KN_K4s"
      },
      "source": [
        "General Services Agency - City Admin, Police, and Retirement System employ top 10 highest earners in the city system"
      ]
    },
    {
      "cell_type": "markdown",
      "metadata": {
        "id": "wrTfzRPe-ihh"
      },
      "source": [
        "#Question 2"
      ]
    },
    {
      "cell_type": "markdown",
      "metadata": {
        "id": "pu8QfoU3__dR"
      },
      "source": [
        "Do people who earn more get higher percentage of their compensation in benefits than lower income?\r\n",
        "\r\n",
        "Let's focus on these three columns"
      ]
    },
    {
      "cell_type": "code",
      "metadata": {
        "colab": {
          "base_uri": "https://localhost:8080/",
          "height": 467
        },
        "id": "9y3rCz1r_Ns1",
        "outputId": "505d1db5-238c-4a92-8b17-5283bbbb6cfa"
      },
      "source": [
        "df_comb[['Job', 'Total Salary', 'Total Benefits', 'Total Compensation']]"
      ],
      "execution_count": 19,
      "outputs": [
        {
          "output_type": "execute_result",
          "data": {
            "text/html": [
              "<div>\n",
              "<style scoped>\n",
              "    .dataframe tbody tr th:only-of-type {\n",
              "        vertical-align: middle;\n",
              "    }\n",
              "\n",
              "    .dataframe tbody tr th {\n",
              "        vertical-align: top;\n",
              "    }\n",
              "\n",
              "    .dataframe thead th {\n",
              "        text-align: right;\n",
              "    }\n",
              "</style>\n",
              "<table border=\"1\" class=\"dataframe\">\n",
              "  <thead>\n",
              "    <tr style=\"text-align: right;\">\n",
              "      <th></th>\n",
              "      <th>Job</th>\n",
              "      <th>Total Salary</th>\n",
              "      <th>Total Benefits</th>\n",
              "      <th>Total Compensation</th>\n",
              "    </tr>\n",
              "  </thead>\n",
              "  <tbody>\n",
              "    <tr>\n",
              "      <th>0</th>\n",
              "      <td>Attorney (Civil/Criminal)</td>\n",
              "      <td>115973.16</td>\n",
              "      <td>43463.49</td>\n",
              "      <td>159436.65</td>\n",
              "    </tr>\n",
              "    <tr>\n",
              "      <th>1</th>\n",
              "      <td>Senior Management Assistant</td>\n",
              "      <td>84077.11</td>\n",
              "      <td>35976.94</td>\n",
              "      <td>120054.05</td>\n",
              "    </tr>\n",
              "    <tr>\n",
              "      <th>2</th>\n",
              "      <td>Eligibility Worker</td>\n",
              "      <td>10778.60</td>\n",
              "      <td>3090.04</td>\n",
              "      <td>13868.64</td>\n",
              "    </tr>\n",
              "    <tr>\n",
              "      <th>3</th>\n",
              "      <td>Dental Aide</td>\n",
              "      <td>2873.41</td>\n",
              "      <td>845.09</td>\n",
              "      <td>3718.50</td>\n",
              "    </tr>\n",
              "    <tr>\n",
              "      <th>4</th>\n",
              "      <td>Recreation Leader</td>\n",
              "      <td>6878.55</td>\n",
              "      <td>3250.09</td>\n",
              "      <td>10128.64</td>\n",
              "    </tr>\n",
              "    <tr>\n",
              "      <th>...</th>\n",
              "      <td>...</td>\n",
              "      <td>...</td>\n",
              "      <td>...</td>\n",
              "      <td>...</td>\n",
              "    </tr>\n",
              "    <tr>\n",
              "      <th>291820</th>\n",
              "      <td>Child Support Officer III</td>\n",
              "      <td>93905.01</td>\n",
              "      <td>39521.94</td>\n",
              "      <td>133426.95</td>\n",
              "    </tr>\n",
              "    <tr>\n",
              "      <th>291821</th>\n",
              "      <td>Medical Evaluations Assistant</td>\n",
              "      <td>64101.91</td>\n",
              "      <td>32013.46</td>\n",
              "      <td>96115.37</td>\n",
              "    </tr>\n",
              "    <tr>\n",
              "      <th>291822</th>\n",
              "      <td>Special Nurse</td>\n",
              "      <td>14165.38</td>\n",
              "      <td>2319.96</td>\n",
              "      <td>16485.34</td>\n",
              "    </tr>\n",
              "    <tr>\n",
              "      <th>291823</th>\n",
              "      <td>Psychiatric Social Worker</td>\n",
              "      <td>78865.86</td>\n",
              "      <td>34995.50</td>\n",
              "      <td>113861.36</td>\n",
              "    </tr>\n",
              "    <tr>\n",
              "      <th>291824</th>\n",
              "      <td>Transit Operator</td>\n",
              "      <td>5657.26</td>\n",
              "      <td>3137.49</td>\n",
              "      <td>8794.75</td>\n",
              "    </tr>\n",
              "  </tbody>\n",
              "</table>\n",
              "<p>291385 rows × 4 columns</p>\n",
              "</div>"
            ],
            "text/plain": [
              "                                  Job  ...  Total Compensation\n",
              "0           Attorney (Civil/Criminal)  ...           159436.65\n",
              "1         Senior Management Assistant  ...           120054.05\n",
              "2                  Eligibility Worker  ...            13868.64\n",
              "3                         Dental Aide  ...             3718.50\n",
              "4                   Recreation Leader  ...            10128.64\n",
              "...                               ...  ...                 ...\n",
              "291820      Child Support Officer III  ...           133426.95\n",
              "291821  Medical Evaluations Assistant  ...            96115.37\n",
              "291822                  Special Nurse  ...            16485.34\n",
              "291823      Psychiatric Social Worker  ...           113861.36\n",
              "291824               Transit Operator  ...             8794.75\n",
              "\n",
              "[291385 rows x 4 columns]"
            ]
          },
          "metadata": {
            "tags": []
          },
          "execution_count": 19
        }
      ]
    },
    {
      "cell_type": "code",
      "metadata": {
        "id": "6eVZn1XtBNpx"
      },
      "source": [
        "df_comb['Benefit Portion'] = df_comb['Total Benefits']/df_comb['Total Compensation']"
      ],
      "execution_count": 20,
      "outputs": []
    },
    {
      "cell_type": "code",
      "metadata": {
        "colab": {
          "base_uri": "https://localhost:8080/",
          "height": 519
        },
        "id": "74C-VBHTZ10y",
        "outputId": "ecb0ef9c-8086-467b-b00b-d2307436590a"
      },
      "source": [
        "df_comb[['Job', 'Total Salary', 'Total Benefits', 'Total Compensation', 'Benefit Portion']]"
      ],
      "execution_count": 21,
      "outputs": [
        {
          "output_type": "execute_result",
          "data": {
            "text/html": [
              "<div>\n",
              "<style scoped>\n",
              "    .dataframe tbody tr th:only-of-type {\n",
              "        vertical-align: middle;\n",
              "    }\n",
              "\n",
              "    .dataframe tbody tr th {\n",
              "        vertical-align: top;\n",
              "    }\n",
              "\n",
              "    .dataframe thead th {\n",
              "        text-align: right;\n",
              "    }\n",
              "</style>\n",
              "<table border=\"1\" class=\"dataframe\">\n",
              "  <thead>\n",
              "    <tr style=\"text-align: right;\">\n",
              "      <th></th>\n",
              "      <th>Job</th>\n",
              "      <th>Total Salary</th>\n",
              "      <th>Total Benefits</th>\n",
              "      <th>Total Compensation</th>\n",
              "      <th>Benefit Portion</th>\n",
              "    </tr>\n",
              "  </thead>\n",
              "  <tbody>\n",
              "    <tr>\n",
              "      <th>0</th>\n",
              "      <td>Attorney (Civil/Criminal)</td>\n",
              "      <td>115973.16</td>\n",
              "      <td>43463.49</td>\n",
              "      <td>159436.65</td>\n",
              "      <td>0.272607</td>\n",
              "    </tr>\n",
              "    <tr>\n",
              "      <th>1</th>\n",
              "      <td>Senior Management Assistant</td>\n",
              "      <td>84077.11</td>\n",
              "      <td>35976.94</td>\n",
              "      <td>120054.05</td>\n",
              "      <td>0.299673</td>\n",
              "    </tr>\n",
              "    <tr>\n",
              "      <th>2</th>\n",
              "      <td>Eligibility Worker</td>\n",
              "      <td>10778.60</td>\n",
              "      <td>3090.04</td>\n",
              "      <td>13868.64</td>\n",
              "      <td>0.222808</td>\n",
              "    </tr>\n",
              "    <tr>\n",
              "      <th>3</th>\n",
              "      <td>Dental Aide</td>\n",
              "      <td>2873.41</td>\n",
              "      <td>845.09</td>\n",
              "      <td>3718.50</td>\n",
              "      <td>0.227266</td>\n",
              "    </tr>\n",
              "    <tr>\n",
              "      <th>4</th>\n",
              "      <td>Recreation Leader</td>\n",
              "      <td>6878.55</td>\n",
              "      <td>3250.09</td>\n",
              "      <td>10128.64</td>\n",
              "      <td>0.320881</td>\n",
              "    </tr>\n",
              "    <tr>\n",
              "      <th>...</th>\n",
              "      <td>...</td>\n",
              "      <td>...</td>\n",
              "      <td>...</td>\n",
              "      <td>...</td>\n",
              "      <td>...</td>\n",
              "    </tr>\n",
              "    <tr>\n",
              "      <th>291820</th>\n",
              "      <td>Child Support Officer III</td>\n",
              "      <td>93905.01</td>\n",
              "      <td>39521.94</td>\n",
              "      <td>133426.95</td>\n",
              "      <td>0.296207</td>\n",
              "    </tr>\n",
              "    <tr>\n",
              "      <th>291821</th>\n",
              "      <td>Medical Evaluations Assistant</td>\n",
              "      <td>64101.91</td>\n",
              "      <td>32013.46</td>\n",
              "      <td>96115.37</td>\n",
              "      <td>0.333073</td>\n",
              "    </tr>\n",
              "    <tr>\n",
              "      <th>291822</th>\n",
              "      <td>Special Nurse</td>\n",
              "      <td>14165.38</td>\n",
              "      <td>2319.96</td>\n",
              "      <td>16485.34</td>\n",
              "      <td>0.140729</td>\n",
              "    </tr>\n",
              "    <tr>\n",
              "      <th>291823</th>\n",
              "      <td>Psychiatric Social Worker</td>\n",
              "      <td>78865.86</td>\n",
              "      <td>34995.50</td>\n",
              "      <td>113861.36</td>\n",
              "      <td>0.307352</td>\n",
              "    </tr>\n",
              "    <tr>\n",
              "      <th>291824</th>\n",
              "      <td>Transit Operator</td>\n",
              "      <td>5657.26</td>\n",
              "      <td>3137.49</td>\n",
              "      <td>8794.75</td>\n",
              "      <td>0.356746</td>\n",
              "    </tr>\n",
              "  </tbody>\n",
              "</table>\n",
              "<p>291385 rows × 5 columns</p>\n",
              "</div>"
            ],
            "text/plain": [
              "                                  Job  ...  Benefit Portion\n",
              "0           Attorney (Civil/Criminal)  ...         0.272607\n",
              "1         Senior Management Assistant  ...         0.299673\n",
              "2                  Eligibility Worker  ...         0.222808\n",
              "3                         Dental Aide  ...         0.227266\n",
              "4                   Recreation Leader  ...         0.320881\n",
              "...                               ...  ...              ...\n",
              "291820      Child Support Officer III  ...         0.296207\n",
              "291821  Medical Evaluations Assistant  ...         0.333073\n",
              "291822                  Special Nurse  ...         0.140729\n",
              "291823      Psychiatric Social Worker  ...         0.307352\n",
              "291824               Transit Operator  ...         0.356746\n",
              "\n",
              "[291385 rows x 5 columns]"
            ]
          },
          "metadata": {
            "tags": []
          },
          "execution_count": 21
        }
      ]
    },
    {
      "cell_type": "markdown",
      "metadata": {
        "id": "T63ps0qKihD4"
      },
      "source": [
        "For the sake of this question, we would drop everyone whose benefit portion is less then zero"
      ]
    },
    {
      "cell_type": "code",
      "metadata": {
        "id": "cn-C_0RCh4UI"
      },
      "source": [
        "df_q2 = df_comb[df_comb['Benefit Portion'] >= 0]"
      ],
      "execution_count": 22,
      "outputs": []
    },
    {
      "cell_type": "markdown",
      "metadata": {
        "id": "751z6fOEC1Dl"
      },
      "source": [
        "What is the mean benefit portion across the city?"
      ]
    },
    {
      "cell_type": "code",
      "metadata": {
        "colab": {
          "base_uri": "https://localhost:8080/"
        },
        "id": "1Q2_bFbeaPD2",
        "outputId": "c0099b80-6467-4f44-da27-e8511a1d88e8"
      },
      "source": [
        "df_q2['Benefit Portion'].mean()"
      ],
      "execution_count": 23,
      "outputs": [
        {
          "output_type": "execute_result",
          "data": {
            "text/plain": [
              "0.2797732424525513"
            ]
          },
          "metadata": {
            "tags": []
          },
          "execution_count": 23
        }
      ]
    },
    {
      "cell_type": "code",
      "metadata": {
        "colab": {
          "base_uri": "https://localhost:8080/"
        },
        "id": "TpVTkaOmn3am",
        "outputId": "bcfeee1b-d3d8-42df-f287-1233408ad714"
      },
      "source": [
        "print('Benefit portions range from {} to {} for all employees'\r\n",
        ".format(df_q2['Benefit Portion'].min(), df_q2['Benefit Portion'].max()))\r\n",
        "\r\n"
      ],
      "execution_count": 24,
      "outputs": [
        {
          "output_type": "stream",
          "text": [
            "Benefit portions range from 0.0 to 0.9798488664987406 for all employees\n"
          ],
          "name": "stdout"
        }
      ]
    },
    {
      "cell_type": "markdown",
      "metadata": {
        "id": "jy5svTHFDho3"
      },
      "source": [
        "How about benefits for the top 1%"
      ]
    },
    {
      "cell_type": "code",
      "metadata": {
        "colab": {
          "base_uri": "https://localhost:8080/",
          "height": 519
        },
        "id": "I7KcOgyfykuz",
        "outputId": "0308ac6a-1766-47ce-e1cc-8bc6a2e1258d"
      },
      "source": [
        "top_1_per_ben = df_q2[df_q2['Total Compensation'] > df_q2.quantile(0.99)[-2]][['Job', 'Total Salary', 'Total Benefits', 'Total Compensation', 'Benefit Portion']]\r\n",
        "top_1_per_ben"
      ],
      "execution_count": 25,
      "outputs": [
        {
          "output_type": "execute_result",
          "data": {
            "text/html": [
              "<div>\n",
              "<style scoped>\n",
              "    .dataframe tbody tr th:only-of-type {\n",
              "        vertical-align: middle;\n",
              "    }\n",
              "\n",
              "    .dataframe tbody tr th {\n",
              "        vertical-align: top;\n",
              "    }\n",
              "\n",
              "    .dataframe thead th {\n",
              "        text-align: right;\n",
              "    }\n",
              "</style>\n",
              "<table border=\"1\" class=\"dataframe\">\n",
              "  <thead>\n",
              "    <tr style=\"text-align: right;\">\n",
              "      <th></th>\n",
              "      <th>Job</th>\n",
              "      <th>Total Salary</th>\n",
              "      <th>Total Benefits</th>\n",
              "      <th>Total Compensation</th>\n",
              "      <th>Benefit Portion</th>\n",
              "    </tr>\n",
              "  </thead>\n",
              "  <tbody>\n",
              "    <tr>\n",
              "      <th>133</th>\n",
              "      <td>Senior Physician Specialist</td>\n",
              "      <td>223357.02</td>\n",
              "      <td>73644.69</td>\n",
              "      <td>297001.71</td>\n",
              "      <td>0.247960</td>\n",
              "    </tr>\n",
              "    <tr>\n",
              "      <th>218</th>\n",
              "      <td>Senior Physician Specialist</td>\n",
              "      <td>234432.76</td>\n",
              "      <td>71267.84</td>\n",
              "      <td>305700.60</td>\n",
              "      <td>0.233130</td>\n",
              "    </tr>\n",
              "    <tr>\n",
              "      <th>372</th>\n",
              "      <td>Battlion Chief, Fire Suppressi</td>\n",
              "      <td>245676.76</td>\n",
              "      <td>57255.74</td>\n",
              "      <td>302932.50</td>\n",
              "      <td>0.189005</td>\n",
              "    </tr>\n",
              "    <tr>\n",
              "      <th>430</th>\n",
              "      <td>Dep Dir IV</td>\n",
              "      <td>240727.00</td>\n",
              "      <td>80888.86</td>\n",
              "      <td>321615.86</td>\n",
              "      <td>0.251508</td>\n",
              "    </tr>\n",
              "    <tr>\n",
              "      <th>458</th>\n",
              "      <td>Nursing Supervisor Psychiatric</td>\n",
              "      <td>236573.12</td>\n",
              "      <td>66384.90</td>\n",
              "      <td>302958.02</td>\n",
              "      <td>0.219122</td>\n",
              "    </tr>\n",
              "    <tr>\n",
              "      <th>...</th>\n",
              "      <td>...</td>\n",
              "      <td>...</td>\n",
              "      <td>...</td>\n",
              "      <td>...</td>\n",
              "      <td>...</td>\n",
              "    </tr>\n",
              "    <tr>\n",
              "      <th>291565</th>\n",
              "      <td>Supervising Physician Spec</td>\n",
              "      <td>225896.50</td>\n",
              "      <td>67389.15</td>\n",
              "      <td>293285.65</td>\n",
              "      <td>0.229773</td>\n",
              "    </tr>\n",
              "    <tr>\n",
              "      <th>291666</th>\n",
              "      <td>Dept Head V</td>\n",
              "      <td>267936.60</td>\n",
              "      <td>85730.95</td>\n",
              "      <td>353667.55</td>\n",
              "      <td>0.242405</td>\n",
              "    </tr>\n",
              "    <tr>\n",
              "      <th>291759</th>\n",
              "      <td>Firefighter</td>\n",
              "      <td>223145.78</td>\n",
              "      <td>45193.72</td>\n",
              "      <td>268339.50</td>\n",
              "      <td>0.168420</td>\n",
              "    </tr>\n",
              "    <tr>\n",
              "      <th>291788</th>\n",
              "      <td>Anesthetist</td>\n",
              "      <td>279965.08</td>\n",
              "      <td>79875.01</td>\n",
              "      <td>359840.09</td>\n",
              "      <td>0.221974</td>\n",
              "    </tr>\n",
              "    <tr>\n",
              "      <th>291819</th>\n",
              "      <td>Firefighter</td>\n",
              "      <td>226289.54</td>\n",
              "      <td>42551.26</td>\n",
              "      <td>268840.80</td>\n",
              "      <td>0.158277</td>\n",
              "    </tr>\n",
              "  </tbody>\n",
              "</table>\n",
              "<p>2912 rows × 5 columns</p>\n",
              "</div>"
            ],
            "text/plain": [
              "                                   Job  ...  Benefit Portion\n",
              "133        Senior Physician Specialist  ...         0.247960\n",
              "218        Senior Physician Specialist  ...         0.233130\n",
              "372     Battlion Chief, Fire Suppressi  ...         0.189005\n",
              "430                         Dep Dir IV  ...         0.251508\n",
              "458     Nursing Supervisor Psychiatric  ...         0.219122\n",
              "...                                ...  ...              ...\n",
              "291565      Supervising Physician Spec  ...         0.229773\n",
              "291666                     Dept Head V  ...         0.242405\n",
              "291759                     Firefighter  ...         0.168420\n",
              "291788                     Anesthetist  ...         0.221974\n",
              "291819                     Firefighter  ...         0.158277\n",
              "\n",
              "[2912 rows x 5 columns]"
            ]
          },
          "metadata": {
            "tags": []
          },
          "execution_count": 25
        }
      ]
    },
    {
      "cell_type": "code",
      "metadata": {
        "colab": {
          "base_uri": "https://localhost:8080/"
        },
        "id": "Del10tWkEvcU",
        "outputId": "1fa89dac-650f-48cf-a7b4-7b215fc99e23"
      },
      "source": [
        "top_1_per_ben['Benefit Portion'].mean()"
      ],
      "execution_count": 26,
      "outputs": [
        {
          "output_type": "execute_result",
          "data": {
            "text/plain": [
              "0.21044150693057784"
            ]
          },
          "metadata": {
            "tags": []
          },
          "execution_count": 26
        }
      ]
    },
    {
      "cell_type": "markdown",
      "metadata": {
        "id": "oMlYPXYqE3p0"
      },
      "source": [
        "Let's compare this percentage to the bottom 25% of employees"
      ]
    },
    {
      "cell_type": "code",
      "metadata": {
        "colab": {
          "base_uri": "https://localhost:8080/",
          "height": 467
        },
        "id": "QYmulsIdFG7q",
        "outputId": "4cc1127a-465d-42a5-d8ba-2493c27aa7e6"
      },
      "source": [
        "bot_25_per_ben = df_q2[df_q2['Total Compensation'] < df_q2.quantile(0.25)[-2]][['Job', 'Total Salary', 'Total Benefits', 'Total Compensation', 'Benefit Portion']]\r\n",
        "bot_25_per_ben"
      ],
      "execution_count": 27,
      "outputs": [
        {
          "output_type": "execute_result",
          "data": {
            "text/html": [
              "<div>\n",
              "<style scoped>\n",
              "    .dataframe tbody tr th:only-of-type {\n",
              "        vertical-align: middle;\n",
              "    }\n",
              "\n",
              "    .dataframe tbody tr th {\n",
              "        vertical-align: top;\n",
              "    }\n",
              "\n",
              "    .dataframe thead th {\n",
              "        text-align: right;\n",
              "    }\n",
              "</style>\n",
              "<table border=\"1\" class=\"dataframe\">\n",
              "  <thead>\n",
              "    <tr style=\"text-align: right;\">\n",
              "      <th></th>\n",
              "      <th>Job</th>\n",
              "      <th>Total Salary</th>\n",
              "      <th>Total Benefits</th>\n",
              "      <th>Total Compensation</th>\n",
              "      <th>Benefit Portion</th>\n",
              "    </tr>\n",
              "  </thead>\n",
              "  <tbody>\n",
              "    <tr>\n",
              "      <th>2</th>\n",
              "      <td>Eligibility Worker</td>\n",
              "      <td>10778.60</td>\n",
              "      <td>3090.04</td>\n",
              "      <td>13868.64</td>\n",
              "      <td>0.222808</td>\n",
              "    </tr>\n",
              "    <tr>\n",
              "      <th>3</th>\n",
              "      <td>Dental Aide</td>\n",
              "      <td>2873.41</td>\n",
              "      <td>845.09</td>\n",
              "      <td>3718.50</td>\n",
              "      <td>0.227266</td>\n",
              "    </tr>\n",
              "    <tr>\n",
              "      <th>4</th>\n",
              "      <td>Recreation Leader</td>\n",
              "      <td>6878.55</td>\n",
              "      <td>3250.09</td>\n",
              "      <td>10128.64</td>\n",
              "      <td>0.320881</td>\n",
              "    </tr>\n",
              "    <tr>\n",
              "      <th>10</th>\n",
              "      <td>Publ Svc Aide-Asst To Prof</td>\n",
              "      <td>7091.33</td>\n",
              "      <td>2910.83</td>\n",
              "      <td>10002.16</td>\n",
              "      <td>0.291020</td>\n",
              "    </tr>\n",
              "    <tr>\n",
              "      <th>23</th>\n",
              "      <td>Special Nurse</td>\n",
              "      <td>852.23</td>\n",
              "      <td>3081.98</td>\n",
              "      <td>3934.21</td>\n",
              "      <td>0.783380</td>\n",
              "    </tr>\n",
              "    <tr>\n",
              "      <th>...</th>\n",
              "      <td>...</td>\n",
              "      <td>...</td>\n",
              "      <td>...</td>\n",
              "      <td>...</td>\n",
              "      <td>...</td>\n",
              "    </tr>\n",
              "    <tr>\n",
              "      <th>291807</th>\n",
              "      <td>Publ Svc Aide-Asst To Prof</td>\n",
              "      <td>6418.08</td>\n",
              "      <td>2523.32</td>\n",
              "      <td>8941.40</td>\n",
              "      <td>0.282206</td>\n",
              "    </tr>\n",
              "    <tr>\n",
              "      <th>291811</th>\n",
              "      <td>Recreation Leader</td>\n",
              "      <td>17889.15</td>\n",
              "      <td>8089.54</td>\n",
              "      <td>25978.69</td>\n",
              "      <td>0.311391</td>\n",
              "    </tr>\n",
              "    <tr>\n",
              "      <th>291817</th>\n",
              "      <td>Recreation Leader</td>\n",
              "      <td>760.96</td>\n",
              "      <td>352.10</td>\n",
              "      <td>1113.06</td>\n",
              "      <td>0.316335</td>\n",
              "    </tr>\n",
              "    <tr>\n",
              "      <th>291822</th>\n",
              "      <td>Special Nurse</td>\n",
              "      <td>14165.38</td>\n",
              "      <td>2319.96</td>\n",
              "      <td>16485.34</td>\n",
              "      <td>0.140729</td>\n",
              "    </tr>\n",
              "    <tr>\n",
              "      <th>291824</th>\n",
              "      <td>Transit Operator</td>\n",
              "      <td>5657.26</td>\n",
              "      <td>3137.49</td>\n",
              "      <td>8794.75</td>\n",
              "      <td>0.356746</td>\n",
              "    </tr>\n",
              "  </tbody>\n",
              "</table>\n",
              "<p>72795 rows × 5 columns</p>\n",
              "</div>"
            ],
            "text/plain": [
              "                               Job  ...  Benefit Portion\n",
              "2               Eligibility Worker  ...         0.222808\n",
              "3                      Dental Aide  ...         0.227266\n",
              "4                Recreation Leader  ...         0.320881\n",
              "10      Publ Svc Aide-Asst To Prof  ...         0.291020\n",
              "23                   Special Nurse  ...         0.783380\n",
              "...                            ...  ...              ...\n",
              "291807  Publ Svc Aide-Asst To Prof  ...         0.282206\n",
              "291811           Recreation Leader  ...         0.311391\n",
              "291817           Recreation Leader  ...         0.316335\n",
              "291822               Special Nurse  ...         0.140729\n",
              "291824            Transit Operator  ...         0.356746\n",
              "\n",
              "[72795 rows x 5 columns]"
            ]
          },
          "metadata": {
            "tags": []
          },
          "execution_count": 27
        }
      ]
    },
    {
      "cell_type": "code",
      "metadata": {
        "colab": {
          "base_uri": "https://localhost:8080/"
        },
        "id": "yPA3Hw-XFPuN",
        "outputId": "66f75dac-9eb2-4bfc-fe30-54e8603d30df"
      },
      "source": [
        "bot_25_per_ben['Benefit Portion'].mean()"
      ],
      "execution_count": 28,
      "outputs": [
        {
          "output_type": "execute_result",
          "data": {
            "text/plain": [
              "0.2746776562666851"
            ]
          },
          "metadata": {
            "tags": []
          },
          "execution_count": 28
        }
      ]
    },
    {
      "cell_type": "code",
      "metadata": {
        "colab": {
          "base_uri": "https://localhost:8080/",
          "height": 284
        },
        "id": "ZngqdKPmVtOC",
        "outputId": "0b202ce5-2926-4862-9730-c30ecb18b636"
      },
      "source": [
        "df_q2.plot.scatter(x = 'Total Compensation', y = 'Benefit Portion', figsize=(16,6))\r\n",
        "plt.ylim(0, 1)\r\n"
      ],
      "execution_count": 29,
      "outputs": [
        {
          "output_type": "execute_result",
          "data": {
            "text/plain": [
              "(0.0, 1.0)"
            ]
          },
          "metadata": {
            "tags": []
          },
          "execution_count": 29
        },
        {
          "output_type": "display_data",
          "data": {
            "image/png": "[encoded data removed]",
            "text/plain": [
              "<Figure size 1152x432 with 1 Axes>"
            ]
          },
          "metadata": {
            "tags": [],
            "needs_background": "light"
          }
        }
      ]
    },
    {
      "cell_type": "code",
      "metadata": {
        "id": "ssKfRkOAYaZJ"
      },
      "source": [
        "mean_sal = []\r\n",
        "for bin in list(range(0, 100, 10)):\r\n",
        "  tmp = df_q2[(df_q2['Total Compensation'] > df_q2.quantile(bin/100)[-2]) & (df_q2['Total Compensation'] < df_q2.quantile((bin+10)/100)[-2])]['Benefit Portion']\r\n",
        "  mean_sal.append(tmp.mean())"
      ],
      "execution_count": 30,
      "outputs": []
    },
    {
      "cell_type": "code",
      "metadata": {
        "colab": {
          "base_uri": "https://localhost:8080/",
          "height": 355
        },
        "id": "30Cszx0nfW4Z",
        "outputId": "cb2998b3-bb01-410e-bc2b-3802a46bce98"
      },
      "source": [
        "percentiles = pd.DataFrame(data=[list(range(0, 100, 10)), mean_sal]).transpose()\r\n",
        "percentiles.columns = ['Percentile', 'Benefit Portion']\r\n",
        "percentiles"
      ],
      "execution_count": 31,
      "outputs": [
        {
          "output_type": "execute_result",
          "data": {
            "text/html": [
              "<div>\n",
              "<style scoped>\n",
              "    .dataframe tbody tr th:only-of-type {\n",
              "        vertical-align: middle;\n",
              "    }\n",
              "\n",
              "    .dataframe tbody tr th {\n",
              "        vertical-align: top;\n",
              "    }\n",
              "\n",
              "    .dataframe thead th {\n",
              "        text-align: right;\n",
              "    }\n",
              "</style>\n",
              "<table border=\"1\" class=\"dataframe\">\n",
              "  <thead>\n",
              "    <tr style=\"text-align: right;\">\n",
              "      <th></th>\n",
              "      <th>Percentile</th>\n",
              "      <th>Benefit Portion</th>\n",
              "    </tr>\n",
              "  </thead>\n",
              "  <tbody>\n",
              "    <tr>\n",
              "      <th>0</th>\n",
              "      <td>0.0</td>\n",
              "      <td>0.266955</td>\n",
              "    </tr>\n",
              "    <tr>\n",
              "      <th>1</th>\n",
              "      <td>10.0</td>\n",
              "      <td>0.278041</td>\n",
              "    </tr>\n",
              "    <tr>\n",
              "      <th>2</th>\n",
              "      <td>20.0</td>\n",
              "      <td>0.286093</td>\n",
              "    </tr>\n",
              "    <tr>\n",
              "      <th>3</th>\n",
              "      <td>30.0</td>\n",
              "      <td>0.304642</td>\n",
              "    </tr>\n",
              "    <tr>\n",
              "      <th>4</th>\n",
              "      <td>40.0</td>\n",
              "      <td>0.315846</td>\n",
              "    </tr>\n",
              "    <tr>\n",
              "      <th>5</th>\n",
              "      <td>50.0</td>\n",
              "      <td>0.303651</td>\n",
              "    </tr>\n",
              "    <tr>\n",
              "      <th>6</th>\n",
              "      <td>60.0</td>\n",
              "      <td>0.290746</td>\n",
              "    </tr>\n",
              "    <tr>\n",
              "      <th>7</th>\n",
              "      <td>70.0</td>\n",
              "      <td>0.272958</td>\n",
              "    </tr>\n",
              "    <tr>\n",
              "      <th>8</th>\n",
              "      <td>80.0</td>\n",
              "      <td>0.252156</td>\n",
              "    </tr>\n",
              "    <tr>\n",
              "      <th>9</th>\n",
              "      <td>90.0</td>\n",
              "      <td>0.226653</td>\n",
              "    </tr>\n",
              "  </tbody>\n",
              "</table>\n",
              "</div>"
            ],
            "text/plain": [
              "   Percentile  Benefit Portion\n",
              "0         0.0         0.266955\n",
              "1        10.0         0.278041\n",
              "2        20.0         0.286093\n",
              "3        30.0         0.304642\n",
              "4        40.0         0.315846\n",
              "5        50.0         0.303651\n",
              "6        60.0         0.290746\n",
              "7        70.0         0.272958\n",
              "8        80.0         0.252156\n",
              "9        90.0         0.226653"
            ]
          },
          "metadata": {
            "tags": []
          },
          "execution_count": 31
        }
      ]
    },
    {
      "cell_type": "code",
      "metadata": {
        "colab": {
          "base_uri": "https://localhost:8080/",
          "height": 285
        },
        "id": "6VEhoAAzYY-M",
        "outputId": "76166e65-feb9-4c24-9ae4-910d420a8cd4"
      },
      "source": [
        "percentiles.plot(x = 'Percentile', y = 'Benefit Portion', figsize=(16,6))\r\n"
      ],
      "execution_count": 32,
      "outputs": [
        {
          "output_type": "execute_result",
          "data": {
            "text/plain": [
              "<matplotlib.axes._subplots.AxesSubplot at 0x7f6666ef3610>"
            ]
          },
          "metadata": {
            "tags": []
          },
          "execution_count": 32
        },
        {
          "output_type": "display_data",
          "data": {
            "image/png": "[encoded data removed]",
            "text/plain": [
              "<Figure size 1152x432 with 1 Axes>"
            ]
          },
          "metadata": {
            "tags": [],
            "needs_background": "light"
          }
        }
      ]
    },
    {
      "cell_type": "markdown",
      "metadata": {
        "id": "_-iKlamHFVPt"
      },
      "source": [
        "It appears that at the bottom percentiles people tend to receive very little benefits, that are small even compared to a small salary. At 50-ish percentiles, people tend to receive a standard package of benefits, which could make up a large portion of one's total compensation since the salary is still not very significant. While the highest percentiles receive so much compensation that even better-than-standard benefits package is much smaller than the paycheck."
      ]
    },
    {
      "cell_type": "markdown",
      "metadata": {
        "id": "6V_TVGEkIL0G"
      },
      "source": [
        "#Question 3"
      ]
    },
    {
      "cell_type": "markdown",
      "metadata": {
        "id": "etUrzpBfIONS"
      },
      "source": [
        "Do people who work overtime tend to earn more or less than average?\r\n",
        "\r\n",
        "Let's take a look at overtime column"
      ]
    },
    {
      "cell_type": "code",
      "metadata": {
        "colab": {
          "base_uri": "https://localhost:8080/",
          "height": 415
        },
        "id": "kylnnrF4IhRb",
        "outputId": "f860eff5-6c26-46ff-d33f-bc3c0f8ae85f"
      },
      "source": [
        "df_comb[['Job', 'Total Compensation', 'Overtime']]"
      ],
      "execution_count": 33,
      "outputs": [
        {
          "output_type": "execute_result",
          "data": {
            "text/html": [
              "<div>\n",
              "<style scoped>\n",
              "    .dataframe tbody tr th:only-of-type {\n",
              "        vertical-align: middle;\n",
              "    }\n",
              "\n",
              "    .dataframe tbody tr th {\n",
              "        vertical-align: top;\n",
              "    }\n",
              "\n",
              "    .dataframe thead th {\n",
              "        text-align: right;\n",
              "    }\n",
              "</style>\n",
              "<table border=\"1\" class=\"dataframe\">\n",
              "  <thead>\n",
              "    <tr style=\"text-align: right;\">\n",
              "      <th></th>\n",
              "      <th>Job</th>\n",
              "      <th>Total Compensation</th>\n",
              "      <th>Overtime</th>\n",
              "    </tr>\n",
              "  </thead>\n",
              "  <tbody>\n",
              "    <tr>\n",
              "      <th>0</th>\n",
              "      <td>Attorney (Civil/Criminal)</td>\n",
              "      <td>159436.65</td>\n",
              "      <td>0.00</td>\n",
              "    </tr>\n",
              "    <tr>\n",
              "      <th>1</th>\n",
              "      <td>Senior Management Assistant</td>\n",
              "      <td>120054.05</td>\n",
              "      <td>0.00</td>\n",
              "    </tr>\n",
              "    <tr>\n",
              "      <th>2</th>\n",
              "      <td>Eligibility Worker</td>\n",
              "      <td>13868.64</td>\n",
              "      <td>0.00</td>\n",
              "    </tr>\n",
              "    <tr>\n",
              "      <th>3</th>\n",
              "      <td>Dental Aide</td>\n",
              "      <td>3718.50</td>\n",
              "      <td>0.00</td>\n",
              "    </tr>\n",
              "    <tr>\n",
              "      <th>4</th>\n",
              "      <td>Recreation Leader</td>\n",
              "      <td>10128.64</td>\n",
              "      <td>0.00</td>\n",
              "    </tr>\n",
              "    <tr>\n",
              "      <th>...</th>\n",
              "      <td>...</td>\n",
              "      <td>...</td>\n",
              "      <td>...</td>\n",
              "    </tr>\n",
              "    <tr>\n",
              "      <th>291820</th>\n",
              "      <td>Child Support Officer III</td>\n",
              "      <td>133426.95</td>\n",
              "      <td>0.00</td>\n",
              "    </tr>\n",
              "    <tr>\n",
              "      <th>291821</th>\n",
              "      <td>Medical Evaluations Assistant</td>\n",
              "      <td>96115.37</td>\n",
              "      <td>0.00</td>\n",
              "    </tr>\n",
              "    <tr>\n",
              "      <th>291822</th>\n",
              "      <td>Special Nurse</td>\n",
              "      <td>16485.34</td>\n",
              "      <td>0.00</td>\n",
              "    </tr>\n",
              "    <tr>\n",
              "      <th>291823</th>\n",
              "      <td>Psychiatric Social Worker</td>\n",
              "      <td>113861.36</td>\n",
              "      <td>0.00</td>\n",
              "    </tr>\n",
              "    <tr>\n",
              "      <th>291824</th>\n",
              "      <td>Transit Operator</td>\n",
              "      <td>8794.75</td>\n",
              "      <td>1258.02</td>\n",
              "    </tr>\n",
              "  </tbody>\n",
              "</table>\n",
              "<p>291385 rows × 3 columns</p>\n",
              "</div>"
            ],
            "text/plain": [
              "                                  Job  Total Compensation  Overtime\n",
              "0           Attorney (Civil/Criminal)           159436.65      0.00\n",
              "1         Senior Management Assistant           120054.05      0.00\n",
              "2                  Eligibility Worker            13868.64      0.00\n",
              "3                         Dental Aide             3718.50      0.00\n",
              "4                   Recreation Leader            10128.64      0.00\n",
              "...                               ...                 ...       ...\n",
              "291820      Child Support Officer III           133426.95      0.00\n",
              "291821  Medical Evaluations Assistant            96115.37      0.00\n",
              "291822                  Special Nurse            16485.34      0.00\n",
              "291823      Psychiatric Social Worker           113861.36      0.00\n",
              "291824               Transit Operator             8794.75   1258.02\n",
              "\n",
              "[291385 rows x 3 columns]"
            ]
          },
          "metadata": {
            "tags": []
          },
          "execution_count": 33
        }
      ]
    },
    {
      "cell_type": "markdown",
      "metadata": {
        "id": "2m9JTUrhIzy7"
      },
      "source": [
        "First of all what is the average amount for overtime and compensation?"
      ]
    },
    {
      "cell_type": "code",
      "metadata": {
        "colab": {
          "base_uri": "https://localhost:8080/"
        },
        "id": "en6WQZQ5I74G",
        "outputId": "4f67cf2a-5b75-4fb9-95fd-e80b5c8bc148"
      },
      "source": [
        "df_comb[['Total Compensation', 'Overtime']].mean()"
      ],
      "execution_count": 34,
      "outputs": [
        {
          "output_type": "execute_result",
          "data": {
            "text/plain": [
              "Total Compensation    98050.401754\n",
              "Overtime               4413.530452\n",
              "dtype: float64"
            ]
          },
          "metadata": {
            "tags": []
          },
          "execution_count": 34
        }
      ]
    },
    {
      "cell_type": "markdown",
      "metadata": {
        "id": "FeYD05vUJFQ3"
      },
      "source": [
        "It appears people on average people do work overtime. How if that is overtime for the entire year, how much is it for the month? "
      ]
    },
    {
      "cell_type": "code",
      "metadata": {
        "colab": {
          "base_uri": "https://localhost:8080/"
        },
        "id": "ZhR1zLmNMsxL",
        "outputId": "ef241f7a-fc37-42f6-84c6-61a785a32d63"
      },
      "source": [
        "df_comb[['Total Compensation', 'Overtime']].mean()/12\r\n"
      ],
      "execution_count": 35,
      "outputs": [
        {
          "output_type": "execute_result",
          "data": {
            "text/plain": [
              "Total Compensation    8170.866813\n",
              "Overtime               367.794204\n",
              "dtype: float64"
            ]
          },
          "metadata": {
            "tags": []
          },
          "execution_count": 35
        }
      ]
    },
    {
      "cell_type": "code",
      "metadata": {
        "colab": {
          "base_uri": "https://localhost:8080/",
          "height": 276
        },
        "id": "6kBpPhEMM3xl",
        "outputId": "23d04544-2fdf-4941-9d3e-1efc0846b4b9"
      },
      "source": [
        "df_comb.plot.scatter(x = 'Total Compensation', y = 'Overtime', figsize=(16,6))"
      ],
      "execution_count": 36,
      "outputs": [
        {
          "output_type": "execute_result",
          "data": {
            "text/plain": [
              "<matplotlib.axes._subplots.AxesSubplot at 0x7f6667eee610>"
            ]
          },
          "metadata": {
            "tags": []
          },
          "execution_count": 36
        },
        {
          "output_type": "display_data",
          "data": {
            "image/png": "[encoded data removed]",
            "text/plain": [
              "<Figure size 1152x432 with 1 Axes>"
            ]
          },
          "metadata": {
            "tags": [],
            "needs_background": "light"
          }
        }
      ]
    },
    {
      "cell_type": "markdown",
      "metadata": {
        "id": "vH5PTE_3MsSB"
      },
      "source": [
        "All the data points are concentrated in the lower right side. People in general do not over work overtime, but the amount of overtime does increase as salary increases. We have a couple of outliers that clearly earn more than anyone and do not work over time at all."
      ]
    },
    {
      "cell_type": "code",
      "metadata": {
        "id": "LgWJJrJ8sDm4"
      },
      "source": [
        "mean_sal = []\r\n",
        "for bin in list(range(0, 100, 10)):\r\n",
        "  tmp = df_comb[(df_comb['Total Compensation'] > df_comb.quantile(bin/100)[-2]) & (df_comb['Total Compensation'] < df_comb.quantile((bin+10)/100)[-2])]['Overtime']\r\n",
        "  mean_sal.append(tmp.mean())"
      ],
      "execution_count": 37,
      "outputs": []
    },
    {
      "cell_type": "code",
      "metadata": {
        "colab": {
          "base_uri": "https://localhost:8080/",
          "height": 355
        },
        "id": "qQhHZCPZsPfk",
        "outputId": "f99dd751-1f6c-4dc4-adef-9be9441d7247"
      },
      "source": [
        "percentiles = pd.DataFrame(data=[list(range(0, 100, 10)), mean_sal]).transpose()\r\n",
        "percentiles.columns = ['Percentile', 'Overtime']\r\n",
        "percentiles"
      ],
      "execution_count": 38,
      "outputs": [
        {
          "output_type": "execute_result",
          "data": {
            "text/html": [
              "<div>\n",
              "<style scoped>\n",
              "    .dataframe tbody tr th:only-of-type {\n",
              "        vertical-align: middle;\n",
              "    }\n",
              "\n",
              "    .dataframe tbody tr th {\n",
              "        vertical-align: top;\n",
              "    }\n",
              "\n",
              "    .dataframe thead th {\n",
              "        text-align: right;\n",
              "    }\n",
              "</style>\n",
              "<table border=\"1\" class=\"dataframe\">\n",
              "  <thead>\n",
              "    <tr style=\"text-align: right;\">\n",
              "      <th></th>\n",
              "      <th>Percentile</th>\n",
              "      <th>Overtime</th>\n",
              "    </tr>\n",
              "  </thead>\n",
              "  <tbody>\n",
              "    <tr>\n",
              "      <th>0</th>\n",
              "      <td>0.0</td>\n",
              "      <td>47.261942</td>\n",
              "    </tr>\n",
              "    <tr>\n",
              "      <th>1</th>\n",
              "      <td>10.0</td>\n",
              "      <td>149.024942</td>\n",
              "    </tr>\n",
              "    <tr>\n",
              "      <th>2</th>\n",
              "      <td>20.0</td>\n",
              "      <td>617.802935</td>\n",
              "    </tr>\n",
              "    <tr>\n",
              "      <th>3</th>\n",
              "      <td>30.0</td>\n",
              "      <td>1378.649492</td>\n",
              "    </tr>\n",
              "    <tr>\n",
              "      <th>4</th>\n",
              "      <td>40.0</td>\n",
              "      <td>1490.899698</td>\n",
              "    </tr>\n",
              "    <tr>\n",
              "      <th>5</th>\n",
              "      <td>50.0</td>\n",
              "      <td>2804.570598</td>\n",
              "    </tr>\n",
              "    <tr>\n",
              "      <th>6</th>\n",
              "      <td>60.0</td>\n",
              "      <td>5020.039072</td>\n",
              "    </tr>\n",
              "    <tr>\n",
              "      <th>7</th>\n",
              "      <td>70.0</td>\n",
              "      <td>6444.996160</td>\n",
              "    </tr>\n",
              "    <tr>\n",
              "      <th>8</th>\n",
              "      <td>80.0</td>\n",
              "      <td>7852.791442</td>\n",
              "    </tr>\n",
              "    <tr>\n",
              "      <th>9</th>\n",
              "      <td>90.0</td>\n",
              "      <td>18329.784816</td>\n",
              "    </tr>\n",
              "  </tbody>\n",
              "</table>\n",
              "</div>"
            ],
            "text/plain": [
              "   Percentile      Overtime\n",
              "0         0.0     47.261942\n",
              "1        10.0    149.024942\n",
              "2        20.0    617.802935\n",
              "3        30.0   1378.649492\n",
              "4        40.0   1490.899698\n",
              "5        50.0   2804.570598\n",
              "6        60.0   5020.039072\n",
              "7        70.0   6444.996160\n",
              "8        80.0   7852.791442\n",
              "9        90.0  18329.784816"
            ]
          },
          "metadata": {
            "tags": []
          },
          "execution_count": 38
        }
      ]
    },
    {
      "cell_type": "code",
      "metadata": {
        "colab": {
          "base_uri": "https://localhost:8080/",
          "height": 281
        },
        "id": "KlLew2D0s1jq",
        "outputId": "d16e1c6f-7a76-4f81-8efc-deee6c5632b7"
      },
      "source": [
        "percentiles.plot(x = 'Percentile', y = 'Overtime', figsize=(16,6))\r\n"
      ],
      "execution_count": 39,
      "outputs": [
        {
          "output_type": "execute_result",
          "data": {
            "text/plain": [
              "<matplotlib.axes._subplots.AxesSubplot at 0x7f6664890d50>"
            ]
          },
          "metadata": {
            "tags": []
          },
          "execution_count": 39
        },
        {
          "output_type": "display_data",
          "data": {
            "image/png": "[encoded data removed]",
            "text/plain": [
              "<Figure size 1152x432 with 1 Axes>"
            ]
          },
          "metadata": {
            "tags": [],
            "needs_background": "light"
          }
        }
      ]
    },
    {
      "cell_type": "markdown",
      "metadata": {
        "id": "G4vRRJdb-oV3"
      },
      "source": [
        "#Question 4"
      ]
    },
    {
      "cell_type": "markdown",
      "metadata": {
        "id": "qDus4C-F-sJM"
      },
      "source": [
        "What are the professions / Job titles who earn average amount of money?\r\n",
        "\r\n",
        "Average amount in compensation we would consider 5% of people who earn around 50 percentile"
      ]
    },
    {
      "cell_type": "code",
      "metadata": {
        "colab": {
          "base_uri": "https://localhost:8080/",
          "height": 147
        },
        "id": "dtndgUB7_4gk",
        "outputId": "4f928d86-0582-46cc-e9e4-33087812b13f"
      },
      "source": [
        "df_comb.quantile([0.475, 0.525])"
      ],
      "execution_count": 40,
      "outputs": [
        {
          "output_type": "execute_result",
          "data": {
            "text/html": [
              "<div>\n",
              "<style scoped>\n",
              "    .dataframe tbody tr th:only-of-type {\n",
              "        vertical-align: middle;\n",
              "    }\n",
              "\n",
              "    .dataframe tbody tr th {\n",
              "        vertical-align: top;\n",
              "    }\n",
              "\n",
              "    .dataframe thead th {\n",
              "        text-align: right;\n",
              "    }\n",
              "</style>\n",
              "<table border=\"1\" class=\"dataframe\">\n",
              "  <thead>\n",
              "    <tr style=\"text-align: right;\">\n",
              "      <th></th>\n",
              "      <th>Year</th>\n",
              "      <th>Organization Group Code</th>\n",
              "      <th>Union Code</th>\n",
              "      <th>Employee Identifier</th>\n",
              "      <th>Salaries</th>\n",
              "      <th>Overtime</th>\n",
              "      <th>Other Salaries</th>\n",
              "      <th>Total Salary</th>\n",
              "      <th>Retirement</th>\n",
              "      <th>Health/Dental</th>\n",
              "      <th>Other Benefits</th>\n",
              "      <th>Total Benefits</th>\n",
              "      <th>Total Compensation</th>\n",
              "      <th>Benefit Portion</th>\n",
              "    </tr>\n",
              "  </thead>\n",
              "  <tbody>\n",
              "    <tr>\n",
              "      <th>0.475</th>\n",
              "      <td>2014.0</td>\n",
              "      <td>2.0</td>\n",
              "      <td>535.0</td>\n",
              "      <td>25617.0</td>\n",
              "      <td>60168.220</td>\n",
              "      <td>0.0</td>\n",
              "      <td>624.000</td>\n",
              "      <td>64882.000</td>\n",
              "      <td>12688.928</td>\n",
              "      <td>11537.074</td>\n",
              "      <td>4027.348</td>\n",
              "      <td>29571.234</td>\n",
              "      <td>94279.850</td>\n",
              "      <td>0.288626</td>\n",
              "    </tr>\n",
              "    <tr>\n",
              "      <th>0.525</th>\n",
              "      <td>2014.0</td>\n",
              "      <td>3.0</td>\n",
              "      <td>790.0</td>\n",
              "      <td>28347.0</td>\n",
              "      <td>64633.444</td>\n",
              "      <td>0.0</td>\n",
              "      <td>897.788</td>\n",
              "      <td>71038.912</td>\n",
              "      <td>13738.288</td>\n",
              "      <td>12310.302</td>\n",
              "      <td>4628.056</td>\n",
              "      <td>31146.152</td>\n",
              "      <td>102262.294</td>\n",
              "      <td>0.294325</td>\n",
              "    </tr>\n",
              "  </tbody>\n",
              "</table>\n",
              "</div>"
            ],
            "text/plain": [
              "         Year  Organization Group Code  ...  Total Compensation  Benefit Portion\n",
              "0.475  2014.0                      2.0  ...           94279.850         0.288626\n",
              "0.525  2014.0                      3.0  ...          102262.294         0.294325\n",
              "\n",
              "[2 rows x 14 columns]"
            ]
          },
          "metadata": {
            "tags": []
          },
          "execution_count": 40
        }
      ]
    },
    {
      "cell_type": "code",
      "metadata": {
        "colab": {
          "base_uri": "https://localhost:8080/",
          "height": 658
        },
        "id": "5st597R0_jAT",
        "outputId": "364518c3-b8aa-4e50-c9df-9542fbafe408"
      },
      "source": [
        "ave_50_sal = df_comb[(df_comb['Total Compensation'] < df_comb.quantile(0.525)[-2]) & (df_comb['Total Compensation'] > df_comb.quantile(0.475)[-2])][['Job','Department', 'Total Salary', 'Total Benefits', 'Total Compensation', 'Benefit Portion']]\r\n",
        "ave_50_sal"
      ],
      "execution_count": 41,
      "outputs": [
        {
          "output_type": "execute_result",
          "data": {
            "text/html": [
              "<div>\n",
              "<style scoped>\n",
              "    .dataframe tbody tr th:only-of-type {\n",
              "        vertical-align: middle;\n",
              "    }\n",
              "\n",
              "    .dataframe tbody tr th {\n",
              "        vertical-align: top;\n",
              "    }\n",
              "\n",
              "    .dataframe thead th {\n",
              "        text-align: right;\n",
              "    }\n",
              "</style>\n",
              "<table border=\"1\" class=\"dataframe\">\n",
              "  <thead>\n",
              "    <tr style=\"text-align: right;\">\n",
              "      <th></th>\n",
              "      <th>Job</th>\n",
              "      <th>Department</th>\n",
              "      <th>Total Salary</th>\n",
              "      <th>Total Benefits</th>\n",
              "      <th>Total Compensation</th>\n",
              "      <th>Benefit Portion</th>\n",
              "    </tr>\n",
              "  </thead>\n",
              "  <tbody>\n",
              "    <tr>\n",
              "      <th>24</th>\n",
              "      <td>Patient Care Assistant</td>\n",
              "      <td>Public Health</td>\n",
              "      <td>66750.79</td>\n",
              "      <td>30318.11</td>\n",
              "      <td>97068.90</td>\n",
              "      <td>0.312336</td>\n",
              "    </tr>\n",
              "    <tr>\n",
              "      <th>74</th>\n",
              "      <td>Police Officer 3</td>\n",
              "      <td>Police</td>\n",
              "      <td>80419.55</td>\n",
              "      <td>17431.15</td>\n",
              "      <td>97850.70</td>\n",
              "      <td>0.178140</td>\n",
              "    </tr>\n",
              "    <tr>\n",
              "      <th>82</th>\n",
              "      <td>Gardener</td>\n",
              "      <td>Recreation and Park Commission</td>\n",
              "      <td>63199.20</td>\n",
              "      <td>31909.79</td>\n",
              "      <td>95108.99</td>\n",
              "      <td>0.335508</td>\n",
              "    </tr>\n",
              "    <tr>\n",
              "      <th>83</th>\n",
              "      <td>Assistant Storekeeper</td>\n",
              "      <td>Public Health</td>\n",
              "      <td>68562.18</td>\n",
              "      <td>28571.48</td>\n",
              "      <td>97133.66</td>\n",
              "      <td>0.294146</td>\n",
              "    </tr>\n",
              "    <tr>\n",
              "      <th>135</th>\n",
              "      <td>Transit Operator</td>\n",
              "      <td>Municipal Transportation Agency</td>\n",
              "      <td>64868.56</td>\n",
              "      <td>34432.22</td>\n",
              "      <td>99300.78</td>\n",
              "      <td>0.346747</td>\n",
              "    </tr>\n",
              "    <tr>\n",
              "      <th>...</th>\n",
              "      <td>...</td>\n",
              "      <td>...</td>\n",
              "      <td>...</td>\n",
              "      <td>...</td>\n",
              "      <td>...</td>\n",
              "      <td>...</td>\n",
              "    </tr>\n",
              "    <tr>\n",
              "      <th>291755</th>\n",
              "      <td>Comm Pol Svcs Aide Supervisor</td>\n",
              "      <td>Police</td>\n",
              "      <td>66348.37</td>\n",
              "      <td>28899.87</td>\n",
              "      <td>95248.24</td>\n",
              "      <td>0.303416</td>\n",
              "    </tr>\n",
              "    <tr>\n",
              "      <th>291789</th>\n",
              "      <td>Therapy Aide</td>\n",
              "      <td>Public Health</td>\n",
              "      <td>66843.20</td>\n",
              "      <td>32844.90</td>\n",
              "      <td>99688.10</td>\n",
              "      <td>0.329477</td>\n",
              "    </tr>\n",
              "    <tr>\n",
              "      <th>291794</th>\n",
              "      <td>Parking Control Officer</td>\n",
              "      <td>Municipal Transportation Agency</td>\n",
              "      <td>69430.10</td>\n",
              "      <td>31058.29</td>\n",
              "      <td>100488.39</td>\n",
              "      <td>0.309073</td>\n",
              "    </tr>\n",
              "    <tr>\n",
              "      <th>291813</th>\n",
              "      <td>Community Police Services Aide</td>\n",
              "      <td>Police</td>\n",
              "      <td>68597.47</td>\n",
              "      <td>32478.43</td>\n",
              "      <td>101075.90</td>\n",
              "      <td>0.321327</td>\n",
              "    </tr>\n",
              "    <tr>\n",
              "      <th>291821</th>\n",
              "      <td>Medical Evaluations Assistant</td>\n",
              "      <td>Public Health</td>\n",
              "      <td>64101.91</td>\n",
              "      <td>32013.46</td>\n",
              "      <td>96115.37</td>\n",
              "      <td>0.333073</td>\n",
              "    </tr>\n",
              "  </tbody>\n",
              "</table>\n",
              "<p>14569 rows × 6 columns</p>\n",
              "</div>"
            ],
            "text/plain": [
              "                                   Job  ... Benefit Portion\n",
              "24              Patient Care Assistant  ...        0.312336\n",
              "74                    Police Officer 3  ...        0.178140\n",
              "82                            Gardener  ...        0.335508\n",
              "83               Assistant Storekeeper  ...        0.294146\n",
              "135                   Transit Operator  ...        0.346747\n",
              "...                                ...  ...             ...\n",
              "291755   Comm Pol Svcs Aide Supervisor  ...        0.303416\n",
              "291789                    Therapy Aide  ...        0.329477\n",
              "291794         Parking Control Officer  ...        0.309073\n",
              "291813  Community Police Services Aide  ...        0.321327\n",
              "291821   Medical Evaluations Assistant  ...        0.333073\n",
              "\n",
              "[14569 rows x 6 columns]"
            ]
          },
          "metadata": {
            "tags": []
          },
          "execution_count": 41
        }
      ]
    },
    {
      "cell_type": "code",
      "metadata": {
        "colab": {
          "base_uri": "https://localhost:8080/",
          "height": 515
        },
        "id": "EXc_u-ceAZ3i",
        "outputId": "ff681cc7-da8d-4b01-df01-f805cda0732e"
      },
      "source": [
        "ave_50_sal.groupby('Job').mean()"
      ],
      "execution_count": 42,
      "outputs": [
        {
          "output_type": "execute_result",
          "data": {
            "text/html": [
              "<div>\n",
              "<style scoped>\n",
              "    .dataframe tbody tr th:only-of-type {\n",
              "        vertical-align: middle;\n",
              "    }\n",
              "\n",
              "    .dataframe tbody tr th {\n",
              "        vertical-align: top;\n",
              "    }\n",
              "\n",
              "    .dataframe thead th {\n",
              "        text-align: right;\n",
              "    }\n",
              "</style>\n",
              "<table border=\"1\" class=\"dataframe\">\n",
              "  <thead>\n",
              "    <tr style=\"text-align: right;\">\n",
              "      <th></th>\n",
              "      <th>Total Salary</th>\n",
              "      <th>Total Benefits</th>\n",
              "      <th>Total Compensation</th>\n",
              "      <th>Benefit Portion</th>\n",
              "    </tr>\n",
              "    <tr>\n",
              "      <th>Job</th>\n",
              "      <th></th>\n",
              "      <th></th>\n",
              "      <th></th>\n",
              "      <th></th>\n",
              "    </tr>\n",
              "  </thead>\n",
              "  <tbody>\n",
              "    <tr>\n",
              "      <th>Account Clerk</th>\n",
              "      <td>66828.460000</td>\n",
              "      <td>29644.540000</td>\n",
              "      <td>96473.000000</td>\n",
              "      <td>0.307283</td>\n",
              "    </tr>\n",
              "    <tr>\n",
              "      <th>Accountant I</th>\n",
              "      <td>68402.070000</td>\n",
              "      <td>30715.826667</td>\n",
              "      <td>99117.896667</td>\n",
              "      <td>0.309894</td>\n",
              "    </tr>\n",
              "    <tr>\n",
              "      <th>Accountant II</th>\n",
              "      <td>66573.231341</td>\n",
              "      <td>31503.968049</td>\n",
              "      <td>98077.199390</td>\n",
              "      <td>0.321231</td>\n",
              "    </tr>\n",
              "    <tr>\n",
              "      <th>Accountant III</th>\n",
              "      <td>69347.754828</td>\n",
              "      <td>28895.396552</td>\n",
              "      <td>98243.151379</td>\n",
              "      <td>0.294173</td>\n",
              "    </tr>\n",
              "    <tr>\n",
              "      <th>Accountant IV</th>\n",
              "      <td>73358.425000</td>\n",
              "      <td>24835.620000</td>\n",
              "      <td>98194.045000</td>\n",
              "      <td>0.253333</td>\n",
              "    </tr>\n",
              "    <tr>\n",
              "      <th>...</th>\n",
              "      <td>...</td>\n",
              "      <td>...</td>\n",
              "      <td>...</td>\n",
              "      <td>...</td>\n",
              "    </tr>\n",
              "    <tr>\n",
              "      <th>Wire Rope Cable Maint Mechanic</th>\n",
              "      <td>73611.340000</td>\n",
              "      <td>22237.990000</td>\n",
              "      <td>95849.330000</td>\n",
              "      <td>0.232010</td>\n",
              "    </tr>\n",
              "    <tr>\n",
              "      <th>Worker's Comp Supervisor 1</th>\n",
              "      <td>70577.560000</td>\n",
              "      <td>27422.580000</td>\n",
              "      <td>98000.140000</td>\n",
              "      <td>0.279822</td>\n",
              "    </tr>\n",
              "    <tr>\n",
              "      <th>Worker's Compensation Adjuster</th>\n",
              "      <td>69305.817500</td>\n",
              "      <td>30696.667500</td>\n",
              "      <td>100002.485000</td>\n",
              "      <td>0.306879</td>\n",
              "    </tr>\n",
              "    <tr>\n",
              "      <th>X-Ray Laboratory Aide</th>\n",
              "      <td>67613.691458</td>\n",
              "      <td>31424.835417</td>\n",
              "      <td>99038.526875</td>\n",
              "      <td>0.317285</td>\n",
              "    </tr>\n",
              "    <tr>\n",
              "      <th>Youth Comm Advisor</th>\n",
              "      <td>66195.550000</td>\n",
              "      <td>30630.730000</td>\n",
              "      <td>96826.280000</td>\n",
              "      <td>0.316347</td>\n",
              "    </tr>\n",
              "  </tbody>\n",
              "</table>\n",
              "<p>646 rows × 4 columns</p>\n",
              "</div>"
            ],
            "text/plain": [
              "                                Total Salary  ...  Benefit Portion\n",
              "Job                                           ...                 \n",
              "Account Clerk                   66828.460000  ...         0.307283\n",
              "Accountant I                    68402.070000  ...         0.309894\n",
              "Accountant II                   66573.231341  ...         0.321231\n",
              "Accountant III                  69347.754828  ...         0.294173\n",
              "Accountant IV                   73358.425000  ...         0.253333\n",
              "...                                      ...  ...              ...\n",
              "Wire Rope Cable Maint Mechanic  73611.340000  ...         0.232010\n",
              "Worker's Comp Supervisor 1      70577.560000  ...         0.279822\n",
              "Worker's Compensation Adjuster  69305.817500  ...         0.306879\n",
              "X-Ray Laboratory Aide           67613.691458  ...         0.317285\n",
              "Youth Comm Advisor              66195.550000  ...         0.316347\n",
              "\n",
              "[646 rows x 4 columns]"
            ]
          },
          "metadata": {
            "tags": []
          },
          "execution_count": 42
        }
      ]
    },
    {
      "cell_type": "markdown",
      "metadata": {
        "id": "Wz-JOFN-CHPu"
      },
      "source": [
        "Which departments employ the most average earners"
      ]
    },
    {
      "cell_type": "code",
      "metadata": {
        "colab": {
          "base_uri": "https://localhost:8080/",
          "height": 1000
        },
        "id": "XlwNUx-OAXXu",
        "outputId": "bcad314b-169a-416c-c76b-8be6699c78cb"
      },
      "source": [
        "ave_50_sal.groupby('Department').mean()"
      ],
      "execution_count": 43,
      "outputs": [
        {
          "output_type": "execute_result",
          "data": {
            "text/html": [
              "<div>\n",
              "<style scoped>\n",
              "    .dataframe tbody tr th:only-of-type {\n",
              "        vertical-align: middle;\n",
              "    }\n",
              "\n",
              "    .dataframe tbody tr th {\n",
              "        vertical-align: top;\n",
              "    }\n",
              "\n",
              "    .dataframe thead th {\n",
              "        text-align: right;\n",
              "    }\n",
              "</style>\n",
              "<table border=\"1\" class=\"dataframe\">\n",
              "  <thead>\n",
              "    <tr style=\"text-align: right;\">\n",
              "      <th></th>\n",
              "      <th>Total Salary</th>\n",
              "      <th>Total Benefits</th>\n",
              "      <th>Total Compensation</th>\n",
              "      <th>Benefit Portion</th>\n",
              "    </tr>\n",
              "    <tr>\n",
              "      <th>Department</th>\n",
              "      <th></th>\n",
              "      <th></th>\n",
              "      <th></th>\n",
              "      <th></th>\n",
              "    </tr>\n",
              "  </thead>\n",
              "  <tbody>\n",
              "    <tr>\n",
              "      <th>Academy of Sciences</th>\n",
              "      <td>73704.010000</td>\n",
              "      <td>27475.370000</td>\n",
              "      <td>101179.380000</td>\n",
              "      <td>0.271551</td>\n",
              "    </tr>\n",
              "    <tr>\n",
              "      <th>Adult Probation</th>\n",
              "      <td>69889.934769</td>\n",
              "      <td>27834.087538</td>\n",
              "      <td>97724.022308</td>\n",
              "      <td>0.284977</td>\n",
              "    </tr>\n",
              "    <tr>\n",
              "      <th>Airport Commission</th>\n",
              "      <td>66816.754428</td>\n",
              "      <td>30837.804616</td>\n",
              "      <td>97654.559044</td>\n",
              "      <td>0.315887</td>\n",
              "    </tr>\n",
              "    <tr>\n",
              "      <th>Arts Commission</th>\n",
              "      <td>67185.906786</td>\n",
              "      <td>31064.398214</td>\n",
              "      <td>98250.305000</td>\n",
              "      <td>0.316246</td>\n",
              "    </tr>\n",
              "    <tr>\n",
              "      <th>Asian Art Museum</th>\n",
              "      <td>67559.687222</td>\n",
              "      <td>30691.751944</td>\n",
              "      <td>98251.439167</td>\n",
              "      <td>0.312450</td>\n",
              "    </tr>\n",
              "    <tr>\n",
              "      <th>Assessor/Recorder</th>\n",
              "      <td>67186.118854</td>\n",
              "      <td>30930.516250</td>\n",
              "      <td>98116.635104</td>\n",
              "      <td>0.315367</td>\n",
              "    </tr>\n",
              "    <tr>\n",
              "      <th>Board of Supervisors</th>\n",
              "      <td>69111.717647</td>\n",
              "      <td>29259.550000</td>\n",
              "      <td>98371.267647</td>\n",
              "      <td>0.297402</td>\n",
              "    </tr>\n",
              "    <tr>\n",
              "      <th>Child Support Services</th>\n",
              "      <td>67774.814687</td>\n",
              "      <td>30397.020938</td>\n",
              "      <td>98171.835625</td>\n",
              "      <td>0.309668</td>\n",
              "    </tr>\n",
              "    <tr>\n",
              "      <th>Children and Families Commission</th>\n",
              "      <td>66554.933333</td>\n",
              "      <td>31235.213333</td>\n",
              "      <td>97790.146667</td>\n",
              "      <td>0.319395</td>\n",
              "    </tr>\n",
              "    <tr>\n",
              "      <th>Children, Youth &amp; Their Families</th>\n",
              "      <td>67906.470556</td>\n",
              "      <td>30644.365556</td>\n",
              "      <td>98550.836111</td>\n",
              "      <td>0.310889</td>\n",
              "    </tr>\n",
              "    <tr>\n",
              "      <th>City Attorney</th>\n",
              "      <td>68635.000921</td>\n",
              "      <td>29816.434211</td>\n",
              "      <td>98451.435132</td>\n",
              "      <td>0.302821</td>\n",
              "    </tr>\n",
              "    <tr>\n",
              "      <th>City Planning</th>\n",
              "      <td>68641.083538</td>\n",
              "      <td>29029.202769</td>\n",
              "      <td>97670.286308</td>\n",
              "      <td>0.297276</td>\n",
              "    </tr>\n",
              "    <tr>\n",
              "      <th>Civil Service Commission</th>\n",
              "      <td>66642.890000</td>\n",
              "      <td>31420.733333</td>\n",
              "      <td>98063.623333</td>\n",
              "      <td>0.320499</td>\n",
              "    </tr>\n",
              "    <tr>\n",
              "      <th>Controller</th>\n",
              "      <td>68124.886667</td>\n",
              "      <td>29978.430972</td>\n",
              "      <td>98103.317639</td>\n",
              "      <td>0.305576</td>\n",
              "    </tr>\n",
              "    <tr>\n",
              "      <th>Department of Building Inspection</th>\n",
              "      <td>68035.601032</td>\n",
              "      <td>30457.872778</td>\n",
              "      <td>98493.473810</td>\n",
              "      <td>0.309356</td>\n",
              "    </tr>\n",
              "    <tr>\n",
              "      <th>Department of Emergency Management</th>\n",
              "      <td>69579.316000</td>\n",
              "      <td>28743.025714</td>\n",
              "      <td>98322.341714</td>\n",
              "      <td>0.292275</td>\n",
              "    </tr>\n",
              "    <tr>\n",
              "      <th>Department of the Status of Women</th>\n",
              "      <td>70053.740000</td>\n",
              "      <td>31342.316667</td>\n",
              "      <td>101396.056667</td>\n",
              "      <td>0.309112</td>\n",
              "    </tr>\n",
              "    <tr>\n",
              "      <th>District Attorney</th>\n",
              "      <td>68149.597000</td>\n",
              "      <td>29913.243778</td>\n",
              "      <td>98062.840778</td>\n",
              "      <td>0.305067</td>\n",
              "    </tr>\n",
              "    <tr>\n",
              "      <th>Economic and Workforce Development</th>\n",
              "      <td>68707.785455</td>\n",
              "      <td>29640.795909</td>\n",
              "      <td>98348.581364</td>\n",
              "      <td>0.301213</td>\n",
              "    </tr>\n",
              "    <tr>\n",
              "      <th>Elections</th>\n",
              "      <td>67964.380952</td>\n",
              "      <td>30955.696667</td>\n",
              "      <td>98920.077619</td>\n",
              "      <td>0.312993</td>\n",
              "    </tr>\n",
              "    <tr>\n",
              "      <th>Environment</th>\n",
              "      <td>67762.356406</td>\n",
              "      <td>30712.818594</td>\n",
              "      <td>98475.175000</td>\n",
              "      <td>0.311933</td>\n",
              "    </tr>\n",
              "    <tr>\n",
              "      <th>Ethics Commission</th>\n",
              "      <td>67643.648333</td>\n",
              "      <td>31686.836667</td>\n",
              "      <td>99330.485000</td>\n",
              "      <td>0.318930</td>\n",
              "    </tr>\n",
              "    <tr>\n",
              "      <th>Fine Arts Museum</th>\n",
              "      <td>69170.906300</td>\n",
              "      <td>28687.674000</td>\n",
              "      <td>97858.580300</td>\n",
              "      <td>0.293233</td>\n",
              "    </tr>\n",
              "    <tr>\n",
              "      <th>Fire Department</th>\n",
              "      <td>73732.344681</td>\n",
              "      <td>25567.843475</td>\n",
              "      <td>99300.188156</td>\n",
              "      <td>0.257567</td>\n",
              "    </tr>\n",
              "    <tr>\n",
              "      <th>General Services Agency - City Admin</th>\n",
              "      <td>67580.741545</td>\n",
              "      <td>30612.554390</td>\n",
              "      <td>98193.295935</td>\n",
              "      <td>0.311823</td>\n",
              "    </tr>\n",
              "    <tr>\n",
              "      <th>General Services Agency - Public Works</th>\n",
              "      <td>67547.949026</td>\n",
              "      <td>30637.693820</td>\n",
              "      <td>98185.642846</td>\n",
              "      <td>0.312102</td>\n",
              "    </tr>\n",
              "    <tr>\n",
              "      <th>General Services Agency - Technology</th>\n",
              "      <td>68973.364578</td>\n",
              "      <td>29225.447590</td>\n",
              "      <td>98198.812169</td>\n",
              "      <td>0.297727</td>\n",
              "    </tr>\n",
              "    <tr>\n",
              "      <th>Health Service System</th>\n",
              "      <td>67271.275455</td>\n",
              "      <td>30679.760000</td>\n",
              "      <td>97951.035455</td>\n",
              "      <td>0.313228</td>\n",
              "    </tr>\n",
              "    <tr>\n",
              "      <th>Human Resources</th>\n",
              "      <td>67847.141786</td>\n",
              "      <td>30174.249464</td>\n",
              "      <td>98021.391250</td>\n",
              "      <td>0.307852</td>\n",
              "    </tr>\n",
              "    <tr>\n",
              "      <th>Human Rights Commission</th>\n",
              "      <td>67695.402000</td>\n",
              "      <td>30790.448000</td>\n",
              "      <td>98485.850000</td>\n",
              "      <td>0.312730</td>\n",
              "    </tr>\n",
              "    <tr>\n",
              "      <th>Human Services</th>\n",
              "      <td>67388.587518</td>\n",
              "      <td>30833.973179</td>\n",
              "      <td>98222.560696</td>\n",
              "      <td>0.313969</td>\n",
              "    </tr>\n",
              "    <tr>\n",
              "      <th>Juvenile Probation</th>\n",
              "      <td>71284.107500</td>\n",
              "      <td>27309.516953</td>\n",
              "      <td>98593.624453</td>\n",
              "      <td>0.277026</td>\n",
              "    </tr>\n",
              "    <tr>\n",
              "      <th>Mayor</th>\n",
              "      <td>65825.930882</td>\n",
              "      <td>32168.337941</td>\n",
              "      <td>97994.268824</td>\n",
              "      <td>0.328509</td>\n",
              "    </tr>\n",
              "    <tr>\n",
              "      <th>Municipal Transportation Agency</th>\n",
              "      <td>67146.404402</td>\n",
              "      <td>31261.079664</td>\n",
              "      <td>98407.484066</td>\n",
              "      <td>0.317682</td>\n",
              "    </tr>\n",
              "    <tr>\n",
              "      <th>PUC Hetch Hetchy</th>\n",
              "      <td>67895.352464</td>\n",
              "      <td>30372.079203</td>\n",
              "      <td>98267.431667</td>\n",
              "      <td>0.309119</td>\n",
              "    </tr>\n",
              "    <tr>\n",
              "      <th>PUC Public Utilities Commission</th>\n",
              "      <td>67505.945786</td>\n",
              "      <td>30960.299228</td>\n",
              "      <td>98466.245015</td>\n",
              "      <td>0.314448</td>\n",
              "    </tr>\n",
              "    <tr>\n",
              "      <th>PUC Wastewater Enterprise</th>\n",
              "      <td>67859.352267</td>\n",
              "      <td>30464.778140</td>\n",
              "      <td>98324.130407</td>\n",
              "      <td>0.309835</td>\n",
              "    </tr>\n",
              "    <tr>\n",
              "      <th>PUC Water Department</th>\n",
              "      <td>67678.670112</td>\n",
              "      <td>30570.630028</td>\n",
              "      <td>98249.300140</td>\n",
              "      <td>0.311188</td>\n",
              "    </tr>\n",
              "    <tr>\n",
              "      <th>Police</th>\n",
              "      <td>70511.903108</td>\n",
              "      <td>27607.616588</td>\n",
              "      <td>98119.519696</td>\n",
              "      <td>0.281395</td>\n",
              "    </tr>\n",
              "    <tr>\n",
              "      <th>Port</th>\n",
              "      <td>68015.844327</td>\n",
              "      <td>30485.140096</td>\n",
              "      <td>98500.984423</td>\n",
              "      <td>0.309442</td>\n",
              "    </tr>\n",
              "    <tr>\n",
              "      <th>Public Defender</th>\n",
              "      <td>67614.627857</td>\n",
              "      <td>30665.803000</td>\n",
              "      <td>98280.430857</td>\n",
              "      <td>0.312011</td>\n",
              "    </tr>\n",
              "    <tr>\n",
              "      <th>Public Health</th>\n",
              "      <td>68573.219672</td>\n",
              "      <td>29560.970381</td>\n",
              "      <td>98134.190052</td>\n",
              "      <td>0.301298</td>\n",
              "    </tr>\n",
              "    <tr>\n",
              "      <th>Public Library</th>\n",
              "      <td>67418.820553</td>\n",
              "      <td>30884.120277</td>\n",
              "      <td>98302.940830</td>\n",
              "      <td>0.314245</td>\n",
              "    </tr>\n",
              "    <tr>\n",
              "      <th>Recreation and Park Commission</th>\n",
              "      <td>66447.326249</td>\n",
              "      <td>31220.622748</td>\n",
              "      <td>97667.948997</td>\n",
              "      <td>0.319757</td>\n",
              "    </tr>\n",
              "    <tr>\n",
              "      <th>Rent Arbitration Board</th>\n",
              "      <td>68021.874000</td>\n",
              "      <td>30472.194500</td>\n",
              "      <td>98494.068500</td>\n",
              "      <td>0.309086</td>\n",
              "    </tr>\n",
              "    <tr>\n",
              "      <th>Retirement System</th>\n",
              "      <td>66712.657105</td>\n",
              "      <td>30557.473158</td>\n",
              "      <td>97270.130263</td>\n",
              "      <td>0.314373</td>\n",
              "    </tr>\n",
              "    <tr>\n",
              "      <th>Sheriff</th>\n",
              "      <td>69289.306039</td>\n",
              "      <td>29308.340531</td>\n",
              "      <td>98597.646570</td>\n",
              "      <td>0.297204</td>\n",
              "    </tr>\n",
              "    <tr>\n",
              "      <th>Superior Court</th>\n",
              "      <td>68474.732374</td>\n",
              "      <td>30183.871295</td>\n",
              "      <td>98658.603669</td>\n",
              "      <td>0.305867</td>\n",
              "    </tr>\n",
              "    <tr>\n",
              "      <th>Treasurer/Tax Collector</th>\n",
              "      <td>67534.296218</td>\n",
              "      <td>30941.326639</td>\n",
              "      <td>98475.622857</td>\n",
              "      <td>0.314279</td>\n",
              "    </tr>\n",
              "    <tr>\n",
              "      <th>War Memorial</th>\n",
              "      <td>66783.556977</td>\n",
              "      <td>30952.040581</td>\n",
              "      <td>97735.597558</td>\n",
              "      <td>0.316747</td>\n",
              "    </tr>\n",
              "  </tbody>\n",
              "</table>\n",
              "</div>"
            ],
            "text/plain": [
              "                                        Total Salary  ...  Benefit Portion\n",
              "Department                                            ...                 \n",
              "Academy of Sciences                     73704.010000  ...         0.271551\n",
              "Adult Probation                         69889.934769  ...         0.284977\n",
              "Airport Commission                      66816.754428  ...         0.315887\n",
              "Arts Commission                         67185.906786  ...         0.316246\n",
              "Asian Art Museum                        67559.687222  ...         0.312450\n",
              "Assessor/Recorder                       67186.118854  ...         0.315367\n",
              "Board of Supervisors                    69111.717647  ...         0.297402\n",
              "Child Support Services                  67774.814687  ...         0.309668\n",
              "Children and Families Commission        66554.933333  ...         0.319395\n",
              "Children, Youth & Their Families        67906.470556  ...         0.310889\n",
              "City Attorney                           68635.000921  ...         0.302821\n",
              "City Planning                           68641.083538  ...         0.297276\n",
              "Civil Service Commission                66642.890000  ...         0.320499\n",
              "Controller                              68124.886667  ...         0.305576\n",
              "Department of Building Inspection       68035.601032  ...         0.309356\n",
              "Department of Emergency Management      69579.316000  ...         0.292275\n",
              "Department of the Status of Women       70053.740000  ...         0.309112\n",
              "District Attorney                       68149.597000  ...         0.305067\n",
              "Economic and Workforce Development      68707.785455  ...         0.301213\n",
              "Elections                               67964.380952  ...         0.312993\n",
              "Environment                             67762.356406  ...         0.311933\n",
              "Ethics Commission                       67643.648333  ...         0.318930\n",
              "Fine Arts Museum                        69170.906300  ...         0.293233\n",
              "Fire Department                         73732.344681  ...         0.257567\n",
              "General Services Agency - City Admin    67580.741545  ...         0.311823\n",
              "General Services Agency - Public Works  67547.949026  ...         0.312102\n",
              "General Services Agency - Technology    68973.364578  ...         0.297727\n",
              "Health Service System                   67271.275455  ...         0.313228\n",
              "Human Resources                         67847.141786  ...         0.307852\n",
              "Human Rights Commission                 67695.402000  ...         0.312730\n",
              "Human Services                          67388.587518  ...         0.313969\n",
              "Juvenile Probation                      71284.107500  ...         0.277026\n",
              "Mayor                                   65825.930882  ...         0.328509\n",
              "Municipal Transportation Agency         67146.404402  ...         0.317682\n",
              "PUC Hetch Hetchy                        67895.352464  ...         0.309119\n",
              "PUC Public Utilities Commission         67505.945786  ...         0.314448\n",
              "PUC Wastewater Enterprise               67859.352267  ...         0.309835\n",
              "PUC Water Department                    67678.670112  ...         0.311188\n",
              "Police                                  70511.903108  ...         0.281395\n",
              "Port                                    68015.844327  ...         0.309442\n",
              "Public Defender                         67614.627857  ...         0.312011\n",
              "Public Health                           68573.219672  ...         0.301298\n",
              "Public Library                          67418.820553  ...         0.314245\n",
              "Recreation and Park Commission          66447.326249  ...         0.319757\n",
              "Rent Arbitration Board                  68021.874000  ...         0.309086\n",
              "Retirement System                       66712.657105  ...         0.314373\n",
              "Sheriff                                 69289.306039  ...         0.297204\n",
              "Superior Court                          68474.732374  ...         0.305867\n",
              "Treasurer/Tax Collector                 67534.296218  ...         0.314279\n",
              "War Memorial                            66783.556977  ...         0.316747\n",
              "\n",
              "[50 rows x 4 columns]"
            ]
          },
          "metadata": {
            "tags": []
          },
          "execution_count": 43
        }
      ]
    },
    {
      "cell_type": "markdown",
      "metadata": {
        "id": "Q3AqgBM4SiOV"
      },
      "source": [
        "It looks like Public Health employs by far the most people earning 47.5 - 52.5 percentile"
      ]
    },
    {
      "cell_type": "code",
      "metadata": {
        "colab": {
          "base_uri": "https://localhost:8080/",
          "height": 271
        },
        "id": "_OB1DOzJBoLt",
        "outputId": "2d723e47-2f18-4a61-defb-acd17139e407"
      },
      "source": [
        "ave_50_sal.groupby('Department')['Job'].count().plot(kind = 'bar', figsize=(26,6))\r\n"
      ],
      "execution_count": 44,
      "outputs": [
        {
          "output_type": "execute_result",
          "data": {
            "text/plain": [
              "<matplotlib.axes._subplots.AxesSubplot at 0x7f66648246d0>"
            ]
          },
          "metadata": {
            "tags": []
          },
          "execution_count": 44
        },
        {
          "output_type": "display_data",
          "data": {
            "image/png": "[encoded data removed]",
            "text/plain": [
              "<Figure size 1872x432 with 1 Axes>"
            ]
          },
          "metadata": {
            "tags": [],
            "needs_background": "light"
          }
        }
      ]
    },
    {
      "cell_type": "markdown",
      "metadata": {
        "id": "83COtFtzV4ft"
      },
      "source": [
        "#Question 5"
      ]
    },
    {
      "cell_type": "markdown",
      "metadata": {
        "id": "lfdiwXXYV7Z4"
      },
      "source": [
        "What percentage of city employees receive benefits through work? If some do not, what are job titles?\r\n",
        "\r\n",
        "---\r\n",
        "\r\n",
        "---\r\n",
        "\r\n",
        "\r\n",
        "\r\n"
      ]
    },
    {
      "cell_type": "code",
      "metadata": {
        "colab": {
          "base_uri": "https://localhost:8080/",
          "height": 275
        },
        "id": "oxqhqqJQWIQm",
        "outputId": "93c4256c-3358-4f92-aa47-ba9a485a54c6"
      },
      "source": [
        "df_comb.plot.scatter(x = 'Total Compensation', y = 'Total Benefits', figsize=(16,6))\r\n"
      ],
      "execution_count": 45,
      "outputs": [
        {
          "output_type": "execute_result",
          "data": {
            "text/plain": [
              "<matplotlib.axes._subplots.AxesSubplot at 0x7f6664696ed0>"
            ]
          },
          "metadata": {
            "tags": []
          },
          "execution_count": 45
        },
        {
          "output_type": "display_data",
          "data": {
            "image/png": "[encoded data removed]",
            "text/plain": [
              "<Figure size 1152x432 with 1 Axes>"
            ]
          },
          "metadata": {
            "tags": [],
            "needs_background": "light"
          }
        }
      ]
    },
    {
      "cell_type": "code",
      "metadata": {
        "id": "ZllWcM8fFb8x"
      },
      "source": [
        "mean_sal = []\r\n",
        "for bin in list(range(0, 100, 10)):\r\n",
        "  tmp = df_comb[(df_comb['Total Compensation'] > df_comb.quantile(bin/100)[-2]) & (df_comb['Total Compensation'] < df_comb.quantile((bin+10)/100)[-2])]['Total Benefits']\r\n",
        "  mean_sal.append(tmp.mean())"
      ],
      "execution_count": 46,
      "outputs": []
    },
    {
      "cell_type": "code",
      "metadata": {
        "colab": {
          "base_uri": "https://localhost:8080/",
          "height": 355
        },
        "id": "nHwS832kFh7l",
        "outputId": "c19a306b-1098-4a13-8cd5-42ec55ecd7dc"
      },
      "source": [
        "percentiles = pd.DataFrame(data=[list(range(0, 100, 10)), mean_sal]).transpose()\r\n",
        "percentiles.columns = ['Percentile', 'Total Benefits']\r\n",
        "percentiles"
      ],
      "execution_count": 47,
      "outputs": [
        {
          "output_type": "execute_result",
          "data": {
            "text/html": [
              "<div>\n",
              "<style scoped>\n",
              "    .dataframe tbody tr th:only-of-type {\n",
              "        vertical-align: middle;\n",
              "    }\n",
              "\n",
              "    .dataframe tbody tr th {\n",
              "        vertical-align: top;\n",
              "    }\n",
              "\n",
              "    .dataframe thead th {\n",
              "        text-align: right;\n",
              "    }\n",
              "</style>\n",
              "<table border=\"1\" class=\"dataframe\">\n",
              "  <thead>\n",
              "    <tr style=\"text-align: right;\">\n",
              "      <th></th>\n",
              "      <th>Percentile</th>\n",
              "      <th>Total Benefits</th>\n",
              "    </tr>\n",
              "  </thead>\n",
              "  <tbody>\n",
              "    <tr>\n",
              "      <th>0</th>\n",
              "      <td>0.0</td>\n",
              "      <td>914.894861</td>\n",
              "    </tr>\n",
              "    <tr>\n",
              "      <th>1</th>\n",
              "      <td>10.0</td>\n",
              "      <td>4160.033682</td>\n",
              "    </tr>\n",
              "    <tr>\n",
              "      <th>2</th>\n",
              "      <td>20.0</td>\n",
              "      <td>10518.338199</td>\n",
              "    </tr>\n",
              "    <tr>\n",
              "      <th>3</th>\n",
              "      <td>30.0</td>\n",
              "      <td>21098.616145</td>\n",
              "    </tr>\n",
              "    <tr>\n",
              "      <th>4</th>\n",
              "      <td>40.0</td>\n",
              "      <td>28591.095627</td>\n",
              "    </tr>\n",
              "    <tr>\n",
              "      <th>5</th>\n",
              "      <td>50.0</td>\n",
              "      <td>32224.356402</td>\n",
              "    </tr>\n",
              "    <tr>\n",
              "      <th>6</th>\n",
              "      <td>60.0</td>\n",
              "      <td>35492.100010</td>\n",
              "    </tr>\n",
              "    <tr>\n",
              "      <th>7</th>\n",
              "      <td>70.0</td>\n",
              "      <td>38904.096477</td>\n",
              "    </tr>\n",
              "    <tr>\n",
              "      <th>8</th>\n",
              "      <td>80.0</td>\n",
              "      <td>43002.924596</td>\n",
              "    </tr>\n",
              "    <tr>\n",
              "      <th>9</th>\n",
              "      <td>90.0</td>\n",
              "      <td>50532.306344</td>\n",
              "    </tr>\n",
              "  </tbody>\n",
              "</table>\n",
              "</div>"
            ],
            "text/plain": [
              "   Percentile  Total Benefits\n",
              "0         0.0      914.894861\n",
              "1        10.0     4160.033682\n",
              "2        20.0    10518.338199\n",
              "3        30.0    21098.616145\n",
              "4        40.0    28591.095627\n",
              "5        50.0    32224.356402\n",
              "6        60.0    35492.100010\n",
              "7        70.0    38904.096477\n",
              "8        80.0    43002.924596\n",
              "9        90.0    50532.306344"
            ]
          },
          "metadata": {
            "tags": []
          },
          "execution_count": 47
        }
      ]
    },
    {
      "cell_type": "code",
      "metadata": {
        "colab": {
          "base_uri": "https://localhost:8080/",
          "height": 281
        },
        "id": "Nvu9y5s7FoLf",
        "outputId": "62198446-cf2b-454d-d6f4-541a27f9c996"
      },
      "source": [
        "percentiles.plot(x = 'Percentile', y = 'Total Benefits', figsize=(16,6))\r\n"
      ],
      "execution_count": 48,
      "outputs": [
        {
          "output_type": "execute_result",
          "data": {
            "text/plain": [
              "<matplotlib.axes._subplots.AxesSubplot at 0x7f666461ad90>"
            ]
          },
          "metadata": {
            "tags": []
          },
          "execution_count": 48
        },
        {
          "output_type": "display_data",
          "data": {
            "image/png": "[encoded data removed]",
            "text/plain": [
              "<Figure size 1152x432 with 1 Axes>"
            ]
          },
          "metadata": {
            "tags": [],
            "needs_background": "light"
          }
        }
      ]
    },
    {
      "cell_type": "markdown",
      "metadata": {
        "id": "JBabWz6_Wa1A"
      },
      "source": [
        "There are quite a few employees who are not receiving any benefits through work, and the amount in benefits tend to go up with salary"
      ]
    },
    {
      "cell_type": "code",
      "metadata": {
        "colab": {
          "base_uri": "https://localhost:8080/",
          "height": 1000
        },
        "id": "AuIngwFDXA9O",
        "outputId": "301775b0-dc1f-468f-b686-e5612eead5ed"
      },
      "source": [
        "df_comb[['Job', 'Department', 'Total Benefits', 'Health/Dental']].groupby('Department').mean()"
      ],
      "execution_count": 49,
      "outputs": [
        {
          "output_type": "execute_result",
          "data": {
            "text/html": [
              "<div>\n",
              "<style scoped>\n",
              "    .dataframe tbody tr th:only-of-type {\n",
              "        vertical-align: middle;\n",
              "    }\n",
              "\n",
              "    .dataframe tbody tr th {\n",
              "        vertical-align: top;\n",
              "    }\n",
              "\n",
              "    .dataframe thead th {\n",
              "        text-align: right;\n",
              "    }\n",
              "</style>\n",
              "<table border=\"1\" class=\"dataframe\">\n",
              "  <thead>\n",
              "    <tr style=\"text-align: right;\">\n",
              "      <th></th>\n",
              "      <th>Total Benefits</th>\n",
              "      <th>Health/Dental</th>\n",
              "    </tr>\n",
              "    <tr>\n",
              "      <th>Department</th>\n",
              "      <th></th>\n",
              "      <th></th>\n",
              "    </tr>\n",
              "  </thead>\n",
              "  <tbody>\n",
              "    <tr>\n",
              "      <th>Academy of Sciences</th>\n",
              "      <td>28282.766346</td>\n",
              "      <td>9411.326058</td>\n",
              "    </tr>\n",
              "    <tr>\n",
              "      <th>Adult Probation</th>\n",
              "      <td>26637.575294</td>\n",
              "      <td>9989.085400</td>\n",
              "    </tr>\n",
              "    <tr>\n",
              "      <th>Airport Commission</th>\n",
              "      <td>28189.387995</td>\n",
              "      <td>9749.418236</td>\n",
              "    </tr>\n",
              "    <tr>\n",
              "      <th>Arts Commission</th>\n",
              "      <td>28406.851792</td>\n",
              "      <td>9865.684267</td>\n",
              "    </tr>\n",
              "    <tr>\n",
              "      <th>Asian Art Museum</th>\n",
              "      <td>21291.562124</td>\n",
              "      <td>8248.566632</td>\n",
              "    </tr>\n",
              "    <tr>\n",
              "      <th>Assessor/Recorder</th>\n",
              "      <td>27236.160790</td>\n",
              "      <td>9521.562430</td>\n",
              "    </tr>\n",
              "    <tr>\n",
              "      <th>Board of Appeals</th>\n",
              "      <td>15500.895750</td>\n",
              "      <td>5371.740750</td>\n",
              "    </tr>\n",
              "    <tr>\n",
              "      <th>Board of Supervisors</th>\n",
              "      <td>23160.355224</td>\n",
              "      <td>7282.006264</td>\n",
              "    </tr>\n",
              "    <tr>\n",
              "      <th>Child Support Services</th>\n",
              "      <td>30163.819410</td>\n",
              "      <td>10485.955741</td>\n",
              "    </tr>\n",
              "    <tr>\n",
              "      <th>Children and Families Commission</th>\n",
              "      <td>29788.974160</td>\n",
              "      <td>10032.456160</td>\n",
              "    </tr>\n",
              "    <tr>\n",
              "      <th>Children, Youth &amp; Their Families</th>\n",
              "      <td>21671.395237</td>\n",
              "      <td>7236.508491</td>\n",
              "    </tr>\n",
              "    <tr>\n",
              "      <th>City Attorney</th>\n",
              "      <td>43165.948570</td>\n",
              "      <td>10882.500928</td>\n",
              "    </tr>\n",
              "    <tr>\n",
              "      <th>City Planning</th>\n",
              "      <td>25213.650587</td>\n",
              "      <td>8239.577847</td>\n",
              "    </tr>\n",
              "    <tr>\n",
              "      <th>Civil Service Commission</th>\n",
              "      <td>20242.853415</td>\n",
              "      <td>6106.056951</td>\n",
              "    </tr>\n",
              "    <tr>\n",
              "      <th>Community Investment &amp; Infrastructure</th>\n",
              "      <td>10909.498462</td>\n",
              "      <td>2690.436154</td>\n",
              "    </tr>\n",
              "    <tr>\n",
              "      <th>Controller</th>\n",
              "      <td>29416.206681</td>\n",
              "      <td>8954.831424</td>\n",
              "    </tr>\n",
              "    <tr>\n",
              "      <th>Department of Building Inspection</th>\n",
              "      <td>31240.248930</td>\n",
              "      <td>9679.107715</td>\n",
              "    </tr>\n",
              "    <tr>\n",
              "      <th>Department of Emergency Management</th>\n",
              "      <td>34177.628306</td>\n",
              "      <td>10048.024421</td>\n",
              "    </tr>\n",
              "    <tr>\n",
              "      <th>Department of the Status of Women</th>\n",
              "      <td>13109.292793</td>\n",
              "      <td>4290.559459</td>\n",
              "    </tr>\n",
              "    <tr>\n",
              "      <th>District Attorney</th>\n",
              "      <td>36953.744022</td>\n",
              "      <td>10181.046988</td>\n",
              "    </tr>\n",
              "    <tr>\n",
              "      <th>Economic and Workforce Development</th>\n",
              "      <td>30967.985662</td>\n",
              "      <td>9320.683735</td>\n",
              "    </tr>\n",
              "    <tr>\n",
              "      <th>Elections</th>\n",
              "      <td>5943.601150</td>\n",
              "      <td>2747.257130</td>\n",
              "    </tr>\n",
              "    <tr>\n",
              "      <th>Environment</th>\n",
              "      <td>22894.330762</td>\n",
              "      <td>8619.983511</td>\n",
              "    </tr>\n",
              "    <tr>\n",
              "      <th>Ethics Commission</th>\n",
              "      <td>31241.014857</td>\n",
              "      <td>10545.761786</td>\n",
              "    </tr>\n",
              "    <tr>\n",
              "      <th>Fine Arts Museum</th>\n",
              "      <td>11836.758034</td>\n",
              "      <td>5197.549787</td>\n",
              "    </tr>\n",
              "    <tr>\n",
              "      <th>Fire Department</th>\n",
              "      <td>38290.029227</td>\n",
              "      <td>13099.219599</td>\n",
              "    </tr>\n",
              "    <tr>\n",
              "      <th>General Fund Unallocated</th>\n",
              "      <td>4782.636576</td>\n",
              "      <td>1561.210847</td>\n",
              "    </tr>\n",
              "    <tr>\n",
              "      <th>General Services Agency - City Admin</th>\n",
              "      <td>25238.638016</td>\n",
              "      <td>8933.379100</td>\n",
              "    </tr>\n",
              "    <tr>\n",
              "      <th>General Services Agency - Public Works</th>\n",
              "      <td>25959.452045</td>\n",
              "      <td>9029.748801</td>\n",
              "    </tr>\n",
              "    <tr>\n",
              "      <th>General Services Agency - Technology</th>\n",
              "      <td>29784.200195</td>\n",
              "      <td>8883.808917</td>\n",
              "    </tr>\n",
              "    <tr>\n",
              "      <th>Health Service System</th>\n",
              "      <td>19742.956066</td>\n",
              "      <td>6378.331174</td>\n",
              "    </tr>\n",
              "    <tr>\n",
              "      <th>Human Resources</th>\n",
              "      <td>20649.109210</td>\n",
              "      <td>6919.907849</td>\n",
              "    </tr>\n",
              "    <tr>\n",
              "      <th>Human Rights Commission</th>\n",
              "      <td>16403.532389</td>\n",
              "      <td>5173.778611</td>\n",
              "    </tr>\n",
              "    <tr>\n",
              "      <th>Human Services</th>\n",
              "      <td>19936.369984</td>\n",
              "      <td>7674.546518</td>\n",
              "    </tr>\n",
              "    <tr>\n",
              "      <th>Juvenile Probation</th>\n",
              "      <td>20110.130436</td>\n",
              "      <td>7992.045867</td>\n",
              "    </tr>\n",
              "    <tr>\n",
              "      <th>Law Library</th>\n",
              "      <td>58603.486875</td>\n",
              "      <td>10764.733125</td>\n",
              "    </tr>\n",
              "    <tr>\n",
              "      <th>Mayor</th>\n",
              "      <td>33713.709978</td>\n",
              "      <td>9511.467651</td>\n",
              "    </tr>\n",
              "    <tr>\n",
              "      <th>Municipal Transportation Agency</th>\n",
              "      <td>28798.554551</td>\n",
              "      <td>9941.069932</td>\n",
              "    </tr>\n",
              "    <tr>\n",
              "      <th>PUC Hetch Hetchy</th>\n",
              "      <td>28761.934795</td>\n",
              "      <td>9197.881273</td>\n",
              "    </tr>\n",
              "    <tr>\n",
              "      <th>PUC Public Utilities Commission</th>\n",
              "      <td>28983.006764</td>\n",
              "      <td>8816.110260</td>\n",
              "    </tr>\n",
              "    <tr>\n",
              "      <th>PUC Wastewater Enterprise</th>\n",
              "      <td>30629.450517</td>\n",
              "      <td>9902.994262</td>\n",
              "    </tr>\n",
              "    <tr>\n",
              "      <th>PUC Water Department</th>\n",
              "      <td>30459.410826</td>\n",
              "      <td>9786.158565</td>\n",
              "    </tr>\n",
              "    <tr>\n",
              "      <th>Police</th>\n",
              "      <td>30692.033995</td>\n",
              "      <td>10143.485486</td>\n",
              "    </tr>\n",
              "    <tr>\n",
              "      <th>Port</th>\n",
              "      <td>32226.880739</td>\n",
              "      <td>9991.140205</td>\n",
              "    </tr>\n",
              "    <tr>\n",
              "      <th>Public Defender</th>\n",
              "      <td>39796.744703</td>\n",
              "      <td>10907.267754</td>\n",
              "    </tr>\n",
              "    <tr>\n",
              "      <th>Public Health</th>\n",
              "      <td>25633.748053</td>\n",
              "      <td>8159.118278</td>\n",
              "    </tr>\n",
              "    <tr>\n",
              "      <th>Public Library</th>\n",
              "      <td>21910.092963</td>\n",
              "      <td>8434.593043</td>\n",
              "    </tr>\n",
              "    <tr>\n",
              "      <th>Recreation and Park Commission</th>\n",
              "      <td>11836.886536</td>\n",
              "      <td>4989.880333</td>\n",
              "    </tr>\n",
              "    <tr>\n",
              "      <th>Rent Arbitration Board</th>\n",
              "      <td>27481.432284</td>\n",
              "      <td>7909.497994</td>\n",
              "    </tr>\n",
              "    <tr>\n",
              "      <th>Retirement System</th>\n",
              "      <td>33894.677572</td>\n",
              "      <td>10344.939134</td>\n",
              "    </tr>\n",
              "    <tr>\n",
              "      <th>Sheriff</th>\n",
              "      <td>33363.266243</td>\n",
              "      <td>11254.777704</td>\n",
              "    </tr>\n",
              "    <tr>\n",
              "      <th>Superior Court</th>\n",
              "      <td>30219.153034</td>\n",
              "      <td>9795.919213</td>\n",
              "    </tr>\n",
              "    <tr>\n",
              "      <th>Treasurer/Tax Collector</th>\n",
              "      <td>25637.850502</td>\n",
              "      <td>8941.109746</td>\n",
              "    </tr>\n",
              "    <tr>\n",
              "      <th>War Memorial</th>\n",
              "      <td>22054.187056</td>\n",
              "      <td>7946.794766</td>\n",
              "    </tr>\n",
              "  </tbody>\n",
              "</table>\n",
              "</div>"
            ],
            "text/plain": [
              "                                        Total Benefits  Health/Dental\n",
              "Department                                                           \n",
              "Academy of Sciences                       28282.766346    9411.326058\n",
              "Adult Probation                           26637.575294    9989.085400\n",
              "Airport Commission                        28189.387995    9749.418236\n",
              "Arts Commission                           28406.851792    9865.684267\n",
              "Asian Art Museum                          21291.562124    8248.566632\n",
              "Assessor/Recorder                         27236.160790    9521.562430\n",
              "Board of Appeals                          15500.895750    5371.740750\n",
              "Board of Supervisors                      23160.355224    7282.006264\n",
              "Child Support Services                    30163.819410   10485.955741\n",
              "Children and Families Commission          29788.974160   10032.456160\n",
              "Children, Youth & Their Families          21671.395237    7236.508491\n",
              "City Attorney                             43165.948570   10882.500928\n",
              "City Planning                             25213.650587    8239.577847\n",
              "Civil Service Commission                  20242.853415    6106.056951\n",
              "Community Investment & Infrastructure     10909.498462    2690.436154\n",
              "Controller                                29416.206681    8954.831424\n",
              "Department of Building Inspection         31240.248930    9679.107715\n",
              "Department of Emergency Management        34177.628306   10048.024421\n",
              "Department of the Status of Women         13109.292793    4290.559459\n",
              "District Attorney                         36953.744022   10181.046988\n",
              "Economic and Workforce Development        30967.985662    9320.683735\n",
              "Elections                                  5943.601150    2747.257130\n",
              "Environment                               22894.330762    8619.983511\n",
              "Ethics Commission                         31241.014857   10545.761786\n",
              "Fine Arts Museum                          11836.758034    5197.549787\n",
              "Fire Department                           38290.029227   13099.219599\n",
              "General Fund Unallocated                   4782.636576    1561.210847\n",
              "General Services Agency - City Admin      25238.638016    8933.379100\n",
              "General Services Agency - Public Works    25959.452045    9029.748801\n",
              "General Services Agency - Technology      29784.200195    8883.808917\n",
              "Health Service System                     19742.956066    6378.331174\n",
              "Human Resources                           20649.109210    6919.907849\n",
              "Human Rights Commission                   16403.532389    5173.778611\n",
              "Human Services                            19936.369984    7674.546518\n",
              "Juvenile Probation                        20110.130436    7992.045867\n",
              "Law Library                               58603.486875   10764.733125\n",
              "Mayor                                     33713.709978    9511.467651\n",
              "Municipal Transportation Agency           28798.554551    9941.069932\n",
              "PUC Hetch Hetchy                          28761.934795    9197.881273\n",
              "PUC Public Utilities Commission           28983.006764    8816.110260\n",
              "PUC Wastewater Enterprise                 30629.450517    9902.994262\n",
              "PUC Water Department                      30459.410826    9786.158565\n",
              "Police                                    30692.033995   10143.485486\n",
              "Port                                      32226.880739    9991.140205\n",
              "Public Defender                           39796.744703   10907.267754\n",
              "Public Health                             25633.748053    8159.118278\n",
              "Public Library                            21910.092963    8434.593043\n",
              "Recreation and Park Commission            11836.886536    4989.880333\n",
              "Rent Arbitration Board                    27481.432284    7909.497994\n",
              "Retirement System                         33894.677572   10344.939134\n",
              "Sheriff                                   33363.266243   11254.777704\n",
              "Superior Court                            30219.153034    9795.919213\n",
              "Treasurer/Tax Collector                   25637.850502    8941.109746\n",
              "War Memorial                              22054.187056    7946.794766"
            ]
          },
          "metadata": {
            "tags": []
          },
          "execution_count": 49
        }
      ]
    },
    {
      "cell_type": "code",
      "metadata": {
        "colab": {
          "base_uri": "https://localhost:8080/",
          "height": 467
        },
        "id": "7-HepTBQYgvJ",
        "outputId": "ce094f30-b9ef-4d91-9828-94417a550aa8"
      },
      "source": [
        "df_comb[df_comb['Total Benefits'] == 0][['Job', 'Department', 'Total Benefits', 'Health/Dental']]"
      ],
      "execution_count": 50,
      "outputs": [
        {
          "output_type": "execute_result",
          "data": {
            "text/html": [
              "<div>\n",
              "<style scoped>\n",
              "    .dataframe tbody tr th:only-of-type {\n",
              "        vertical-align: middle;\n",
              "    }\n",
              "\n",
              "    .dataframe tbody tr th {\n",
              "        vertical-align: top;\n",
              "    }\n",
              "\n",
              "    .dataframe thead th {\n",
              "        text-align: right;\n",
              "    }\n",
              "</style>\n",
              "<table border=\"1\" class=\"dataframe\">\n",
              "  <thead>\n",
              "    <tr style=\"text-align: right;\">\n",
              "      <th></th>\n",
              "      <th>Job</th>\n",
              "      <th>Department</th>\n",
              "      <th>Total Benefits</th>\n",
              "      <th>Health/Dental</th>\n",
              "    </tr>\n",
              "  </thead>\n",
              "  <tbody>\n",
              "    <tr>\n",
              "      <th>1608</th>\n",
              "      <td>Lieutenant 3</td>\n",
              "      <td>Police</td>\n",
              "      <td>0.0</td>\n",
              "      <td>0.0</td>\n",
              "    </tr>\n",
              "    <tr>\n",
              "      <th>2305</th>\n",
              "      <td>Transit Operator</td>\n",
              "      <td>Municipal Transportation Agency</td>\n",
              "      <td>0.0</td>\n",
              "      <td>0.0</td>\n",
              "    </tr>\n",
              "    <tr>\n",
              "      <th>4456</th>\n",
              "      <td>Inspector 3</td>\n",
              "      <td>Police</td>\n",
              "      <td>0.0</td>\n",
              "      <td>0.0</td>\n",
              "    </tr>\n",
              "    <tr>\n",
              "      <th>4736</th>\n",
              "      <td>Deputy Sheriff</td>\n",
              "      <td>Health Service System</td>\n",
              "      <td>0.0</td>\n",
              "      <td>0.0</td>\n",
              "    </tr>\n",
              "    <tr>\n",
              "      <th>6948</th>\n",
              "      <td>Court Administrative Secretary</td>\n",
              "      <td>Health Service System</td>\n",
              "      <td>0.0</td>\n",
              "      <td>0.0</td>\n",
              "    </tr>\n",
              "    <tr>\n",
              "      <th>...</th>\n",
              "      <td>...</td>\n",
              "      <td>...</td>\n",
              "      <td>...</td>\n",
              "      <td>...</td>\n",
              "    </tr>\n",
              "    <tr>\n",
              "      <th>289988</th>\n",
              "      <td>Deputy Court Clerk III</td>\n",
              "      <td>Health Service System</td>\n",
              "      <td>0.0</td>\n",
              "      <td>0.0</td>\n",
              "    </tr>\n",
              "    <tr>\n",
              "      <th>290069</th>\n",
              "      <td>Deputy Sheriff</td>\n",
              "      <td>Health Service System</td>\n",
              "      <td>0.0</td>\n",
              "      <td>0.0</td>\n",
              "    </tr>\n",
              "    <tr>\n",
              "      <th>290209</th>\n",
              "      <td>Deputy Court Clerk III</td>\n",
              "      <td>Health Service System</td>\n",
              "      <td>0.0</td>\n",
              "      <td>0.0</td>\n",
              "    </tr>\n",
              "    <tr>\n",
              "      <th>290795</th>\n",
              "      <td>Deputy Court Clerk III</td>\n",
              "      <td>Health Service System</td>\n",
              "      <td>0.0</td>\n",
              "      <td>0.0</td>\n",
              "    </tr>\n",
              "    <tr>\n",
              "      <th>291773</th>\n",
              "      <td>Deputy Court Clerk II</td>\n",
              "      <td>Health Service System</td>\n",
              "      <td>0.0</td>\n",
              "      <td>0.0</td>\n",
              "    </tr>\n",
              "  </tbody>\n",
              "</table>\n",
              "<p>432 rows × 4 columns</p>\n",
              "</div>"
            ],
            "text/plain": [
              "                                   Job  ... Health/Dental\n",
              "1608                      Lieutenant 3  ...           0.0\n",
              "2305                  Transit Operator  ...           0.0\n",
              "4456                       Inspector 3  ...           0.0\n",
              "4736                    Deputy Sheriff  ...           0.0\n",
              "6948    Court Administrative Secretary  ...           0.0\n",
              "...                                ...  ...           ...\n",
              "289988          Deputy Court Clerk III  ...           0.0\n",
              "290069                  Deputy Sheriff  ...           0.0\n",
              "290209          Deputy Court Clerk III  ...           0.0\n",
              "290795          Deputy Court Clerk III  ...           0.0\n",
              "291773           Deputy Court Clerk II  ...           0.0\n",
              "\n",
              "[432 rows x 4 columns]"
            ]
          },
          "metadata": {
            "tags": []
          },
          "execution_count": 50
        }
      ]
    },
    {
      "cell_type": "code",
      "metadata": {
        "colab": {
          "base_uri": "https://localhost:8080/"
        },
        "id": "Y7l4bYqBYx6k",
        "outputId": "33d066b1-e7cd-4dfa-cd75-1a0cc9a7d3a0"
      },
      "source": [
        "df_comb[df_comb['Total Benefits'] == 0]['Job'].unique()\r\n"
      ],
      "execution_count": 51,
      "outputs": [
        {
          "output_type": "execute_result",
          "data": {
            "text/plain": [
              "array(['Lieutenant 3', 'Transit Operator', 'Inspector 3',\n",
              "       'Deputy Sheriff', 'Court Administrative Secretary',\n",
              "       'Deputy Court Clerk II', 'Senior Clerk Typist',\n",
              "       'Deputy Court Clerk III', 'Pool Lifeguard', 'Manager III',\n",
              "       'Swimming Instructor', 'Special Nurse', 'Assistant Deputy Chief 2',\n",
              "       'Police Officer 3', 'Training Technician', 'Sergeant 3',\n",
              "       'Truck Driver', 'Senior Power House Operator', 'Camp Assistant',\n",
              "       'Nurse Practitioner', 'Battlion Chief, Fire Suppressi',\n",
              "       'General Laborer', 'Lieutenant, Fire Suppression',\n",
              "       'Senior Deputy Sheriff', 'Transit Supervisor', 'Custodian',\n",
              "       'Deputy Dir II, MTA', 'Institutional Police Officer',\n",
              "       'Senior Eligibility Worker', 'Customer Service Agent', 'Captain 3',\n",
              "       'Secretary 2', 'Senior Parking Control Officer',\n",
              "       'Street Repair Supervisor 2', 'Pr Administrative Analyst',\n",
              "       \"Sheriff's Sergeant\", 'Public Safetycomm Disp',\n",
              "       'Community Development Asst', 'Senior Fiscal Technician',\n",
              "       \"Sheriff's Lieutenant\", 'Police Officer 2', 'Registered Nurse',\n",
              "       'Payroll Clerk', 'Firefighter', 'Recreation Leader',\n",
              "       'Invstgtor Ofc Citizen Cmplnts', 'Building Services Technician',\n",
              "       'Welfare Fraud Investigator', 'Automotive Body & Fender Wrk',\n",
              "       'Automotive Service Worker', 'Health Worker 1', 'Manager I',\n",
              "       'Deputy Chief 3', 'Parking Control Officer', 'Fiscal Technician',\n",
              "       'Asst Materials Coordinator', 'Water Const&Main Supt',\n",
              "       'Transit Fare Inspector', 'Sergeant, (Police Department)',\n",
              "       'Manager VI', 'Public Information Officer',\n",
              "       'School Crossing Guard', 'X-Ray Laboratory Aide', 'Cable Splicer',\n",
              "       'Traffic Survey Technician', 'Assistant Chief Attorney 2',\n",
              "       'Captain, Fire Suppression', 'Eligibility Worker',\n",
              "       'Transit Car Cleaner', 'Counselor, Juvenile Hall',\n",
              "       'Automotive Mechanic', 'Maintenance Machinist',\n",
              "       'Performance Analyst II'], dtype=object)"
            ]
          },
          "metadata": {
            "tags": []
          },
          "execution_count": 51
        }
      ]
    },
    {
      "cell_type": "code",
      "metadata": {
        "colab": {
          "base_uri": "https://localhost:8080/"
        },
        "id": "w-6fuxywY8jA",
        "outputId": "82a037d6-7840-4e54-aa68-1d9199bdb59b"
      },
      "source": [
        "df_comb[df_comb['Total Benefits'] == 0]['Department'].unique()\r\n"
      ],
      "execution_count": 52,
      "outputs": [
        {
          "output_type": "execute_result",
          "data": {
            "text/plain": [
              "array(['Police', 'Municipal Transportation Agency',\n",
              "       'Health Service System', 'Recreation and Park Commission',\n",
              "       'Public Health', 'Fire Department', 'Sheriff', 'Human Services',\n",
              "       'General Services Agency - City Admin', 'Airport Commission',\n",
              "       'Juvenile Probation'], dtype=object)"
            ]
          },
          "metadata": {
            "tags": []
          },
          "execution_count": 52
        }
      ]
    },
    {
      "cell_type": "code",
      "metadata": {
        "colab": {
          "base_uri": "https://localhost:8080/",
          "height": 266
        },
        "id": "fPzm4FRhZAaT",
        "outputId": "f93cdec1-490b-4115-8f03-e7bd83beb740"
      },
      "source": [
        "df_comb[df_comb['Total Benefits'] == 0].groupby('Department')['Job'].count().plot(kind = 'bar', figsize=(26,6))\r\n"
      ],
      "execution_count": 53,
      "outputs": [
        {
          "output_type": "execute_result",
          "data": {
            "text/plain": [
              "<matplotlib.axes._subplots.AxesSubplot at 0x7f66645e5a10>"
            ]
          },
          "metadata": {
            "tags": []
          },
          "execution_count": 53
        },
        {
          "output_type": "display_data",
          "data": {
            "image/png": "[encoded data removed]",
            "text/plain": [
              "<Figure size 1872x432 with 1 Axes>"
            ]
          },
          "metadata": {
            "tags": [],
            "needs_background": "light"
          }
        }
      ]
    },
    {
      "cell_type": "markdown",
      "metadata": {
        "id": "HMCfFaJwW-xB"
      },
      "source": [
        "Health Service System is the department that employs the most people who are not receiving benefits through work.\r\n",
        "\r\n",
        "What is the distribution of salaries among the people who are not receiving benefits through work?"
      ]
    },
    {
      "cell_type": "code",
      "metadata": {
        "colab": {
          "base_uri": "https://localhost:8080/",
          "height": 282
        },
        "id": "eSjLpaR6ZqJO",
        "outputId": "d6527af8-250b-4ddb-d710-09d8a5d44cd0"
      },
      "source": [
        "df_comb[df_comb['Total Benefits'] == 0]['Total Compensation'].hist(bins = 15)\r\n"
      ],
      "execution_count": 54,
      "outputs": [
        {
          "output_type": "execute_result",
          "data": {
            "text/plain": [
              "<matplotlib.axes._subplots.AxesSubplot at 0x7f66645706d0>"
            ]
          },
          "metadata": {
            "tags": []
          },
          "execution_count": 54
        },
        {
          "output_type": "display_data",
          "data": {
            "image/png": "[encoded data removed]",
            "text/plain": [
              "<Figure size 432x288 with 1 Axes>"
            ]
          },
          "metadata": {
            "tags": [],
            "needs_background": "light"
          }
        }
      ]
    },
    {
      "cell_type": "markdown",
      "metadata": {
        "id": "aXZHNm4Bd-_w"
      },
      "source": [
        "It looks like people who are not receiving benefits through work are the same people who caused our confusion in the beginning - people with zero salaries\r\n",
        "But what is the percentage of all city employees who are not receiving any benefits?"
      ]
    },
    {
      "cell_type": "code",
      "metadata": {
        "colab": {
          "base_uri": "https://localhost:8080/"
        },
        "id": "TudravZ083v4",
        "outputId": "0c26a083-6dd8-438a-eea0-89b70a5f57fb"
      },
      "source": [
        "df_comb[df_comb['Total Benefits'] == 0].shape[0]/df_comb.shape[0]\r\n"
      ],
      "execution_count": 55,
      "outputs": [
        {
          "output_type": "execute_result",
          "data": {
            "text/plain": [
              "0.0014825746006143076"
            ]
          },
          "metadata": {
            "tags": []
          },
          "execution_count": 55
        }
      ]
    },
    {
      "cell_type": "markdown",
      "metadata": {
        "id": "hO8powlfgQXO"
      },
      "source": [
        "#Data Pre-Processing"
      ]
    },
    {
      "cell_type": "markdown",
      "metadata": {
        "id": "o9LQlSnuIHL2"
      },
      "source": [
        "##Dealing with Missing values"
      ]
    },
    {
      "cell_type": "markdown",
      "metadata": {
        "id": "TXdwOlRWlGzt"
      },
      "source": [
        "As we could see below, this dataset has very few missing values. Only 43 people are missing union information, which could indicate some people are not part of any union. 45 people are missing Job Family."
      ]
    },
    {
      "cell_type": "code",
      "metadata": {
        "colab": {
          "base_uri": "https://localhost:8080/"
        },
        "id": "Y488358Wy9sl",
        "outputId": "f38489cc-b257-47a6-f5d7-d131729f526b"
      },
      "source": [
        "df_comb.isnull().sum()"
      ],
      "execution_count": 56,
      "outputs": [
        {
          "output_type": "execute_result",
          "data": {
            "text/plain": [
              "Year Type                   0\n",
              "Year                        0\n",
              "Organization Group Code     0\n",
              "Organization Group          0\n",
              "Department Code             0\n",
              "Department                  0\n",
              "Union Code                 43\n",
              "Union                      43\n",
              "Job Family Code            45\n",
              "Job Family                 45\n",
              "Job Code                    0\n",
              "Job                         0\n",
              "Employee Identifier         0\n",
              "Salaries                    0\n",
              "Overtime                    0\n",
              "Other Salaries              0\n",
              "Total Salary                0\n",
              "Retirement                  0\n",
              "Health/Dental               0\n",
              "Other Benefits              0\n",
              "Total Benefits              0\n",
              "Total Compensation          0\n",
              "Benefit Portion             0\n",
              "dtype: int64"
            ]
          },
          "metadata": {
            "tags": []
          },
          "execution_count": 56
        }
      ]
    },
    {
      "cell_type": "markdown",
      "metadata": {
        "id": "l-cMTqj7ly-E"
      },
      "source": [
        "Let's take a closer look at the missing values. Looking at table below, we could see that all missing values belong to the same employees. We could just drop it, as 45 rows could hardly affect such a large dataset. But let's look at the Jobs that have Job Family missing anyway"
      ]
    },
    {
      "cell_type": "code",
      "metadata": {
        "colab": {
          "base_uri": "https://localhost:8080/",
          "height": 1000
        },
        "id": "FRldCJAFcNSd",
        "outputId": "ff3e1d2b-63ee-4431-cf3c-b367e11ce316"
      },
      "source": [
        "df_comb[df_comb['Job Family'].isnull()].head(45)"
      ],
      "execution_count": 57,
      "outputs": [
        {
          "output_type": "execute_result",
          "data": {
            "text/html": [
              "<div>\n",
              "<style scoped>\n",
              "    .dataframe tbody tr th:only-of-type {\n",
              "        vertical-align: middle;\n",
              "    }\n",
              "\n",
              "    .dataframe tbody tr th {\n",
              "        vertical-align: top;\n",
              "    }\n",
              "\n",
              "    .dataframe thead th {\n",
              "        text-align: right;\n",
              "    }\n",
              "</style>\n",
              "<table border=\"1\" class=\"dataframe\">\n",
              "  <thead>\n",
              "    <tr style=\"text-align: right;\">\n",
              "      <th></th>\n",
              "      <th>Year Type</th>\n",
              "      <th>Year</th>\n",
              "      <th>Organization Group Code</th>\n",
              "      <th>Organization Group</th>\n",
              "      <th>Department Code</th>\n",
              "      <th>Department</th>\n",
              "      <th>Union Code</th>\n",
              "      <th>Union</th>\n",
              "      <th>Job Family Code</th>\n",
              "      <th>Job Family</th>\n",
              "      <th>Job Code</th>\n",
              "      <th>Job</th>\n",
              "      <th>Employee Identifier</th>\n",
              "      <th>Salaries</th>\n",
              "      <th>Overtime</th>\n",
              "      <th>Other Salaries</th>\n",
              "      <th>Total Salary</th>\n",
              "      <th>Retirement</th>\n",
              "      <th>Health/Dental</th>\n",
              "      <th>Other Benefits</th>\n",
              "      <th>Total Benefits</th>\n",
              "      <th>Total Compensation</th>\n",
              "      <th>Benefit Portion</th>\n",
              "    </tr>\n",
              "  </thead>\n",
              "  <tbody>\n",
              "    <tr>\n",
              "      <th>9937</th>\n",
              "      <td>Fiscal</td>\n",
              "      <td>2016</td>\n",
              "      <td>2</td>\n",
              "      <td>Public Works, Transportation &amp; Commerce</td>\n",
              "      <td>MTA</td>\n",
              "      <td>Municipal Transportation Agency</td>\n",
              "      <td>NaN</td>\n",
              "      <td>NaN</td>\n",
              "      <td>NaN</td>\n",
              "      <td>NaN</td>\n",
              "      <td>9152</td>\n",
              "      <td>Transportation Controller Trainee</td>\n",
              "      <td>46870</td>\n",
              "      <td>26640.00</td>\n",
              "      <td>1984.87</td>\n",
              "      <td>1982.61</td>\n",
              "      <td>30607.48</td>\n",
              "      <td>5245.44</td>\n",
              "      <td>4489.29</td>\n",
              "      <td>2444.34</td>\n",
              "      <td>12179.07</td>\n",
              "      <td>42786.55</td>\n",
              "      <td>0.284647</td>\n",
              "    </tr>\n",
              "    <tr>\n",
              "      <th>17372</th>\n",
              "      <td>Fiscal</td>\n",
              "      <td>2016</td>\n",
              "      <td>2</td>\n",
              "      <td>Public Works, Transportation &amp; Commerce</td>\n",
              "      <td>MTA</td>\n",
              "      <td>Municipal Transportation Agency</td>\n",
              "      <td>NaN</td>\n",
              "      <td>NaN</td>\n",
              "      <td>NaN</td>\n",
              "      <td>NaN</td>\n",
              "      <td>9152</td>\n",
              "      <td>Transportation Controller Trainee</td>\n",
              "      <td>36464</td>\n",
              "      <td>32013.30</td>\n",
              "      <td>5983.84</td>\n",
              "      <td>2426.29</td>\n",
              "      <td>40423.43</td>\n",
              "      <td>6324.89</td>\n",
              "      <td>4439.40</td>\n",
              "      <td>3245.97</td>\n",
              "      <td>14010.26</td>\n",
              "      <td>54433.69</td>\n",
              "      <td>0.257382</td>\n",
              "    </tr>\n",
              "    <tr>\n",
              "      <th>27989</th>\n",
              "      <td>Fiscal</td>\n",
              "      <td>2016</td>\n",
              "      <td>5</td>\n",
              "      <td>Culture &amp; Recreation</td>\n",
              "      <td>REC</td>\n",
              "      <td>Recreation and Park Commission</td>\n",
              "      <td>NaN</td>\n",
              "      <td>NaN</td>\n",
              "      <td>NaN</td>\n",
              "      <td>NaN</td>\n",
              "      <td>3278</td>\n",
              "      <td>Recreation Facility Assistant</td>\n",
              "      <td>8100</td>\n",
              "      <td>6888.00</td>\n",
              "      <td>0.00</td>\n",
              "      <td>56.45</td>\n",
              "      <td>6944.45</td>\n",
              "      <td>1527.09</td>\n",
              "      <td>2556.40</td>\n",
              "      <td>550.56</td>\n",
              "      <td>4634.05</td>\n",
              "      <td>11578.50</td>\n",
              "      <td>0.400229</td>\n",
              "    </tr>\n",
              "    <tr>\n",
              "      <th>31575</th>\n",
              "      <td>Fiscal</td>\n",
              "      <td>2016</td>\n",
              "      <td>5</td>\n",
              "      <td>Culture &amp; Recreation</td>\n",
              "      <td>REC</td>\n",
              "      <td>Recreation and Park Commission</td>\n",
              "      <td>NaN</td>\n",
              "      <td>NaN</td>\n",
              "      <td>NaN</td>\n",
              "      <td>NaN</td>\n",
              "      <td>3278</td>\n",
              "      <td>Recreation Facility Assistant</td>\n",
              "      <td>48008</td>\n",
              "      <td>3435.60</td>\n",
              "      <td>0.00</td>\n",
              "      <td>0.00</td>\n",
              "      <td>3435.60</td>\n",
              "      <td>755.49</td>\n",
              "      <td>1275.09</td>\n",
              "      <td>271.93</td>\n",
              "      <td>2302.51</td>\n",
              "      <td>5738.11</td>\n",
              "      <td>0.401266</td>\n",
              "    </tr>\n",
              "    <tr>\n",
              "      <th>38030</th>\n",
              "      <td>Fiscal</td>\n",
              "      <td>2016</td>\n",
              "      <td>5</td>\n",
              "      <td>Culture &amp; Recreation</td>\n",
              "      <td>REC</td>\n",
              "      <td>Recreation and Park Commission</td>\n",
              "      <td>NaN</td>\n",
              "      <td>NaN</td>\n",
              "      <td>NaN</td>\n",
              "      <td>NaN</td>\n",
              "      <td>3278</td>\n",
              "      <td>Recreation Facility Assistant</td>\n",
              "      <td>19116</td>\n",
              "      <td>2688.00</td>\n",
              "      <td>0.00</td>\n",
              "      <td>0.00</td>\n",
              "      <td>2688.00</td>\n",
              "      <td>591.10</td>\n",
              "      <td>997.62</td>\n",
              "      <td>213.96</td>\n",
              "      <td>1802.68</td>\n",
              "      <td>4490.68</td>\n",
              "      <td>0.401427</td>\n",
              "    </tr>\n",
              "    <tr>\n",
              "      <th>40110</th>\n",
              "      <td>Fiscal</td>\n",
              "      <td>2016</td>\n",
              "      <td>5</td>\n",
              "      <td>Culture &amp; Recreation</td>\n",
              "      <td>REC</td>\n",
              "      <td>Recreation and Park Commission</td>\n",
              "      <td>NaN</td>\n",
              "      <td>NaN</td>\n",
              "      <td>NaN</td>\n",
              "      <td>NaN</td>\n",
              "      <td>3278</td>\n",
              "      <td>Recreation Facility Assistant</td>\n",
              "      <td>20672</td>\n",
              "      <td>6333.60</td>\n",
              "      <td>0.00</td>\n",
              "      <td>145.15</td>\n",
              "      <td>6478.75</td>\n",
              "      <td>1424.69</td>\n",
              "      <td>2350.64</td>\n",
              "      <td>513.32</td>\n",
              "      <td>4288.65</td>\n",
              "      <td>10767.40</td>\n",
              "      <td>0.398299</td>\n",
              "    </tr>\n",
              "    <tr>\n",
              "      <th>41527</th>\n",
              "      <td>Fiscal</td>\n",
              "      <td>2016</td>\n",
              "      <td>2</td>\n",
              "      <td>Public Works, Transportation &amp; Commerce</td>\n",
              "      <td>MTA</td>\n",
              "      <td>Municipal Transportation Agency</td>\n",
              "      <td>NaN</td>\n",
              "      <td>NaN</td>\n",
              "      <td>NaN</td>\n",
              "      <td>NaN</td>\n",
              "      <td>9152</td>\n",
              "      <td>Transportation Controller Trainee</td>\n",
              "      <td>13880</td>\n",
              "      <td>28416.30</td>\n",
              "      <td>0.00</td>\n",
              "      <td>1809.63</td>\n",
              "      <td>30225.93</td>\n",
              "      <td>5522.76</td>\n",
              "      <td>3940.59</td>\n",
              "      <td>2434.63</td>\n",
              "      <td>11897.98</td>\n",
              "      <td>42123.91</td>\n",
              "      <td>0.282452</td>\n",
              "    </tr>\n",
              "    <tr>\n",
              "      <th>42154</th>\n",
              "      <td>Fiscal</td>\n",
              "      <td>2016</td>\n",
              "      <td>5</td>\n",
              "      <td>Culture &amp; Recreation</td>\n",
              "      <td>REC</td>\n",
              "      <td>Recreation and Park Commission</td>\n",
              "      <td>NaN</td>\n",
              "      <td>NaN</td>\n",
              "      <td>NaN</td>\n",
              "      <td>NaN</td>\n",
              "      <td>3278</td>\n",
              "      <td>Recreation Facility Assistant</td>\n",
              "      <td>29346</td>\n",
              "      <td>4834.20</td>\n",
              "      <td>0.00</td>\n",
              "      <td>112.23</td>\n",
              "      <td>4946.43</td>\n",
              "      <td>1087.72</td>\n",
              "      <td>1794.15</td>\n",
              "      <td>394.55</td>\n",
              "      <td>3276.42</td>\n",
              "      <td>8222.85</td>\n",
              "      <td>0.398453</td>\n",
              "    </tr>\n",
              "    <tr>\n",
              "      <th>49170</th>\n",
              "      <td>Fiscal</td>\n",
              "      <td>2016</td>\n",
              "      <td>5</td>\n",
              "      <td>Culture &amp; Recreation</td>\n",
              "      <td>REC</td>\n",
              "      <td>Recreation and Park Commission</td>\n",
              "      <td>NaN</td>\n",
              "      <td>NaN</td>\n",
              "      <td>NaN</td>\n",
              "      <td>NaN</td>\n",
              "      <td>3278</td>\n",
              "      <td>Recreation Facility Assistant</td>\n",
              "      <td>17622</td>\n",
              "      <td>5409.60</td>\n",
              "      <td>0.00</td>\n",
              "      <td>124.99</td>\n",
              "      <td>5534.59</td>\n",
              "      <td>1217.05</td>\n",
              "      <td>2007.70</td>\n",
              "      <td>440.50</td>\n",
              "      <td>3665.25</td>\n",
              "      <td>9199.84</td>\n",
              "      <td>0.398404</td>\n",
              "    </tr>\n",
              "    <tr>\n",
              "      <th>49580</th>\n",
              "      <td>Fiscal</td>\n",
              "      <td>2016</td>\n",
              "      <td>5</td>\n",
              "      <td>Culture &amp; Recreation</td>\n",
              "      <td>REC</td>\n",
              "      <td>Recreation and Park Commission</td>\n",
              "      <td>NaN</td>\n",
              "      <td>NaN</td>\n",
              "      <td>NaN</td>\n",
              "      <td>NaN</td>\n",
              "      <td>3278</td>\n",
              "      <td>Recreation Facility Assistant</td>\n",
              "      <td>44047</td>\n",
              "      <td>672.00</td>\n",
              "      <td>0.00</td>\n",
              "      <td>10.75</td>\n",
              "      <td>682.75</td>\n",
              "      <td>150.14</td>\n",
              "      <td>249.40</td>\n",
              "      <td>52.99</td>\n",
              "      <td>452.53</td>\n",
              "      <td>1135.28</td>\n",
              "      <td>0.398607</td>\n",
              "    </tr>\n",
              "    <tr>\n",
              "      <th>51418</th>\n",
              "      <td>Fiscal</td>\n",
              "      <td>2016</td>\n",
              "      <td>5</td>\n",
              "      <td>Culture &amp; Recreation</td>\n",
              "      <td>REC</td>\n",
              "      <td>Recreation and Park Commission</td>\n",
              "      <td>NaN</td>\n",
              "      <td>NaN</td>\n",
              "      <td>NaN</td>\n",
              "      <td>NaN</td>\n",
              "      <td>3278</td>\n",
              "      <td>Recreation Facility Assistant</td>\n",
              "      <td>53710</td>\n",
              "      <td>7728.00</td>\n",
              "      <td>0.00</td>\n",
              "      <td>141.12</td>\n",
              "      <td>7869.12</td>\n",
              "      <td>1730.43</td>\n",
              "      <td>2868.15</td>\n",
              "      <td>615.66</td>\n",
              "      <td>5214.24</td>\n",
              "      <td>13083.36</td>\n",
              "      <td>0.398540</td>\n",
              "    </tr>\n",
              "    <tr>\n",
              "      <th>56321</th>\n",
              "      <td>Fiscal</td>\n",
              "      <td>2016</td>\n",
              "      <td>6</td>\n",
              "      <td>General Administration &amp; Finance</td>\n",
              "      <td>RET</td>\n",
              "      <td>Retirement System</td>\n",
              "      <td>351.0</td>\n",
              "      <td>Municipal Exec Assoc-Misc</td>\n",
              "      <td>NaN</td>\n",
              "      <td>NaN</td>\n",
              "      <td>1116</td>\n",
              "      <td>Managing Director</td>\n",
              "      <td>46922</td>\n",
              "      <td>98099.10</td>\n",
              "      <td>0.00</td>\n",
              "      <td>0.00</td>\n",
              "      <td>98099.10</td>\n",
              "      <td>17785.35</td>\n",
              "      <td>4938.21</td>\n",
              "      <td>14585.78</td>\n",
              "      <td>37309.34</td>\n",
              "      <td>135408.44</td>\n",
              "      <td>0.275532</td>\n",
              "    </tr>\n",
              "    <tr>\n",
              "      <th>61370</th>\n",
              "      <td>Fiscal</td>\n",
              "      <td>2016</td>\n",
              "      <td>5</td>\n",
              "      <td>Culture &amp; Recreation</td>\n",
              "      <td>REC</td>\n",
              "      <td>Recreation and Park Commission</td>\n",
              "      <td>NaN</td>\n",
              "      <td>NaN</td>\n",
              "      <td>NaN</td>\n",
              "      <td>NaN</td>\n",
              "      <td>3278</td>\n",
              "      <td>Recreation Facility Assistant</td>\n",
              "      <td>10821</td>\n",
              "      <td>4292.40</td>\n",
              "      <td>0.00</td>\n",
              "      <td>150.52</td>\n",
              "      <td>4442.92</td>\n",
              "      <td>977.00</td>\n",
              "      <td>1593.07</td>\n",
              "      <td>356.40</td>\n",
              "      <td>2926.47</td>\n",
              "      <td>7369.39</td>\n",
              "      <td>0.397112</td>\n",
              "    </tr>\n",
              "    <tr>\n",
              "      <th>75157</th>\n",
              "      <td>Fiscal</td>\n",
              "      <td>2016</td>\n",
              "      <td>5</td>\n",
              "      <td>Culture &amp; Recreation</td>\n",
              "      <td>REC</td>\n",
              "      <td>Recreation and Park Commission</td>\n",
              "      <td>NaN</td>\n",
              "      <td>NaN</td>\n",
              "      <td>NaN</td>\n",
              "      <td>NaN</td>\n",
              "      <td>3278</td>\n",
              "      <td>Recreation Facility Assistant</td>\n",
              "      <td>49918</td>\n",
              "      <td>5728.80</td>\n",
              "      <td>0.00</td>\n",
              "      <td>112.23</td>\n",
              "      <td>5841.03</td>\n",
              "      <td>1284.44</td>\n",
              "      <td>2126.18</td>\n",
              "      <td>463.83</td>\n",
              "      <td>3874.45</td>\n",
              "      <td>9715.48</td>\n",
              "      <td>0.398791</td>\n",
              "    </tr>\n",
              "    <tr>\n",
              "      <th>82354</th>\n",
              "      <td>Fiscal</td>\n",
              "      <td>2016</td>\n",
              "      <td>2</td>\n",
              "      <td>Public Works, Transportation &amp; Commerce</td>\n",
              "      <td>MTA</td>\n",
              "      <td>Municipal Transportation Agency</td>\n",
              "      <td>NaN</td>\n",
              "      <td>NaN</td>\n",
              "      <td>NaN</td>\n",
              "      <td>NaN</td>\n",
              "      <td>9152</td>\n",
              "      <td>Transportation Controller Trainee</td>\n",
              "      <td>7879</td>\n",
              "      <td>14028.30</td>\n",
              "      <td>1486.01</td>\n",
              "      <td>1260.08</td>\n",
              "      <td>16774.39</td>\n",
              "      <td>2747.69</td>\n",
              "      <td>1945.36</td>\n",
              "      <td>1382.35</td>\n",
              "      <td>6075.40</td>\n",
              "      <td>22849.79</td>\n",
              "      <td>0.265884</td>\n",
              "    </tr>\n",
              "    <tr>\n",
              "      <th>83542</th>\n",
              "      <td>Fiscal</td>\n",
              "      <td>2016</td>\n",
              "      <td>6</td>\n",
              "      <td>General Administration &amp; Finance</td>\n",
              "      <td>RET</td>\n",
              "      <td>Retirement System</td>\n",
              "      <td>351.0</td>\n",
              "      <td>Municipal Exec Assoc-Misc</td>\n",
              "      <td>NaN</td>\n",
              "      <td>NaN</td>\n",
              "      <td>1116</td>\n",
              "      <td>Managing Director</td>\n",
              "      <td>11707</td>\n",
              "      <td>117917.10</td>\n",
              "      <td>0.00</td>\n",
              "      <td>0.00</td>\n",
              "      <td>117917.10</td>\n",
              "      <td>21378.35</td>\n",
              "      <td>5935.83</td>\n",
              "      <td>11274.39</td>\n",
              "      <td>38588.57</td>\n",
              "      <td>156505.67</td>\n",
              "      <td>0.246563</td>\n",
              "    </tr>\n",
              "    <tr>\n",
              "      <th>84924</th>\n",
              "      <td>Fiscal</td>\n",
              "      <td>2016</td>\n",
              "      <td>5</td>\n",
              "      <td>Culture &amp; Recreation</td>\n",
              "      <td>REC</td>\n",
              "      <td>Recreation and Park Commission</td>\n",
              "      <td>NaN</td>\n",
              "      <td>NaN</td>\n",
              "      <td>NaN</td>\n",
              "      <td>NaN</td>\n",
              "      <td>3278</td>\n",
              "      <td>Recreation Facility Assistant</td>\n",
              "      <td>32411</td>\n",
              "      <td>5602.80</td>\n",
              "      <td>0.00</td>\n",
              "      <td>178.74</td>\n",
              "      <td>5781.54</td>\n",
              "      <td>1271.35</td>\n",
              "      <td>2079.41</td>\n",
              "      <td>459.22</td>\n",
              "      <td>3809.98</td>\n",
              "      <td>9591.52</td>\n",
              "      <td>0.397224</td>\n",
              "    </tr>\n",
              "    <tr>\n",
              "      <th>87535</th>\n",
              "      <td>Fiscal</td>\n",
              "      <td>2016</td>\n",
              "      <td>5</td>\n",
              "      <td>Culture &amp; Recreation</td>\n",
              "      <td>REC</td>\n",
              "      <td>Recreation and Park Commission</td>\n",
              "      <td>NaN</td>\n",
              "      <td>NaN</td>\n",
              "      <td>NaN</td>\n",
              "      <td>NaN</td>\n",
              "      <td>3278</td>\n",
              "      <td>Recreation Facility Assistant</td>\n",
              "      <td>35529</td>\n",
              "      <td>1428.00</td>\n",
              "      <td>0.00</td>\n",
              "      <td>13.44</td>\n",
              "      <td>1441.44</td>\n",
              "      <td>316.98</td>\n",
              "      <td>529.98</td>\n",
              "      <td>110.26</td>\n",
              "      <td>957.22</td>\n",
              "      <td>2398.66</td>\n",
              "      <td>0.399064</td>\n",
              "    </tr>\n",
              "    <tr>\n",
              "      <th>91928</th>\n",
              "      <td>Fiscal</td>\n",
              "      <td>2016</td>\n",
              "      <td>2</td>\n",
              "      <td>Public Works, Transportation &amp; Commerce</td>\n",
              "      <td>MTA</td>\n",
              "      <td>Municipal Transportation Agency</td>\n",
              "      <td>NaN</td>\n",
              "      <td>NaN</td>\n",
              "      <td>NaN</td>\n",
              "      <td>NaN</td>\n",
              "      <td>9152</td>\n",
              "      <td>Transportation Controller Trainee</td>\n",
              "      <td>8757</td>\n",
              "      <td>28416.30</td>\n",
              "      <td>1430.31</td>\n",
              "      <td>2384.19</td>\n",
              "      <td>32230.80</td>\n",
              "      <td>5638.18</td>\n",
              "      <td>3940.59</td>\n",
              "      <td>2643.13</td>\n",
              "      <td>12221.90</td>\n",
              "      <td>44452.70</td>\n",
              "      <td>0.274942</td>\n",
              "    </tr>\n",
              "    <tr>\n",
              "      <th>93724</th>\n",
              "      <td>Fiscal</td>\n",
              "      <td>2016</td>\n",
              "      <td>5</td>\n",
              "      <td>Culture &amp; Recreation</td>\n",
              "      <td>REC</td>\n",
              "      <td>Recreation and Park Commission</td>\n",
              "      <td>NaN</td>\n",
              "      <td>NaN</td>\n",
              "      <td>NaN</td>\n",
              "      <td>NaN</td>\n",
              "      <td>3278</td>\n",
              "      <td>Recreation Facility Assistant</td>\n",
              "      <td>31034</td>\n",
              "      <td>3897.60</td>\n",
              "      <td>0.00</td>\n",
              "      <td>36.29</td>\n",
              "      <td>3933.89</td>\n",
              "      <td>865.06</td>\n",
              "      <td>1446.55</td>\n",
              "      <td>310.96</td>\n",
              "      <td>2622.57</td>\n",
              "      <td>6556.46</td>\n",
              "      <td>0.399998</td>\n",
              "    </tr>\n",
              "    <tr>\n",
              "      <th>113823</th>\n",
              "      <td>Fiscal</td>\n",
              "      <td>2016</td>\n",
              "      <td>2</td>\n",
              "      <td>Public Works, Transportation &amp; Commerce</td>\n",
              "      <td>MTA</td>\n",
              "      <td>Municipal Transportation Agency</td>\n",
              "      <td>NaN</td>\n",
              "      <td>NaN</td>\n",
              "      <td>NaN</td>\n",
              "      <td>NaN</td>\n",
              "      <td>9152</td>\n",
              "      <td>Transportation Controller Trainee</td>\n",
              "      <td>2785</td>\n",
              "      <td>11544.00</td>\n",
              "      <td>169.28</td>\n",
              "      <td>1254.12</td>\n",
              "      <td>12967.40</td>\n",
              "      <td>2291.35</td>\n",
              "      <td>1945.36</td>\n",
              "      <td>1051.04</td>\n",
              "      <td>5287.75</td>\n",
              "      <td>18255.15</td>\n",
              "      <td>0.289658</td>\n",
              "    </tr>\n",
              "    <tr>\n",
              "      <th>118604</th>\n",
              "      <td>Fiscal</td>\n",
              "      <td>2016</td>\n",
              "      <td>5</td>\n",
              "      <td>Culture &amp; Recreation</td>\n",
              "      <td>REC</td>\n",
              "      <td>Recreation and Park Commission</td>\n",
              "      <td>NaN</td>\n",
              "      <td>NaN</td>\n",
              "      <td>NaN</td>\n",
              "      <td>NaN</td>\n",
              "      <td>3278</td>\n",
              "      <td>Recreation Facility Assistant</td>\n",
              "      <td>12995</td>\n",
              "      <td>5258.40</td>\n",
              "      <td>0.00</td>\n",
              "      <td>198.91</td>\n",
              "      <td>5457.31</td>\n",
              "      <td>1200.06</td>\n",
              "      <td>1951.59</td>\n",
              "      <td>434.29</td>\n",
              "      <td>3585.94</td>\n",
              "      <td>9043.25</td>\n",
              "      <td>0.396532</td>\n",
              "    </tr>\n",
              "    <tr>\n",
              "      <th>119282</th>\n",
              "      <td>Fiscal</td>\n",
              "      <td>2016</td>\n",
              "      <td>2</td>\n",
              "      <td>Public Works, Transportation &amp; Commerce</td>\n",
              "      <td>MTA</td>\n",
              "      <td>Municipal Transportation Agency</td>\n",
              "      <td>NaN</td>\n",
              "      <td>NaN</td>\n",
              "      <td>NaN</td>\n",
              "      <td>NaN</td>\n",
              "      <td>9152</td>\n",
              "      <td>Transportation Controller Trainee</td>\n",
              "      <td>20967</td>\n",
              "      <td>32013.30</td>\n",
              "      <td>5227.69</td>\n",
              "      <td>2701.59</td>\n",
              "      <td>39942.58</td>\n",
              "      <td>6364.34</td>\n",
              "      <td>4439.40</td>\n",
              "      <td>3135.58</td>\n",
              "      <td>13939.32</td>\n",
              "      <td>53881.90</td>\n",
              "      <td>0.258701</td>\n",
              "    </tr>\n",
              "    <tr>\n",
              "      <th>123272</th>\n",
              "      <td>Fiscal</td>\n",
              "      <td>2016</td>\n",
              "      <td>5</td>\n",
              "      <td>Culture &amp; Recreation</td>\n",
              "      <td>REC</td>\n",
              "      <td>Recreation and Park Commission</td>\n",
              "      <td>NaN</td>\n",
              "      <td>NaN</td>\n",
              "      <td>NaN</td>\n",
              "      <td>NaN</td>\n",
              "      <td>3278</td>\n",
              "      <td>Recreation Facility Assistant</td>\n",
              "      <td>29821</td>\n",
              "      <td>1394.40</td>\n",
              "      <td>0.00</td>\n",
              "      <td>32.26</td>\n",
              "      <td>1426.66</td>\n",
              "      <td>313.73</td>\n",
              "      <td>517.51</td>\n",
              "      <td>110.54</td>\n",
              "      <td>941.78</td>\n",
              "      <td>2368.44</td>\n",
              "      <td>0.397637</td>\n",
              "    </tr>\n",
              "    <tr>\n",
              "      <th>131399</th>\n",
              "      <td>Fiscal</td>\n",
              "      <td>2016</td>\n",
              "      <td>5</td>\n",
              "      <td>Culture &amp; Recreation</td>\n",
              "      <td>REC</td>\n",
              "      <td>Recreation and Park Commission</td>\n",
              "      <td>NaN</td>\n",
              "      <td>NaN</td>\n",
              "      <td>NaN</td>\n",
              "      <td>NaN</td>\n",
              "      <td>3278</td>\n",
              "      <td>Recreation Facility Assistant</td>\n",
              "      <td>49941</td>\n",
              "      <td>4672.50</td>\n",
              "      <td>0.00</td>\n",
              "      <td>31.20</td>\n",
              "      <td>4703.70</td>\n",
              "      <td>1034.35</td>\n",
              "      <td>1942.24</td>\n",
              "      <td>374.41</td>\n",
              "      <td>3351.00</td>\n",
              "      <td>8054.70</td>\n",
              "      <td>0.416030</td>\n",
              "    </tr>\n",
              "    <tr>\n",
              "      <th>142981</th>\n",
              "      <td>Fiscal</td>\n",
              "      <td>2016</td>\n",
              "      <td>2</td>\n",
              "      <td>Public Works, Transportation &amp; Commerce</td>\n",
              "      <td>MTA</td>\n",
              "      <td>Municipal Transportation Agency</td>\n",
              "      <td>NaN</td>\n",
              "      <td>NaN</td>\n",
              "      <td>NaN</td>\n",
              "      <td>NaN</td>\n",
              "      <td>9152</td>\n",
              "      <td>Transportation Controller Trainee</td>\n",
              "      <td>32783</td>\n",
              "      <td>26344.00</td>\n",
              "      <td>313.49</td>\n",
              "      <td>2158.77</td>\n",
              "      <td>28816.26</td>\n",
              "      <td>5218.74</td>\n",
              "      <td>4439.40</td>\n",
              "      <td>2208.93</td>\n",
              "      <td>11867.07</td>\n",
              "      <td>40683.33</td>\n",
              "      <td>0.291694</td>\n",
              "    </tr>\n",
              "    <tr>\n",
              "      <th>144974</th>\n",
              "      <td>Fiscal</td>\n",
              "      <td>2016</td>\n",
              "      <td>2</td>\n",
              "      <td>Public Works, Transportation &amp; Commerce</td>\n",
              "      <td>MTA</td>\n",
              "      <td>Municipal Transportation Agency</td>\n",
              "      <td>NaN</td>\n",
              "      <td>NaN</td>\n",
              "      <td>NaN</td>\n",
              "      <td>NaN</td>\n",
              "      <td>9152</td>\n",
              "      <td>Transportation Controller Trainee</td>\n",
              "      <td>17682</td>\n",
              "      <td>25179.00</td>\n",
              "      <td>5260.85</td>\n",
              "      <td>2363.15</td>\n",
              "      <td>32803.00</td>\n",
              "      <td>5039.43</td>\n",
              "      <td>3491.67</td>\n",
              "      <td>2678.19</td>\n",
              "      <td>11209.29</td>\n",
              "      <td>44012.29</td>\n",
              "      <td>0.254685</td>\n",
              "    </tr>\n",
              "    <tr>\n",
              "      <th>152710</th>\n",
              "      <td>Fiscal</td>\n",
              "      <td>2016</td>\n",
              "      <td>5</td>\n",
              "      <td>Culture &amp; Recreation</td>\n",
              "      <td>REC</td>\n",
              "      <td>Recreation and Park Commission</td>\n",
              "      <td>NaN</td>\n",
              "      <td>NaN</td>\n",
              "      <td>NaN</td>\n",
              "      <td>NaN</td>\n",
              "      <td>3278</td>\n",
              "      <td>Recreation Facility Assistant</td>\n",
              "      <td>13903</td>\n",
              "      <td>1260.00</td>\n",
              "      <td>0.00</td>\n",
              "      <td>10.75</td>\n",
              "      <td>1270.75</td>\n",
              "      <td>279.44</td>\n",
              "      <td>467.64</td>\n",
              "      <td>104.32</td>\n",
              "      <td>851.40</td>\n",
              "      <td>2122.15</td>\n",
              "      <td>0.401197</td>\n",
              "    </tr>\n",
              "    <tr>\n",
              "      <th>153094</th>\n",
              "      <td>Fiscal</td>\n",
              "      <td>2016</td>\n",
              "      <td>5</td>\n",
              "      <td>Culture &amp; Recreation</td>\n",
              "      <td>REC</td>\n",
              "      <td>Recreation and Park Commission</td>\n",
              "      <td>NaN</td>\n",
              "      <td>NaN</td>\n",
              "      <td>NaN</td>\n",
              "      <td>NaN</td>\n",
              "      <td>3278</td>\n",
              "      <td>Recreation Facility Assistant</td>\n",
              "      <td>47770</td>\n",
              "      <td>2721.60</td>\n",
              "      <td>0.00</td>\n",
              "      <td>123.64</td>\n",
              "      <td>2845.24</td>\n",
              "      <td>625.67</td>\n",
              "      <td>1010.09</td>\n",
              "      <td>226.06</td>\n",
              "      <td>1861.82</td>\n",
              "      <td>4707.06</td>\n",
              "      <td>0.395538</td>\n",
              "    </tr>\n",
              "    <tr>\n",
              "      <th>169508</th>\n",
              "      <td>Fiscal</td>\n",
              "      <td>2016</td>\n",
              "      <td>2</td>\n",
              "      <td>Public Works, Transportation &amp; Commerce</td>\n",
              "      <td>MTA</td>\n",
              "      <td>Municipal Transportation Agency</td>\n",
              "      <td>NaN</td>\n",
              "      <td>NaN</td>\n",
              "      <td>NaN</td>\n",
              "      <td>NaN</td>\n",
              "      <td>9152</td>\n",
              "      <td>Transportation Controller Trainee</td>\n",
              "      <td>35856</td>\n",
              "      <td>13018.80</td>\n",
              "      <td>195.92</td>\n",
              "      <td>1308.05</td>\n",
              "      <td>14522.77</td>\n",
              "      <td>2566.62</td>\n",
              "      <td>1895.47</td>\n",
              "      <td>1168.65</td>\n",
              "      <td>5630.74</td>\n",
              "      <td>20153.51</td>\n",
              "      <td>0.279393</td>\n",
              "    </tr>\n",
              "    <tr>\n",
              "      <th>179098</th>\n",
              "      <td>Fiscal</td>\n",
              "      <td>2016</td>\n",
              "      <td>2</td>\n",
              "      <td>Public Works, Transportation &amp; Commerce</td>\n",
              "      <td>MTA</td>\n",
              "      <td>Municipal Transportation Agency</td>\n",
              "      <td>NaN</td>\n",
              "      <td>NaN</td>\n",
              "      <td>NaN</td>\n",
              "      <td>NaN</td>\n",
              "      <td>9152</td>\n",
              "      <td>Transportation Controller Trainee</td>\n",
              "      <td>52365</td>\n",
              "      <td>26344.00</td>\n",
              "      <td>356.13</td>\n",
              "      <td>1785.17</td>\n",
              "      <td>28485.30</td>\n",
              "      <td>5152.18</td>\n",
              "      <td>4439.40</td>\n",
              "      <td>2263.69</td>\n",
              "      <td>11855.27</td>\n",
              "      <td>40340.57</td>\n",
              "      <td>0.293880</td>\n",
              "    </tr>\n",
              "    <tr>\n",
              "      <th>180489</th>\n",
              "      <td>Fiscal</td>\n",
              "      <td>2016</td>\n",
              "      <td>2</td>\n",
              "      <td>Public Works, Transportation &amp; Commerce</td>\n",
              "      <td>MTA</td>\n",
              "      <td>Municipal Transportation Agency</td>\n",
              "      <td>NaN</td>\n",
              "      <td>NaN</td>\n",
              "      <td>NaN</td>\n",
              "      <td>NaN</td>\n",
              "      <td>9152</td>\n",
              "      <td>Transportation Controller Trainee</td>\n",
              "      <td>43772</td>\n",
              "      <td>17626.21</td>\n",
              "      <td>834.82</td>\n",
              "      <td>1349.21</td>\n",
              "      <td>19810.24</td>\n",
              "      <td>3536.07</td>\n",
              "      <td>2444.29</td>\n",
              "      <td>1561.30</td>\n",
              "      <td>7541.66</td>\n",
              "      <td>27351.90</td>\n",
              "      <td>0.275727</td>\n",
              "    </tr>\n",
              "    <tr>\n",
              "      <th>196958</th>\n",
              "      <td>Fiscal</td>\n",
              "      <td>2016</td>\n",
              "      <td>2</td>\n",
              "      <td>Public Works, Transportation &amp; Commerce</td>\n",
              "      <td>MTA</td>\n",
              "      <td>Municipal Transportation Agency</td>\n",
              "      <td>NaN</td>\n",
              "      <td>NaN</td>\n",
              "      <td>NaN</td>\n",
              "      <td>NaN</td>\n",
              "      <td>9152</td>\n",
              "      <td>Transportation Controller Trainee</td>\n",
              "      <td>32368</td>\n",
              "      <td>28416.30</td>\n",
              "      <td>4703.09</td>\n",
              "      <td>1860.56</td>\n",
              "      <td>34979.95</td>\n",
              "      <td>5545.83</td>\n",
              "      <td>3940.59</td>\n",
              "      <td>2811.14</td>\n",
              "      <td>12297.56</td>\n",
              "      <td>47277.51</td>\n",
              "      <td>0.260114</td>\n",
              "    </tr>\n",
              "    <tr>\n",
              "      <th>201261</th>\n",
              "      <td>Fiscal</td>\n",
              "      <td>2016</td>\n",
              "      <td>5</td>\n",
              "      <td>Culture &amp; Recreation</td>\n",
              "      <td>REC</td>\n",
              "      <td>Recreation and Park Commission</td>\n",
              "      <td>NaN</td>\n",
              "      <td>NaN</td>\n",
              "      <td>NaN</td>\n",
              "      <td>NaN</td>\n",
              "      <td>3278</td>\n",
              "      <td>Recreation Facility Assistant</td>\n",
              "      <td>39471</td>\n",
              "      <td>5392.80</td>\n",
              "      <td>0.00</td>\n",
              "      <td>67.20</td>\n",
              "      <td>5460.00</td>\n",
              "      <td>1200.66</td>\n",
              "      <td>2001.47</td>\n",
              "      <td>435.35</td>\n",
              "      <td>3637.48</td>\n",
              "      <td>9097.48</td>\n",
              "      <td>0.399834</td>\n",
              "    </tr>\n",
              "    <tr>\n",
              "      <th>229390</th>\n",
              "      <td>Fiscal</td>\n",
              "      <td>2016</td>\n",
              "      <td>2</td>\n",
              "      <td>Public Works, Transportation &amp; Commerce</td>\n",
              "      <td>MTA</td>\n",
              "      <td>Municipal Transportation Agency</td>\n",
              "      <td>NaN</td>\n",
              "      <td>NaN</td>\n",
              "      <td>NaN</td>\n",
              "      <td>NaN</td>\n",
              "      <td>9152</td>\n",
              "      <td>Transportation Controller Trainee</td>\n",
              "      <td>44834</td>\n",
              "      <td>11840.00</td>\n",
              "      <td>476.70</td>\n",
              "      <td>601.99</td>\n",
              "      <td>12918.69</td>\n",
              "      <td>2316.75</td>\n",
              "      <td>1995.23</td>\n",
              "      <td>1058.78</td>\n",
              "      <td>5370.76</td>\n",
              "      <td>18289.45</td>\n",
              "      <td>0.293653</td>\n",
              "    </tr>\n",
              "    <tr>\n",
              "      <th>232360</th>\n",
              "      <td>Fiscal</td>\n",
              "      <td>2016</td>\n",
              "      <td>2</td>\n",
              "      <td>Public Works, Transportation &amp; Commerce</td>\n",
              "      <td>MTA</td>\n",
              "      <td>Municipal Transportation Agency</td>\n",
              "      <td>NaN</td>\n",
              "      <td>NaN</td>\n",
              "      <td>NaN</td>\n",
              "      <td>NaN</td>\n",
              "      <td>9152</td>\n",
              "      <td>Transportation Controller Trainee</td>\n",
              "      <td>21572</td>\n",
              "      <td>28416.30</td>\n",
              "      <td>2941.45</td>\n",
              "      <td>2921.69</td>\n",
              "      <td>34279.44</td>\n",
              "      <td>5713.82</td>\n",
              "      <td>3940.59</td>\n",
              "      <td>2812.24</td>\n",
              "      <td>12466.65</td>\n",
              "      <td>46746.09</td>\n",
              "      <td>0.266689</td>\n",
              "    </tr>\n",
              "    <tr>\n",
              "      <th>234168</th>\n",
              "      <td>Fiscal</td>\n",
              "      <td>2016</td>\n",
              "      <td>5</td>\n",
              "      <td>Culture &amp; Recreation</td>\n",
              "      <td>REC</td>\n",
              "      <td>Recreation and Park Commission</td>\n",
              "      <td>NaN</td>\n",
              "      <td>NaN</td>\n",
              "      <td>NaN</td>\n",
              "      <td>NaN</td>\n",
              "      <td>3278</td>\n",
              "      <td>Recreation Facility Assistant</td>\n",
              "      <td>43258</td>\n",
              "      <td>604.80</td>\n",
              "      <td>0.00</td>\n",
              "      <td>0.00</td>\n",
              "      <td>604.80</td>\n",
              "      <td>133.00</td>\n",
              "      <td>224.47</td>\n",
              "      <td>46.84</td>\n",
              "      <td>404.31</td>\n",
              "      <td>1009.11</td>\n",
              "      <td>0.400660</td>\n",
              "    </tr>\n",
              "    <tr>\n",
              "      <th>247351</th>\n",
              "      <td>Fiscal</td>\n",
              "      <td>2016</td>\n",
              "      <td>5</td>\n",
              "      <td>Culture &amp; Recreation</td>\n",
              "      <td>REC</td>\n",
              "      <td>Recreation and Park Commission</td>\n",
              "      <td>NaN</td>\n",
              "      <td>NaN</td>\n",
              "      <td>NaN</td>\n",
              "      <td>NaN</td>\n",
              "      <td>3278</td>\n",
              "      <td>Recreation Facility Assistant</td>\n",
              "      <td>29891</td>\n",
              "      <td>3964.80</td>\n",
              "      <td>0.00</td>\n",
              "      <td>24.18</td>\n",
              "      <td>3988.98</td>\n",
              "      <td>877.17</td>\n",
              "      <td>1471.49</td>\n",
              "      <td>320.59</td>\n",
              "      <td>2669.25</td>\n",
              "      <td>6658.23</td>\n",
              "      <td>0.400895</td>\n",
              "    </tr>\n",
              "    <tr>\n",
              "      <th>254252</th>\n",
              "      <td>Fiscal</td>\n",
              "      <td>2016</td>\n",
              "      <td>2</td>\n",
              "      <td>Public Works, Transportation &amp; Commerce</td>\n",
              "      <td>MTA</td>\n",
              "      <td>Municipal Transportation Agency</td>\n",
              "      <td>NaN</td>\n",
              "      <td>NaN</td>\n",
              "      <td>NaN</td>\n",
              "      <td>NaN</td>\n",
              "      <td>9152</td>\n",
              "      <td>Transportation Controller Trainee</td>\n",
              "      <td>48430</td>\n",
              "      <td>7194.01</td>\n",
              "      <td>0.00</td>\n",
              "      <td>562.04</td>\n",
              "      <td>7756.05</td>\n",
              "      <td>1443.40</td>\n",
              "      <td>997.62</td>\n",
              "      <td>638.13</td>\n",
              "      <td>3079.15</td>\n",
              "      <td>10835.20</td>\n",
              "      <td>0.284180</td>\n",
              "    </tr>\n",
              "    <tr>\n",
              "      <th>260397</th>\n",
              "      <td>Fiscal</td>\n",
              "      <td>2016</td>\n",
              "      <td>2</td>\n",
              "      <td>Public Works, Transportation &amp; Commerce</td>\n",
              "      <td>MTA</td>\n",
              "      <td>Municipal Transportation Agency</td>\n",
              "      <td>NaN</td>\n",
              "      <td>NaN</td>\n",
              "      <td>NaN</td>\n",
              "      <td>NaN</td>\n",
              "      <td>9152</td>\n",
              "      <td>Transportation Controller Trainee</td>\n",
              "      <td>45753</td>\n",
              "      <td>10431.30</td>\n",
              "      <td>548.54</td>\n",
              "      <td>1417.12</td>\n",
              "      <td>12396.96</td>\n",
              "      <td>2053.53</td>\n",
              "      <td>1446.55</td>\n",
              "      <td>1009.87</td>\n",
              "      <td>4509.95</td>\n",
              "      <td>16906.91</td>\n",
              "      <td>0.266752</td>\n",
              "    </tr>\n",
              "    <tr>\n",
              "      <th>261575</th>\n",
              "      <td>Fiscal</td>\n",
              "      <td>2016</td>\n",
              "      <td>5</td>\n",
              "      <td>Culture &amp; Recreation</td>\n",
              "      <td>REC</td>\n",
              "      <td>Recreation and Park Commission</td>\n",
              "      <td>NaN</td>\n",
              "      <td>NaN</td>\n",
              "      <td>NaN</td>\n",
              "      <td>NaN</td>\n",
              "      <td>3278</td>\n",
              "      <td>Recreation Facility Assistant</td>\n",
              "      <td>47943</td>\n",
              "      <td>8060.35</td>\n",
              "      <td>0.00</td>\n",
              "      <td>159.45</td>\n",
              "      <td>8219.80</td>\n",
              "      <td>1807.54</td>\n",
              "      <td>2849.45</td>\n",
              "      <td>638.24</td>\n",
              "      <td>5295.23</td>\n",
              "      <td>13515.03</td>\n",
              "      <td>0.391803</td>\n",
              "    </tr>\n",
              "    <tr>\n",
              "      <th>268930</th>\n",
              "      <td>Fiscal</td>\n",
              "      <td>2016</td>\n",
              "      <td>2</td>\n",
              "      <td>Public Works, Transportation &amp; Commerce</td>\n",
              "      <td>MTA</td>\n",
              "      <td>Municipal Transportation Agency</td>\n",
              "      <td>NaN</td>\n",
              "      <td>NaN</td>\n",
              "      <td>NaN</td>\n",
              "      <td>NaN</td>\n",
              "      <td>9152</td>\n",
              "      <td>Transportation Controller Trainee</td>\n",
              "      <td>41454</td>\n",
              "      <td>20502.90</td>\n",
              "      <td>468.63</td>\n",
              "      <td>970.85</td>\n",
              "      <td>21942.38</td>\n",
              "      <td>3997.62</td>\n",
              "      <td>2843.22</td>\n",
              "      <td>1829.24</td>\n",
              "      <td>8670.08</td>\n",
              "      <td>30612.46</td>\n",
              "      <td>0.283221</td>\n",
              "    </tr>\n",
              "    <tr>\n",
              "      <th>271236</th>\n",
              "      <td>Fiscal</td>\n",
              "      <td>2016</td>\n",
              "      <td>5</td>\n",
              "      <td>Culture &amp; Recreation</td>\n",
              "      <td>REC</td>\n",
              "      <td>Recreation and Park Commission</td>\n",
              "      <td>NaN</td>\n",
              "      <td>NaN</td>\n",
              "      <td>NaN</td>\n",
              "      <td>NaN</td>\n",
              "      <td>3278</td>\n",
              "      <td>Recreation Facility Assistant</td>\n",
              "      <td>31790</td>\n",
              "      <td>1159.20</td>\n",
              "      <td>0.00</td>\n",
              "      <td>0.00</td>\n",
              "      <td>1159.20</td>\n",
              "      <td>254.91</td>\n",
              "      <td>430.22</td>\n",
              "      <td>89.96</td>\n",
              "      <td>775.09</td>\n",
              "      <td>1934.29</td>\n",
              "      <td>0.400710</td>\n",
              "    </tr>\n",
              "    <tr>\n",
              "      <th>272695</th>\n",
              "      <td>Fiscal</td>\n",
              "      <td>2016</td>\n",
              "      <td>5</td>\n",
              "      <td>Culture &amp; Recreation</td>\n",
              "      <td>REC</td>\n",
              "      <td>Recreation and Park Commission</td>\n",
              "      <td>NaN</td>\n",
              "      <td>NaN</td>\n",
              "      <td>NaN</td>\n",
              "      <td>NaN</td>\n",
              "      <td>3278</td>\n",
              "      <td>Recreation Facility Assistant</td>\n",
              "      <td>10536</td>\n",
              "      <td>5602.80</td>\n",
              "      <td>0.00</td>\n",
              "      <td>5.38</td>\n",
              "      <td>5608.18</td>\n",
              "      <td>1233.24</td>\n",
              "      <td>2079.41</td>\n",
              "      <td>445.88</td>\n",
              "      <td>3758.53</td>\n",
              "      <td>9366.71</td>\n",
              "      <td>0.401265</td>\n",
              "    </tr>\n",
              "    <tr>\n",
              "      <th>277509</th>\n",
              "      <td>Fiscal</td>\n",
              "      <td>2016</td>\n",
              "      <td>5</td>\n",
              "      <td>Culture &amp; Recreation</td>\n",
              "      <td>REC</td>\n",
              "      <td>Recreation and Park Commission</td>\n",
              "      <td>NaN</td>\n",
              "      <td>NaN</td>\n",
              "      <td>NaN</td>\n",
              "      <td>NaN</td>\n",
              "      <td>3278</td>\n",
              "      <td>Recreation Facility Assistant</td>\n",
              "      <td>18040</td>\n",
              "      <td>588.00</td>\n",
              "      <td>0.00</td>\n",
              "      <td>32.26</td>\n",
              "      <td>620.26</td>\n",
              "      <td>136.39</td>\n",
              "      <td>218.23</td>\n",
              "      <td>48.08</td>\n",
              "      <td>402.70</td>\n",
              "      <td>1022.96</td>\n",
              "      <td>0.393662</td>\n",
              "    </tr>\n",
              "  </tbody>\n",
              "</table>\n",
              "</div>"
            ],
            "text/plain": [
              "       Year Type  Year  ...  Total Compensation Benefit Portion\n",
              "9937      Fiscal  2016  ...            42786.55        0.284647\n",
              "17372     Fiscal  2016  ...            54433.69        0.257382\n",
              "27989     Fiscal  2016  ...            11578.50        0.400229\n",
              "31575     Fiscal  2016  ...             5738.11        0.401266\n",
              "38030     Fiscal  2016  ...             4490.68        0.401427\n",
              "40110     Fiscal  2016  ...            10767.40        0.398299\n",
              "41527     Fiscal  2016  ...            42123.91        0.282452\n",
              "42154     Fiscal  2016  ...             8222.85        0.398453\n",
              "49170     Fiscal  2016  ...             9199.84        0.398404\n",
              "49580     Fiscal  2016  ...             1135.28        0.398607\n",
              "51418     Fiscal  2016  ...            13083.36        0.398540\n",
              "56321     Fiscal  2016  ...           135408.44        0.275532\n",
              "61370     Fiscal  2016  ...             7369.39        0.397112\n",
              "75157     Fiscal  2016  ...             9715.48        0.398791\n",
              "82354     Fiscal  2016  ...            22849.79        0.265884\n",
              "83542     Fiscal  2016  ...           156505.67        0.246563\n",
              "84924     Fiscal  2016  ...             9591.52        0.397224\n",
              "87535     Fiscal  2016  ...             2398.66        0.399064\n",
              "91928     Fiscal  2016  ...            44452.70        0.274942\n",
              "93724     Fiscal  2016  ...             6556.46        0.399998\n",
              "113823    Fiscal  2016  ...            18255.15        0.289658\n",
              "118604    Fiscal  2016  ...             9043.25        0.396532\n",
              "119282    Fiscal  2016  ...            53881.90        0.258701\n",
              "123272    Fiscal  2016  ...             2368.44        0.397637\n",
              "131399    Fiscal  2016  ...             8054.70        0.416030\n",
              "142981    Fiscal  2016  ...            40683.33        0.291694\n",
              "144974    Fiscal  2016  ...            44012.29        0.254685\n",
              "152710    Fiscal  2016  ...             2122.15        0.401197\n",
              "153094    Fiscal  2016  ...             4707.06        0.395538\n",
              "169508    Fiscal  2016  ...            20153.51        0.279393\n",
              "179098    Fiscal  2016  ...            40340.57        0.293880\n",
              "180489    Fiscal  2016  ...            27351.90        0.275727\n",
              "196958    Fiscal  2016  ...            47277.51        0.260114\n",
              "201261    Fiscal  2016  ...             9097.48        0.399834\n",
              "229390    Fiscal  2016  ...            18289.45        0.293653\n",
              "232360    Fiscal  2016  ...            46746.09        0.266689\n",
              "234168    Fiscal  2016  ...             1009.11        0.400660\n",
              "247351    Fiscal  2016  ...             6658.23        0.400895\n",
              "254252    Fiscal  2016  ...            10835.20        0.284180\n",
              "260397    Fiscal  2016  ...            16906.91        0.266752\n",
              "261575    Fiscal  2016  ...            13515.03        0.391803\n",
              "268930    Fiscal  2016  ...            30612.46        0.283221\n",
              "271236    Fiscal  2016  ...             1934.29        0.400710\n",
              "272695    Fiscal  2016  ...             9366.71        0.401265\n",
              "277509    Fiscal  2016  ...             1022.96        0.393662\n",
              "\n",
              "[45 rows x 23 columns]"
            ]
          },
          "metadata": {
            "tags": []
          },
          "execution_count": 57
        }
      ]
    },
    {
      "cell_type": "code",
      "metadata": {
        "id": "4remDbnVdjM3"
      },
      "source": [
        "mis_job_fam = list(df_comb[df_comb['Job Family'].isnull()]['Job'].unique()) #list of jobs that have Job Family Missing"
      ],
      "execution_count": 58,
      "outputs": []
    },
    {
      "cell_type": "markdown",
      "metadata": {
        "id": "sSIJeeobqNmg"
      },
      "source": [
        "Maybe any of the employees have job families listed?"
      ]
    },
    {
      "cell_type": "code",
      "metadata": {
        "colab": {
          "base_uri": "https://localhost:8080/"
        },
        "id": "o-A7OQitnxqU",
        "outputId": "e716c9af-b415-40ed-ee4c-6412680cb5c0"
      },
      "source": [
        "for job in mis_job_fam:\r\n",
        "  print('There are {} not NaN Job Family values for {} job'.format(df_comb[df_comb['Job'] == job ]['Job Family'].notnull().sum(), job))"
      ],
      "execution_count": 59,
      "outputs": [
        {
          "output_type": "stream",
          "text": [
            "There are 0 not NaN Job Family values for Transportation Controller Trainee job\n",
            "There are 0 not NaN Job Family values for Recreation Facility Assistant job\n",
            "There are 0 not NaN Job Family values for Managing Director job\n"
          ],
          "name": "stdout"
        }
      ]
    },
    {
      "cell_type": "markdown",
      "metadata": {
        "id": "PfMb4CbTqT8x"
      },
      "source": [
        "Nope. Let's copy job title into job family to Job Family then"
      ]
    },
    {
      "cell_type": "code",
      "metadata": {
        "colab": {
          "base_uri": "https://localhost:8080/"
        },
        "id": "8kotxKaen98e",
        "outputId": "ed5a1228-b763-43e6-e3e7-d043ccbb1c87"
      },
      "source": [
        "mis_job_fam"
      ],
      "execution_count": 60,
      "outputs": [
        {
          "output_type": "execute_result",
          "data": {
            "text/plain": [
              "['Transportation Controller Trainee',\n",
              " 'Recreation Facility Assistant',\n",
              " 'Managing Director']"
            ]
          },
          "metadata": {
            "tags": []
          },
          "execution_count": 60
        }
      ]
    },
    {
      "cell_type": "code",
      "metadata": {
        "id": "X2HiIVC2oM4_"
      },
      "source": [
        "for mis_val in mis_job_fam:\r\n",
        "  df_comb.loc[(df_comb['Job Family'].isnull()) & (df_comb['Job'] == mis_val),'Job Family']=mis_val"
      ],
      "execution_count": 61,
      "outputs": []
    },
    {
      "cell_type": "code",
      "metadata": {
        "colab": {
          "base_uri": "https://localhost:8080/"
        },
        "id": "Me9hmtpRpuOF",
        "outputId": "34bcb27e-df59-416c-94a0-f91a56c0ee47"
      },
      "source": [
        "df_comb[df_comb['Job']== 'Managing Director']['Job Family']"
      ],
      "execution_count": 62,
      "outputs": [
        {
          "output_type": "execute_result",
          "data": {
            "text/plain": [
              "56321    Managing Director\n",
              "83542    Managing Director\n",
              "Name: Job Family, dtype: object"
            ]
          },
          "metadata": {
            "tags": []
          },
          "execution_count": 62
        }
      ]
    },
    {
      "cell_type": "markdown",
      "metadata": {
        "id": "6Fu2a6EqNpUr"
      },
      "source": [
        "Now let's deal with missing Union information. We would assume that these people do not belong to any union, so we would put \"None\" in the union information"
      ]
    },
    {
      "cell_type": "code",
      "metadata": {
        "id": "kVb4tb5eN5Wo"
      },
      "source": [
        "df_comb.loc[(df_comb['Union'].isnull()),'Union']= 'None'"
      ],
      "execution_count": 63,
      "outputs": []
    },
    {
      "cell_type": "markdown",
      "metadata": {
        "id": "DKNdSzLhgZGx"
      },
      "source": [
        "##Selecting columns"
      ]
    },
    {
      "cell_type": "markdown",
      "metadata": {
        "id": "6siGCPwoc_sO"
      },
      "source": [
        "We are going to start building a linear model. Let's figure out what columns are in the dataset that we could use to predict Total Compensation and which models we should drop"
      ]
    },
    {
      "cell_type": "code",
      "metadata": {
        "colab": {
          "base_uri": "https://localhost:8080/"
        },
        "id": "lDojUuBadUOo",
        "outputId": "a0422bde-4769-43f8-e183-2639cd8887d7"
      },
      "source": [
        "df_comb.columns"
      ],
      "execution_count": 64,
      "outputs": [
        {
          "output_type": "execute_result",
          "data": {
            "text/plain": [
              "Index(['Year Type', 'Year', 'Organization Group Code', 'Organization Group',\n",
              "       'Department Code', 'Department', 'Union Code', 'Union',\n",
              "       'Job Family Code', 'Job Family', 'Job Code', 'Job',\n",
              "       'Employee Identifier', 'Salaries', 'Overtime', 'Other Salaries',\n",
              "       'Total Salary', 'Retirement', 'Health/Dental', 'Other Benefits',\n",
              "       'Total Benefits', 'Total Compensation', 'Benefit Portion'],\n",
              "      dtype='object')"
            ]
          },
          "metadata": {
            "tags": []
          },
          "execution_count": 64
        }
      ]
    },
    {
      "cell_type": "markdown",
      "metadata": {
        "id": "iHXMW6uPf9mZ"
      },
      "source": [
        "All the columns that have a code are redundant since these just encode the category it relates to. We could drop them first.\r\n",
        "As well as Employee identifyer"
      ]
    },
    {
      "cell_type": "code",
      "metadata": {
        "id": "7H6_uKWkgNB5"
      },
      "source": [
        "df_comb = df_comb.drop(['Organization Group Code', 'Department Code', 'Union Code', 'Job Family Code', 'Job Code', \"Employee Identifier\"], axis = 1)"
      ],
      "execution_count": 65,
      "outputs": []
    },
    {
      "cell_type": "code",
      "metadata": {
        "colab": {
          "base_uri": "https://localhost:8080/"
        },
        "id": "2iIq6bUqDhPb",
        "outputId": "014633cf-55a9-446a-8d8a-7e284fc7acd2"
      },
      "source": [
        "df_comb.columns"
      ],
      "execution_count": 66,
      "outputs": [
        {
          "output_type": "execute_result",
          "data": {
            "text/plain": [
              "Index(['Year Type', 'Year', 'Organization Group', 'Department', 'Union',\n",
              "       'Job Family', 'Job', 'Salaries', 'Overtime', 'Other Salaries',\n",
              "       'Total Salary', 'Retirement', 'Health/Dental', 'Other Benefits',\n",
              "       'Total Benefits', 'Total Compensation', 'Benefit Portion'],\n",
              "      dtype='object')"
            ]
          },
          "metadata": {
            "tags": []
          },
          "execution_count": 66
        }
      ]
    },
    {
      "cell_type": "code",
      "metadata": {
        "colab": {
          "base_uri": "https://localhost:8080/"
        },
        "id": "UxmYcGFdGz8O",
        "outputId": "8d7ba8c8-0010-4288-f91f-71bb89791d34"
      },
      "source": [
        "df_comb['Year'].unique()"
      ],
      "execution_count": 67,
      "outputs": [
        {
          "output_type": "execute_result",
          "data": {
            "text/plain": [
              "array([2016, 2013, 2015, 2014])"
            ]
          },
          "metadata": {
            "tags": []
          },
          "execution_count": 67
        }
      ]
    },
    {
      "cell_type": "markdown",
      "metadata": {
        "id": "zzBhYe2som-2"
      },
      "source": [
        "##Feature Engineering"
      ]
    },
    {
      "cell_type": "markdown",
      "metadata": {
        "id": "j1oc_xB5oq58"
      },
      "source": [
        "We are going to sort Jobs in Departments and job families within these departments by total compensation to get a rank for every job title"
      ]
    },
    {
      "cell_type": "code",
      "metadata": {
        "id": "QOf6wrjb8hep"
      },
      "source": [
        "#df_comb.groupby(['Department', 'Job Family']).rank(axis = 1, method = 'first')\r\n",
        "df_comb[\"rank\"] = df_comb.groupby(['Department', 'Job Family'])[\"Total Compensation\"].rank(\"first\", ascending=False)"
      ],
      "execution_count": 68,
      "outputs": []
    },
    {
      "cell_type": "code",
      "metadata": {
        "colab": {
          "base_uri": "https://localhost:8080/",
          "height": 791
        },
        "id": "r_axjXFH6WH2",
        "outputId": "7ad4fc37-4163-45e9-bd7f-7631f4f1e995"
      },
      "source": [
        "df_comb[(df_comb['Department'] == \"District Attorney\") & (df_comb['Job Family'] == \"Legal & Court\")].sort_values('rank').head(10)"
      ],
      "execution_count": 69,
      "outputs": [
        {
          "output_type": "execute_result",
          "data": {
            "text/html": [
              "<div>\n",
              "<style scoped>\n",
              "    .dataframe tbody tr th:only-of-type {\n",
              "        vertical-align: middle;\n",
              "    }\n",
              "\n",
              "    .dataframe tbody tr th {\n",
              "        vertical-align: top;\n",
              "    }\n",
              "\n",
              "    .dataframe thead th {\n",
              "        text-align: right;\n",
              "    }\n",
              "</style>\n",
              "<table border=\"1\" class=\"dataframe\">\n",
              "  <thead>\n",
              "    <tr style=\"text-align: right;\">\n",
              "      <th></th>\n",
              "      <th>Year Type</th>\n",
              "      <th>Year</th>\n",
              "      <th>Organization Group</th>\n",
              "      <th>Department</th>\n",
              "      <th>Union</th>\n",
              "      <th>Job Family</th>\n",
              "      <th>Job</th>\n",
              "      <th>Salaries</th>\n",
              "      <th>Overtime</th>\n",
              "      <th>Other Salaries</th>\n",
              "      <th>Total Salary</th>\n",
              "      <th>Retirement</th>\n",
              "      <th>Health/Dental</th>\n",
              "      <th>Other Benefits</th>\n",
              "      <th>Total Benefits</th>\n",
              "      <th>Total Compensation</th>\n",
              "      <th>Benefit Portion</th>\n",
              "      <th>rank</th>\n",
              "    </tr>\n",
              "  </thead>\n",
              "  <tbody>\n",
              "    <tr>\n",
              "      <th>252796</th>\n",
              "      <td>Fiscal</td>\n",
              "      <td>2016</td>\n",
              "      <td>Public Protection</td>\n",
              "      <td>District Attorney</td>\n",
              "      <td>Elected Officials</td>\n",
              "      <td>Legal &amp; Court</td>\n",
              "      <td>District Attorney</td>\n",
              "      <td>260907.46</td>\n",
              "      <td>0.0</td>\n",
              "      <td>0.0</td>\n",
              "      <td>260907.46</td>\n",
              "      <td>47302.53</td>\n",
              "      <td>13068.80</td>\n",
              "      <td>19039.08</td>\n",
              "      <td>79410.41</td>\n",
              "      <td>340317.87</td>\n",
              "      <td>0.233342</td>\n",
              "      <td>1.0</td>\n",
              "    </tr>\n",
              "    <tr>\n",
              "      <th>135723</th>\n",
              "      <td>Fiscal</td>\n",
              "      <td>2015</td>\n",
              "      <td>Public Protection</td>\n",
              "      <td>District Attorney</td>\n",
              "      <td>Elected Officials</td>\n",
              "      <td>Legal &amp; Court</td>\n",
              "      <td>District Attorney</td>\n",
              "      <td>253078.65</td>\n",
              "      <td>0.0</td>\n",
              "      <td>0.0</td>\n",
              "      <td>253078.65</td>\n",
              "      <td>55525.40</td>\n",
              "      <td>12500.56</td>\n",
              "      <td>19009.66</td>\n",
              "      <td>87035.62</td>\n",
              "      <td>340114.27</td>\n",
              "      <td>0.255901</td>\n",
              "      <td>2.0</td>\n",
              "    </tr>\n",
              "    <tr>\n",
              "      <th>237726</th>\n",
              "      <td>Calendar</td>\n",
              "      <td>2015</td>\n",
              "      <td>Public Protection</td>\n",
              "      <td>District Attorney</td>\n",
              "      <td>Elected Officials</td>\n",
              "      <td>Legal &amp; Court</td>\n",
              "      <td>District Attorney</td>\n",
              "      <td>255329.14</td>\n",
              "      <td>0.0</td>\n",
              "      <td>0.0</td>\n",
              "      <td>255329.14</td>\n",
              "      <td>51352.43</td>\n",
              "      <td>12424.50</td>\n",
              "      <td>18644.40</td>\n",
              "      <td>82421.33</td>\n",
              "      <td>337750.47</td>\n",
              "      <td>0.244030</td>\n",
              "      <td>3.0</td>\n",
              "    </tr>\n",
              "    <tr>\n",
              "      <th>33727</th>\n",
              "      <td>Calendar</td>\n",
              "      <td>2014</td>\n",
              "      <td>Public Protection</td>\n",
              "      <td>District Attorney</td>\n",
              "      <td>Elected Officials</td>\n",
              "      <td>Legal &amp; Court</td>\n",
              "      <td>District Attorney</td>\n",
              "      <td>248767.06</td>\n",
              "      <td>0.0</td>\n",
              "      <td>0.0</td>\n",
              "      <td>248767.06</td>\n",
              "      <td>53139.92</td>\n",
              "      <td>13054.94</td>\n",
              "      <td>19626.17</td>\n",
              "      <td>85821.03</td>\n",
              "      <td>334588.09</td>\n",
              "      <td>0.256498</td>\n",
              "      <td>4.0</td>\n",
              "    </tr>\n",
              "    <tr>\n",
              "      <th>20535</th>\n",
              "      <td>Calendar</td>\n",
              "      <td>2013</td>\n",
              "      <td>Public Protection</td>\n",
              "      <td>District Attorney</td>\n",
              "      <td>Elected Officials</td>\n",
              "      <td>Legal &amp; Court</td>\n",
              "      <td>District Attorney</td>\n",
              "      <td>252221.06</td>\n",
              "      <td>0.0</td>\n",
              "      <td>0.0</td>\n",
              "      <td>252221.06</td>\n",
              "      <td>48342.29</td>\n",
              "      <td>12918.24</td>\n",
              "      <td>19291.19</td>\n",
              "      <td>80551.72</td>\n",
              "      <td>332772.78</td>\n",
              "      <td>0.242062</td>\n",
              "      <td>5.0</td>\n",
              "    </tr>\n",
              "    <tr>\n",
              "      <th>98426</th>\n",
              "      <td>Fiscal</td>\n",
              "      <td>2014</td>\n",
              "      <td>Public Protection</td>\n",
              "      <td>District Attorney</td>\n",
              "      <td>Elected Officials</td>\n",
              "      <td>Legal &amp; Court</td>\n",
              "      <td>District Attorney</td>\n",
              "      <td>246665.08</td>\n",
              "      <td>0.0</td>\n",
              "      <td>0.0</td>\n",
              "      <td>246665.08</td>\n",
              "      <td>51355.67</td>\n",
              "      <td>12512.55</td>\n",
              "      <td>19180.48</td>\n",
              "      <td>83048.70</td>\n",
              "      <td>329713.78</td>\n",
              "      <td>0.251881</td>\n",
              "      <td>6.0</td>\n",
              "    </tr>\n",
              "    <tr>\n",
              "      <th>47309</th>\n",
              "      <td>Fiscal</td>\n",
              "      <td>2013</td>\n",
              "      <td>Public Protection</td>\n",
              "      <td>District Attorney</td>\n",
              "      <td>Elected Officials</td>\n",
              "      <td>Legal &amp; Court</td>\n",
              "      <td>District Attorney</td>\n",
              "      <td>240430.71</td>\n",
              "      <td>0.0</td>\n",
              "      <td>0.0</td>\n",
              "      <td>240430.71</td>\n",
              "      <td>42580.21</td>\n",
              "      <td>12801.79</td>\n",
              "      <td>19112.90</td>\n",
              "      <td>74494.90</td>\n",
              "      <td>314925.61</td>\n",
              "      <td>0.236548</td>\n",
              "      <td>7.0</td>\n",
              "    </tr>\n",
              "    <tr>\n",
              "      <th>217077</th>\n",
              "      <td>Fiscal</td>\n",
              "      <td>2016</td>\n",
              "      <td>Public Protection</td>\n",
              "      <td>District Attorney</td>\n",
              "      <td>Municipal Attorneys' Association</td>\n",
              "      <td>Legal &amp; Court</td>\n",
              "      <td>Assistant Chief Attorney 2</td>\n",
              "      <td>223835.25</td>\n",
              "      <td>0.0</td>\n",
              "      <td>5976.7</td>\n",
              "      <td>229811.95</td>\n",
              "      <td>41773.72</td>\n",
              "      <td>13068.80</td>\n",
              "      <td>12062.49</td>\n",
              "      <td>66905.01</td>\n",
              "      <td>296716.96</td>\n",
              "      <td>0.225484</td>\n",
              "      <td>8.0</td>\n",
              "    </tr>\n",
              "    <tr>\n",
              "      <th>180645</th>\n",
              "      <td>Calendar</td>\n",
              "      <td>2015</td>\n",
              "      <td>Public Protection</td>\n",
              "      <td>District Attorney</td>\n",
              "      <td>Municipal Attorneys' Association</td>\n",
              "      <td>Legal &amp; Court</td>\n",
              "      <td>Assistant Chief Attorney 2</td>\n",
              "      <td>218440.02</td>\n",
              "      <td>0.0</td>\n",
              "      <td>3697.8</td>\n",
              "      <td>222137.82</td>\n",
              "      <td>44789.90</td>\n",
              "      <td>12424.50</td>\n",
              "      <td>11551.94</td>\n",
              "      <td>68766.34</td>\n",
              "      <td>290904.16</td>\n",
              "      <td>0.236388</td>\n",
              "      <td>9.0</td>\n",
              "    </tr>\n",
              "    <tr>\n",
              "      <th>39263</th>\n",
              "      <td>Fiscal</td>\n",
              "      <td>2015</td>\n",
              "      <td>Public Protection</td>\n",
              "      <td>District Attorney</td>\n",
              "      <td>Municipal Attorneys' Association</td>\n",
              "      <td>Legal &amp; Court</td>\n",
              "      <td>Assistant Chief Attorney 2</td>\n",
              "      <td>216129.42</td>\n",
              "      <td>0.0</td>\n",
              "      <td>1554.4</td>\n",
              "      <td>217683.82</td>\n",
              "      <td>47840.13</td>\n",
              "      <td>12500.56</td>\n",
              "      <td>11575.71</td>\n",
              "      <td>71916.40</td>\n",
              "      <td>289600.22</td>\n",
              "      <td>0.248330</td>\n",
              "      <td>10.0</td>\n",
              "    </tr>\n",
              "  </tbody>\n",
              "</table>\n",
              "</div>"
            ],
            "text/plain": [
              "       Year Type  Year  ... Benefit Portion  rank\n",
              "252796    Fiscal  2016  ...        0.233342   1.0\n",
              "135723    Fiscal  2015  ...        0.255901   2.0\n",
              "237726  Calendar  2015  ...        0.244030   3.0\n",
              "33727   Calendar  2014  ...        0.256498   4.0\n",
              "20535   Calendar  2013  ...        0.242062   5.0\n",
              "98426     Fiscal  2014  ...        0.251881   6.0\n",
              "47309     Fiscal  2013  ...        0.236548   7.0\n",
              "217077    Fiscal  2016  ...        0.225484   8.0\n",
              "180645  Calendar  2015  ...        0.236388   9.0\n",
              "39263     Fiscal  2015  ...        0.248330  10.0\n",
              "\n",
              "[10 rows x 18 columns]"
            ]
          },
          "metadata": {
            "tags": []
          },
          "execution_count": 69
        }
      ]
    },
    {
      "cell_type": "code",
      "metadata": {
        "colab": {
          "base_uri": "https://localhost:8080/",
          "height": 277
        },
        "id": "CdatxgHC7FHZ",
        "outputId": "895bf01b-4d66-49a4-a48d-b61c9696bb5d"
      },
      "source": [
        "df_comb.plot.scatter(x = 'Total Compensation', y = 'rank', figsize=(16,6))\r\n"
      ],
      "execution_count": 70,
      "outputs": [
        {
          "output_type": "execute_result",
          "data": {
            "text/plain": [
              "<matplotlib.axes._subplots.AxesSubplot at 0x7f66663bfd50>"
            ]
          },
          "metadata": {
            "tags": []
          },
          "execution_count": 70
        },
        {
          "output_type": "display_data",
          "data": {
            "image/png": "[encoded data removed]",
            "text/plain": [
              "<Figure size 1152x432 with 1 Axes>"
            ]
          },
          "metadata": {
            "tags": [],
            "needs_background": "light"
          }
        }
      ]
    },
    {
      "cell_type": "markdown",
      "metadata": {
        "id": "bFeKvttjHK6c"
      },
      "source": [
        "As we are predicting Total Compensation and there are a few columns that deal with the salary information, we need to be very careful with the columns we include. We could accidentally give the model the right answer. For now we are going to drop [ 'Salaries', 'Total Salary', 'Benefit Portion']"
      ]
    },
    {
      "cell_type": "code",
      "metadata": {
        "id": "fpsm6dIkJxGg"
      },
      "source": [
        "df_comb = df_comb.drop(['Salaries', 'Total Salary', 'Benefit Portion'], axis = 1)"
      ],
      "execution_count": 71,
      "outputs": []
    },
    {
      "cell_type": "code",
      "metadata": {
        "colab": {
          "base_uri": "https://localhost:8080/"
        },
        "id": "uJg6_RTQKZaa",
        "outputId": "21f8f96c-5097-4f6f-eca6-8baa3492b4db"
      },
      "source": [
        "df_comb.columns"
      ],
      "execution_count": 72,
      "outputs": [
        {
          "output_type": "execute_result",
          "data": {
            "text/plain": [
              "Index(['Year Type', 'Year', 'Organization Group', 'Department', 'Union',\n",
              "       'Job Family', 'Job', 'Overtime', 'Other Salaries', 'Retirement',\n",
              "       'Health/Dental', 'Other Benefits', 'Total Benefits',\n",
              "       'Total Compensation', 'rank'],\n",
              "      dtype='object')"
            ]
          },
          "metadata": {
            "tags": []
          },
          "execution_count": 72
        }
      ]
    },
    {
      "cell_type": "code",
      "metadata": {
        "colab": {
          "base_uri": "https://localhost:8080/",
          "height": 592
        },
        "id": "uCxWvvwArFms",
        "outputId": "07baac2e-a788-4d72-e565-40d0b1eef8ac"
      },
      "source": [
        "# Compute the correlation matrix\r\n",
        "dfa_corr = df_comb.corr()\r\n",
        "\r\n",
        "# Set up the matplotlib figure\r\n",
        "f, ax = plt.subplots(figsize=(15, 20))\r\n",
        "\r\n",
        "# Draw the heatmap with the mask and correct aspect ratio\r\n",
        "sns.heatmap(dfa_corr, cmap='viridis', vmax=.3, center=0,\r\n",
        "            square=True, linewidths=.5, cbar_kws={\"shrink\": .5}, annot = True)"
      ],
      "execution_count": 73,
      "outputs": [
        {
          "output_type": "execute_result",
          "data": {
            "text/plain": [
              "<matplotlib.axes._subplots.AxesSubplot at 0x7f66646ee110>"
            ]
          },
          "metadata": {
            "tags": []
          },
          "execution_count": 73
        },
        {
          "output_type": "display_data",
          "data": {
            "image/png": "[encoded data removed]",
            "text/plain": [
              "<Figure size 1080x1440 with 2 Axes>"
            ]
          },
          "metadata": {
            "tags": [],
            "needs_background": "light"
          }
        }
      ]
    },
    {
      "cell_type": "code",
      "metadata": {
        "colab": {
          "base_uri": "https://localhost:8080/"
        },
        "id": "eUdga0V4r72w",
        "outputId": "11794af7-e2f9-45b7-919e-5c8cc444d7a2"
      },
      "source": [
        "dfa_corr['Total Compensation'].sort_values(ascending = False)"
      ],
      "execution_count": 74,
      "outputs": [
        {
          "output_type": "execute_result",
          "data": {
            "text/plain": [
              "Total Compensation    1.000000\n",
              "Retirement            0.956899\n",
              "Total Benefits        0.943324\n",
              "Health/Dental         0.805312\n",
              "Other Benefits        0.669026\n",
              "Overtime              0.452924\n",
              "Other Salaries        0.450572\n",
              "Year                  0.007383\n",
              "rank                 -0.257578\n",
              "Name: Total Compensation, dtype: float64"
            ]
          },
          "metadata": {
            "tags": []
          },
          "execution_count": 74
        }
      ]
    },
    {
      "cell_type": "code",
      "metadata": {
        "id": "s7OxiDgN_au5"
      },
      "source": [
        "df_counts = df_comb.groupby(['Department','Job Family'])['Year'].count().reset_index()"
      ],
      "execution_count": 75,
      "outputs": []
    },
    {
      "cell_type": "code",
      "metadata": {
        "colab": {
          "base_uri": "https://localhost:8080/",
          "height": 415
        },
        "id": "rt58cJSCcpM5",
        "outputId": "8b78425c-9fec-4ace-c951-6dfabd056e70"
      },
      "source": [
        "tmp1=df_counts[df_counts.Year>500]\r\n",
        "tmp1"
      ],
      "execution_count": 76,
      "outputs": [
        {
          "output_type": "execute_result",
          "data": {
            "text/html": [
              "<div>\n",
              "<style scoped>\n",
              "    .dataframe tbody tr th:only-of-type {\n",
              "        vertical-align: middle;\n",
              "    }\n",
              "\n",
              "    .dataframe tbody tr th {\n",
              "        vertical-align: top;\n",
              "    }\n",
              "\n",
              "    .dataframe thead th {\n",
              "        text-align: right;\n",
              "    }\n",
              "</style>\n",
              "<table border=\"1\" class=\"dataframe\">\n",
              "  <thead>\n",
              "    <tr style=\"text-align: right;\">\n",
              "      <th></th>\n",
              "      <th>Department</th>\n",
              "      <th>Job Family</th>\n",
              "      <th>Year</th>\n",
              "    </tr>\n",
              "  </thead>\n",
              "  <tbody>\n",
              "    <tr>\n",
              "      <th>13</th>\n",
              "      <td>Adult Probation</td>\n",
              "      <td>Probation &amp; Parole</td>\n",
              "      <td>760</td>\n",
              "    </tr>\n",
              "    <tr>\n",
              "      <th>19</th>\n",
              "      <td>Airport Commission</td>\n",
              "      <td>Airport Operation</td>\n",
              "      <td>1113</td>\n",
              "    </tr>\n",
              "    <tr>\n",
              "      <th>22</th>\n",
              "      <td>Airport Commission</td>\n",
              "      <td>Clerical, Secretarial &amp; Steno</td>\n",
              "      <td>817</td>\n",
              "    </tr>\n",
              "    <tr>\n",
              "      <th>30</th>\n",
              "      <td>Airport Commission</td>\n",
              "      <td>Housekeeping &amp; Laundry</td>\n",
              "      <td>3545</td>\n",
              "    </tr>\n",
              "    <tr>\n",
              "      <th>31</th>\n",
              "      <td>Airport Commission</td>\n",
              "      <td>Information Systems</td>\n",
              "      <td>547</td>\n",
              "    </tr>\n",
              "    <tr>\n",
              "      <th>...</th>\n",
              "      <td>...</td>\n",
              "      <td>...</td>\n",
              "      <td>...</td>\n",
              "    </tr>\n",
              "    <tr>\n",
              "      <th>748</th>\n",
              "      <td>Recreation and Park Commission</td>\n",
              "      <td>Recreation</td>\n",
              "      <td>8217</td>\n",
              "    </tr>\n",
              "    <tr>\n",
              "      <th>776</th>\n",
              "      <td>Sheriff</td>\n",
              "      <td>Correction &amp; Detention</td>\n",
              "      <td>6632</td>\n",
              "    </tr>\n",
              "    <tr>\n",
              "      <th>789</th>\n",
              "      <td>Superior Court</td>\n",
              "      <td>SF Superior Court</td>\n",
              "      <td>3987</td>\n",
              "    </tr>\n",
              "    <tr>\n",
              "      <th>796</th>\n",
              "      <td>Treasurer/Tax Collector</td>\n",
              "      <td>Payroll, Billing &amp; Accounting</td>\n",
              "      <td>511</td>\n",
              "    </tr>\n",
              "    <tr>\n",
              "      <th>799</th>\n",
              "      <td>Treasurer/Tax Collector</td>\n",
              "      <td>Revenue</td>\n",
              "      <td>557</td>\n",
              "    </tr>\n",
              "  </tbody>\n",
              "</table>\n",
              "<p>97 rows × 3 columns</p>\n",
              "</div>"
            ],
            "text/plain": [
              "                         Department                     Job Family  Year\n",
              "13                  Adult Probation             Probation & Parole   760\n",
              "19               Airport Commission              Airport Operation  1113\n",
              "22               Airport Commission  Clerical, Secretarial & Steno   817\n",
              "30               Airport Commission         Housekeeping & Laundry  3545\n",
              "31               Airport Commission            Information Systems   547\n",
              "..                              ...                            ...   ...\n",
              "748  Recreation and Park Commission                     Recreation  8217\n",
              "776                         Sheriff         Correction & Detention  6632\n",
              "789                  Superior Court              SF Superior Court  3987\n",
              "796         Treasurer/Tax Collector  Payroll, Billing & Accounting   511\n",
              "799         Treasurer/Tax Collector                        Revenue   557\n",
              "\n",
              "[97 rows x 3 columns]"
            ]
          },
          "metadata": {
            "tags": []
          },
          "execution_count": 76
        }
      ]
    },
    {
      "cell_type": "code",
      "metadata": {
        "colab": {
          "base_uri": "https://localhost:8080/",
          "height": 691
        },
        "id": "LSEn1b1Phd5D",
        "outputId": "9222fa75-16bf-482b-e0a6-06208afae00e"
      },
      "source": [
        "tmp2=pd.merge(df_comb, tmp1, how=\"left\", on=[\"Department\", \"Job Family\"])\r\n",
        "df_comb=tmp2[tmp2['Year_y'].notnull()]\r\n",
        "df_comb.drop('Year_y', axis = 1)\r\n",
        "df_comb.groupby(['Department','Job Family']).count()\r\n"
      ],
      "execution_count": 77,
      "outputs": [
        {
          "output_type": "execute_result",
          "data": {
            "text/html": [
              "<div>\n",
              "<style scoped>\n",
              "    .dataframe tbody tr th:only-of-type {\n",
              "        vertical-align: middle;\n",
              "    }\n",
              "\n",
              "    .dataframe tbody tr th {\n",
              "        vertical-align: top;\n",
              "    }\n",
              "\n",
              "    .dataframe thead th {\n",
              "        text-align: right;\n",
              "    }\n",
              "</style>\n",
              "<table border=\"1\" class=\"dataframe\">\n",
              "  <thead>\n",
              "    <tr style=\"text-align: right;\">\n",
              "      <th></th>\n",
              "      <th></th>\n",
              "      <th>Year Type</th>\n",
              "      <th>Year_x</th>\n",
              "      <th>Organization Group</th>\n",
              "      <th>Union</th>\n",
              "      <th>Job</th>\n",
              "      <th>Overtime</th>\n",
              "      <th>Other Salaries</th>\n",
              "      <th>Retirement</th>\n",
              "      <th>Health/Dental</th>\n",
              "      <th>Other Benefits</th>\n",
              "      <th>Total Benefits</th>\n",
              "      <th>Total Compensation</th>\n",
              "      <th>rank</th>\n",
              "      <th>Year_y</th>\n",
              "    </tr>\n",
              "    <tr>\n",
              "      <th>Department</th>\n",
              "      <th>Job Family</th>\n",
              "      <th></th>\n",
              "      <th></th>\n",
              "      <th></th>\n",
              "      <th></th>\n",
              "      <th></th>\n",
              "      <th></th>\n",
              "      <th></th>\n",
              "      <th></th>\n",
              "      <th></th>\n",
              "      <th></th>\n",
              "      <th></th>\n",
              "      <th></th>\n",
              "      <th></th>\n",
              "      <th></th>\n",
              "    </tr>\n",
              "  </thead>\n",
              "  <tbody>\n",
              "    <tr>\n",
              "      <th>Adult Probation</th>\n",
              "      <th>Probation &amp; Parole</th>\n",
              "      <td>760</td>\n",
              "      <td>760</td>\n",
              "      <td>760</td>\n",
              "      <td>760</td>\n",
              "      <td>760</td>\n",
              "      <td>760</td>\n",
              "      <td>760</td>\n",
              "      <td>760</td>\n",
              "      <td>760</td>\n",
              "      <td>760</td>\n",
              "      <td>760</td>\n",
              "      <td>760</td>\n",
              "      <td>760</td>\n",
              "      <td>760</td>\n",
              "    </tr>\n",
              "    <tr>\n",
              "      <th rowspan=\"4\" valign=\"top\">Airport Commission</th>\n",
              "      <th>Airport Operation</th>\n",
              "      <td>1113</td>\n",
              "      <td>1113</td>\n",
              "      <td>1113</td>\n",
              "      <td>1113</td>\n",
              "      <td>1113</td>\n",
              "      <td>1113</td>\n",
              "      <td>1113</td>\n",
              "      <td>1113</td>\n",
              "      <td>1113</td>\n",
              "      <td>1113</td>\n",
              "      <td>1113</td>\n",
              "      <td>1113</td>\n",
              "      <td>1113</td>\n",
              "      <td>1113</td>\n",
              "    </tr>\n",
              "    <tr>\n",
              "      <th>Clerical, Secretarial &amp; Steno</th>\n",
              "      <td>817</td>\n",
              "      <td>817</td>\n",
              "      <td>817</td>\n",
              "      <td>817</td>\n",
              "      <td>817</td>\n",
              "      <td>817</td>\n",
              "      <td>817</td>\n",
              "      <td>817</td>\n",
              "      <td>817</td>\n",
              "      <td>817</td>\n",
              "      <td>817</td>\n",
              "      <td>817</td>\n",
              "      <td>817</td>\n",
              "      <td>817</td>\n",
              "    </tr>\n",
              "    <tr>\n",
              "      <th>Housekeeping &amp; Laundry</th>\n",
              "      <td>3545</td>\n",
              "      <td>3545</td>\n",
              "      <td>3545</td>\n",
              "      <td>3545</td>\n",
              "      <td>3545</td>\n",
              "      <td>3545</td>\n",
              "      <td>3545</td>\n",
              "      <td>3545</td>\n",
              "      <td>3545</td>\n",
              "      <td>3545</td>\n",
              "      <td>3545</td>\n",
              "      <td>3545</td>\n",
              "      <td>3545</td>\n",
              "      <td>3545</td>\n",
              "    </tr>\n",
              "    <tr>\n",
              "      <th>Information Systems</th>\n",
              "      <td>547</td>\n",
              "      <td>547</td>\n",
              "      <td>547</td>\n",
              "      <td>547</td>\n",
              "      <td>547</td>\n",
              "      <td>547</td>\n",
              "      <td>547</td>\n",
              "      <td>547</td>\n",
              "      <td>547</td>\n",
              "      <td>547</td>\n",
              "      <td>547</td>\n",
              "      <td>547</td>\n",
              "      <td>547</td>\n",
              "      <td>547</td>\n",
              "    </tr>\n",
              "    <tr>\n",
              "      <th>...</th>\n",
              "      <th>...</th>\n",
              "      <td>...</td>\n",
              "      <td>...</td>\n",
              "      <td>...</td>\n",
              "      <td>...</td>\n",
              "      <td>...</td>\n",
              "      <td>...</td>\n",
              "      <td>...</td>\n",
              "      <td>...</td>\n",
              "      <td>...</td>\n",
              "      <td>...</td>\n",
              "      <td>...</td>\n",
              "      <td>...</td>\n",
              "      <td>...</td>\n",
              "      <td>...</td>\n",
              "    </tr>\n",
              "    <tr>\n",
              "      <th>Recreation and Park Commission</th>\n",
              "      <th>Recreation</th>\n",
              "      <td>8217</td>\n",
              "      <td>8217</td>\n",
              "      <td>8217</td>\n",
              "      <td>8217</td>\n",
              "      <td>8217</td>\n",
              "      <td>8217</td>\n",
              "      <td>8217</td>\n",
              "      <td>8217</td>\n",
              "      <td>8217</td>\n",
              "      <td>8217</td>\n",
              "      <td>8217</td>\n",
              "      <td>8217</td>\n",
              "      <td>8217</td>\n",
              "      <td>8217</td>\n",
              "    </tr>\n",
              "    <tr>\n",
              "      <th>Sheriff</th>\n",
              "      <th>Correction &amp; Detention</th>\n",
              "      <td>6632</td>\n",
              "      <td>6632</td>\n",
              "      <td>6632</td>\n",
              "      <td>6632</td>\n",
              "      <td>6632</td>\n",
              "      <td>6632</td>\n",
              "      <td>6632</td>\n",
              "      <td>6632</td>\n",
              "      <td>6632</td>\n",
              "      <td>6632</td>\n",
              "      <td>6632</td>\n",
              "      <td>6632</td>\n",
              "      <td>6632</td>\n",
              "      <td>6632</td>\n",
              "    </tr>\n",
              "    <tr>\n",
              "      <th>Superior Court</th>\n",
              "      <th>SF Superior Court</th>\n",
              "      <td>3987</td>\n",
              "      <td>3987</td>\n",
              "      <td>3987</td>\n",
              "      <td>3987</td>\n",
              "      <td>3987</td>\n",
              "      <td>3987</td>\n",
              "      <td>3987</td>\n",
              "      <td>3987</td>\n",
              "      <td>3987</td>\n",
              "      <td>3987</td>\n",
              "      <td>3987</td>\n",
              "      <td>3987</td>\n",
              "      <td>3987</td>\n",
              "      <td>3987</td>\n",
              "    </tr>\n",
              "    <tr>\n",
              "      <th rowspan=\"2\" valign=\"top\">Treasurer/Tax Collector</th>\n",
              "      <th>Payroll, Billing &amp; Accounting</th>\n",
              "      <td>511</td>\n",
              "      <td>511</td>\n",
              "      <td>511</td>\n",
              "      <td>511</td>\n",
              "      <td>511</td>\n",
              "      <td>511</td>\n",
              "      <td>511</td>\n",
              "      <td>511</td>\n",
              "      <td>511</td>\n",
              "      <td>511</td>\n",
              "      <td>511</td>\n",
              "      <td>511</td>\n",
              "      <td>511</td>\n",
              "      <td>511</td>\n",
              "    </tr>\n",
              "    <tr>\n",
              "      <th>Revenue</th>\n",
              "      <td>557</td>\n",
              "      <td>557</td>\n",
              "      <td>557</td>\n",
              "      <td>557</td>\n",
              "      <td>557</td>\n",
              "      <td>557</td>\n",
              "      <td>557</td>\n",
              "      <td>557</td>\n",
              "      <td>557</td>\n",
              "      <td>557</td>\n",
              "      <td>557</td>\n",
              "      <td>557</td>\n",
              "      <td>557</td>\n",
              "      <td>557</td>\n",
              "    </tr>\n",
              "  </tbody>\n",
              "</table>\n",
              "<p>97 rows × 14 columns</p>\n",
              "</div>"
            ],
            "text/plain": [
              "                                                              Year Type  ...  Year_y\n",
              "Department                     Job Family                                ...        \n",
              "Adult Probation                Probation & Parole                   760  ...     760\n",
              "Airport Commission             Airport Operation                   1113  ...    1113\n",
              "                               Clerical, Secretarial & Steno        817  ...     817\n",
              "                               Housekeeping & Laundry              3545  ...    3545\n",
              "                               Information Systems                  547  ...     547\n",
              "...                                                                 ...  ...     ...\n",
              "Recreation and Park Commission Recreation                          8217  ...    8217\n",
              "Sheriff                        Correction & Detention              6632  ...    6632\n",
              "Superior Court                 SF Superior Court                   3987  ...    3987\n",
              "Treasurer/Tax Collector        Payroll, Billing & Accounting        511  ...     511\n",
              "                               Revenue                              557  ...     557\n",
              "\n",
              "[97 rows x 14 columns]"
            ]
          },
          "metadata": {
            "tags": []
          },
          "execution_count": 77
        }
      ]
    },
    {
      "cell_type": "code",
      "metadata": {
        "colab": {
          "base_uri": "https://localhost:8080/",
          "height": 774
        },
        "id": "cMQXV0iihd14",
        "outputId": "d8a09418-15b9-42da-f92c-efd357355b28"
      },
      "source": [
        "df_comb.head(10)"
      ],
      "execution_count": 78,
      "outputs": [
        {
          "output_type": "execute_result",
          "data": {
            "text/html": [
              "<div>\n",
              "<style scoped>\n",
              "    .dataframe tbody tr th:only-of-type {\n",
              "        vertical-align: middle;\n",
              "    }\n",
              "\n",
              "    .dataframe tbody tr th {\n",
              "        vertical-align: top;\n",
              "    }\n",
              "\n",
              "    .dataframe thead th {\n",
              "        text-align: right;\n",
              "    }\n",
              "</style>\n",
              "<table border=\"1\" class=\"dataframe\">\n",
              "  <thead>\n",
              "    <tr style=\"text-align: right;\">\n",
              "      <th></th>\n",
              "      <th>Year Type</th>\n",
              "      <th>Year_x</th>\n",
              "      <th>Organization Group</th>\n",
              "      <th>Department</th>\n",
              "      <th>Union</th>\n",
              "      <th>Job Family</th>\n",
              "      <th>Job</th>\n",
              "      <th>Overtime</th>\n",
              "      <th>Other Salaries</th>\n",
              "      <th>Retirement</th>\n",
              "      <th>Health/Dental</th>\n",
              "      <th>Other Benefits</th>\n",
              "      <th>Total Benefits</th>\n",
              "      <th>Total Compensation</th>\n",
              "      <th>rank</th>\n",
              "      <th>Year_y</th>\n",
              "    </tr>\n",
              "  </thead>\n",
              "  <tbody>\n",
              "    <tr>\n",
              "      <th>0</th>\n",
              "      <td>Fiscal</td>\n",
              "      <td>2016</td>\n",
              "      <td>Public Protection</td>\n",
              "      <td>District Attorney</td>\n",
              "      <td>Municipal Attorneys' Association</td>\n",
              "      <td>Legal &amp; Court</td>\n",
              "      <td>Attorney (Civil/Criminal)</td>\n",
              "      <td>0.00</td>\n",
              "      <td>1500.00</td>\n",
              "      <td>21025.98</td>\n",
              "      <td>13068.80</td>\n",
              "      <td>9368.71</td>\n",
              "      <td>43463.49</td>\n",
              "      <td>159436.65</td>\n",
              "      <td>732.0</td>\n",
              "      <td>1991.0</td>\n",
              "    </tr>\n",
              "    <tr>\n",
              "      <th>2</th>\n",
              "      <td>Calendar</td>\n",
              "      <td>2015</td>\n",
              "      <td>Community Health</td>\n",
              "      <td>Public Health</td>\n",
              "      <td>SEIU - Human Services, Local 1021</td>\n",
              "      <td>Human Services</td>\n",
              "      <td>Eligibility Worker</td>\n",
              "      <td>0.00</td>\n",
              "      <td>798.43</td>\n",
              "      <td>0.00</td>\n",
              "      <td>2254.93</td>\n",
              "      <td>835.11</td>\n",
              "      <td>3090.04</td>\n",
              "      <td>13868.64</td>\n",
              "      <td>3735.0</td>\n",
              "      <td>4013.0</td>\n",
              "    </tr>\n",
              "    <tr>\n",
              "      <th>3</th>\n",
              "      <td>Fiscal</td>\n",
              "      <td>2015</td>\n",
              "      <td>Community Health</td>\n",
              "      <td>Public Health</td>\n",
              "      <td>SEIU - Health Workers, Local 1021</td>\n",
              "      <td>Medical &amp; Dental</td>\n",
              "      <td>Dental Aide</td>\n",
              "      <td>0.00</td>\n",
              "      <td>0.00</td>\n",
              "      <td>0.00</td>\n",
              "      <td>622.63</td>\n",
              "      <td>222.46</td>\n",
              "      <td>845.09</td>\n",
              "      <td>3718.50</td>\n",
              "      <td>2159.0</td>\n",
              "      <td>2253.0</td>\n",
              "    </tr>\n",
              "    <tr>\n",
              "      <th>4</th>\n",
              "      <td>Fiscal</td>\n",
              "      <td>2014</td>\n",
              "      <td>Culture &amp; Recreation</td>\n",
              "      <td>Recreation and Park Commission</td>\n",
              "      <td>SEIU - Miscellaneous, Local 1021</td>\n",
              "      <td>Recreation</td>\n",
              "      <td>Recreation Leader</td>\n",
              "      <td>0.00</td>\n",
              "      <td>176.70</td>\n",
              "      <td>0.00</td>\n",
              "      <td>2711.66</td>\n",
              "      <td>538.43</td>\n",
              "      <td>3250.09</td>\n",
              "      <td>10128.64</td>\n",
              "      <td>3345.0</td>\n",
              "      <td>8217.0</td>\n",
              "    </tr>\n",
              "    <tr>\n",
              "      <th>5</th>\n",
              "      <td>Fiscal</td>\n",
              "      <td>2013</td>\n",
              "      <td>Public Works, Transportation &amp; Commerce</td>\n",
              "      <td>General Services Agency - Public Works</td>\n",
              "      <td>Prof &amp; Tech Engineers - Miscellaneous, Local 21</td>\n",
              "      <td>Sub-Professional Engineering</td>\n",
              "      <td>Stdntdsgntrain1, Arch/Eng/Plng</td>\n",
              "      <td>0.00</td>\n",
              "      <td>0.00</td>\n",
              "      <td>9386.03</td>\n",
              "      <td>11780.60</td>\n",
              "      <td>3486.34</td>\n",
              "      <td>24652.97</td>\n",
              "      <td>69974.15</td>\n",
              "      <td>310.0</td>\n",
              "      <td>1283.0</td>\n",
              "    </tr>\n",
              "    <tr>\n",
              "      <th>6</th>\n",
              "      <td>Fiscal</td>\n",
              "      <td>2015</td>\n",
              "      <td>Culture &amp; Recreation</td>\n",
              "      <td>Public Library</td>\n",
              "      <td>SEIU - Miscellaneous, Local 1021</td>\n",
              "      <td>Library</td>\n",
              "      <td>Library Assistant</td>\n",
              "      <td>0.00</td>\n",
              "      <td>1193.14</td>\n",
              "      <td>6616.52</td>\n",
              "      <td>5793.48</td>\n",
              "      <td>2430.74</td>\n",
              "      <td>14840.74</td>\n",
              "      <td>44339.38</td>\n",
              "      <td>3321.0</td>\n",
              "      <td>5344.0</td>\n",
              "    </tr>\n",
              "    <tr>\n",
              "      <th>7</th>\n",
              "      <td>Fiscal</td>\n",
              "      <td>2014</td>\n",
              "      <td>General Administration &amp; Finance</td>\n",
              "      <td>Assessor/Recorder</td>\n",
              "      <td>Prof &amp; Tech Engineers - Miscellaneous, Local 21</td>\n",
              "      <td>Appraisal &amp; Taxation</td>\n",
              "      <td>Real Property Appraiser</td>\n",
              "      <td>0.00</td>\n",
              "      <td>800.00</td>\n",
              "      <td>8685.34</td>\n",
              "      <td>7269.02</td>\n",
              "      <td>3277.52</td>\n",
              "      <td>19231.88</td>\n",
              "      <td>59969.97</td>\n",
              "      <td>732.0</td>\n",
              "      <td>1000.0</td>\n",
              "    </tr>\n",
              "    <tr>\n",
              "      <th>8</th>\n",
              "      <td>Calendar</td>\n",
              "      <td>2015</td>\n",
              "      <td>Public Protection</td>\n",
              "      <td>Police</td>\n",
              "      <td>Police Officers' Association</td>\n",
              "      <td>Police Services</td>\n",
              "      <td>Lieutenant (Police Department)</td>\n",
              "      <td>2312.73</td>\n",
              "      <td>20944.16</td>\n",
              "      <td>4183.12</td>\n",
              "      <td>1911.46</td>\n",
              "      <td>68.84</td>\n",
              "      <td>6163.42</td>\n",
              "      <td>52532.31</td>\n",
              "      <td>16248.0</td>\n",
              "      <td>18805.0</td>\n",
              "    </tr>\n",
              "    <tr>\n",
              "      <th>9</th>\n",
              "      <td>Fiscal</td>\n",
              "      <td>2014</td>\n",
              "      <td>Public Protection</td>\n",
              "      <td>Sheriff</td>\n",
              "      <td>Deputy Sheriffs' Association</td>\n",
              "      <td>Correction &amp; Detention</td>\n",
              "      <td>Deputy Sheriff</td>\n",
              "      <td>6856.77</td>\n",
              "      <td>5563.78</td>\n",
              "      <td>17596.33</td>\n",
              "      <td>12512.55</td>\n",
              "      <td>1627.91</td>\n",
              "      <td>31736.79</td>\n",
              "      <td>133258.56</td>\n",
              "      <td>4866.0</td>\n",
              "      <td>6632.0</td>\n",
              "    </tr>\n",
              "    <tr>\n",
              "      <th>10</th>\n",
              "      <td>Fiscal</td>\n",
              "      <td>2015</td>\n",
              "      <td>Public Works, Transportation &amp; Commerce</td>\n",
              "      <td>Airport Commission</td>\n",
              "      <td>SEIU - Miscellaneous, Local 1021</td>\n",
              "      <td>Public Service Aide</td>\n",
              "      <td>Publ Svc Aide-Asst To Prof</td>\n",
              "      <td>0.00</td>\n",
              "      <td>0.00</td>\n",
              "      <td>0.00</td>\n",
              "      <td>2361.82</td>\n",
              "      <td>549.01</td>\n",
              "      <td>2910.83</td>\n",
              "      <td>10002.16</td>\n",
              "      <td>226.0</td>\n",
              "      <td>671.0</td>\n",
              "    </tr>\n",
              "  </tbody>\n",
              "</table>\n",
              "</div>"
            ],
            "text/plain": [
              "   Year Type  Year_x  ...     rank   Year_y\n",
              "0     Fiscal    2016  ...    732.0   1991.0\n",
              "2   Calendar    2015  ...   3735.0   4013.0\n",
              "3     Fiscal    2015  ...   2159.0   2253.0\n",
              "4     Fiscal    2014  ...   3345.0   8217.0\n",
              "5     Fiscal    2013  ...    310.0   1283.0\n",
              "6     Fiscal    2015  ...   3321.0   5344.0\n",
              "7     Fiscal    2014  ...    732.0   1000.0\n",
              "8   Calendar    2015  ...  16248.0  18805.0\n",
              "9     Fiscal    2014  ...   4866.0   6632.0\n",
              "10    Fiscal    2015  ...    226.0    671.0\n",
              "\n",
              "[10 rows x 16 columns]"
            ]
          },
          "metadata": {
            "tags": []
          },
          "execution_count": 78
        }
      ]
    },
    {
      "cell_type": "code",
      "metadata": {
        "colab": {
          "base_uri": "https://localhost:8080/"
        },
        "id": "M3_rUksbhdz8",
        "outputId": "c496a6fc-988e-4374-c55b-9f715ea7fcf0"
      },
      "source": [
        "df_comb.isna().sum()"
      ],
      "execution_count": 79,
      "outputs": [
        {
          "output_type": "execute_result",
          "data": {
            "text/plain": [
              "Year Type             0\n",
              "Year_x                0\n",
              "Organization Group    0\n",
              "Department            0\n",
              "Union                 0\n",
              "Job Family            0\n",
              "Job                   0\n",
              "Overtime              0\n",
              "Other Salaries        0\n",
              "Retirement            0\n",
              "Health/Dental         0\n",
              "Other Benefits        0\n",
              "Total Benefits        0\n",
              "Total Compensation    0\n",
              "rank                  0\n",
              "Year_y                0\n",
              "dtype: int64"
            ]
          },
          "metadata": {
            "tags": []
          },
          "execution_count": 79
        }
      ]
    },
    {
      "cell_type": "markdown",
      "metadata": {
        "id": "ds5MDAS33FM6"
      },
      "source": [
        "##Creating Dummy Variables"
      ]
    },
    {
      "cell_type": "code",
      "metadata": {
        "id": "rVjImLmuc1ut"
      },
      "source": [
        "#get categorical columns\r\n",
        "cat_df_col = df_comb.select_dtypes(include = object).columns"
      ],
      "execution_count": 80,
      "outputs": []
    },
    {
      "cell_type": "code",
      "metadata": {
        "id": "Moy8mdoWxqT6"
      },
      "source": [
        "def create_dummy_df(df, cat_cols, dummy_na):\r\n",
        "    '''\r\n",
        "    INPUT:\r\n",
        "    df - pandas dataframe with categorical variables you want to dummy\r\n",
        "    cat_cols - list of strings that are associated with names of the categorical columns\r\n",
        "    dummy_na - Bool holding whether you want to dummy NA vals of categorical columns or not\r\n",
        "    \r\n",
        "    OUTPUT:\r\n",
        "    df - a new dataframe that has the following characteristics:\r\n",
        "            1. contains all columns that were not specified as categorical\r\n",
        "            2. removes all the original columns in cat_cols\r\n",
        "            3. dummy columns for each of the categorical columns in cat_cols\r\n",
        "            4. if dummy_na is True - it also contains dummy columns for the NaN values\r\n",
        "            5. Use a prefix of the column name with an underscore (_) for separating \r\n",
        "    '''\r\n",
        "    df_temp = pd.get_dummies(df[cat_cols], dummy_na = dummy_na, drop_first=True)\r\n",
        "    df_temp = pd.concat([df, df_temp], axis=1)\r\n",
        "    df_temp = df_temp.drop(columns=cat_cols)\r\n",
        "    return df_temp"
      ],
      "execution_count": 81,
      "outputs": []
    },
    {
      "cell_type": "code",
      "metadata": {
        "id": "cUW9lIqZNHOO"
      },
      "source": [
        ""
      ],
      "execution_count": 81,
      "outputs": []
    },
    {
      "cell_type": "markdown",
      "metadata": {
        "id": "e4fcr2rm-dxi"
      },
      "source": [
        "Let's do our last attempt to make our prediction better before I give up completely. We are going to create a linear model for every Job Family within each department and get a mean score for every model. As we saw ranks within each deparmtent and total compensation do fall along lines give me some hope for a better result "
      ]
    },
    {
      "cell_type": "code",
      "metadata": {
        "id": "imrCCDSVsoDf"
      },
      "source": [
        "test_score_list = []\r\n",
        "train_score_list = []\r\n",
        "depart = []\r\n",
        "job_fami = []"
      ],
      "execution_count": 82,
      "outputs": []
    },
    {
      "cell_type": "code",
      "metadata": {
        "id": "f-5ypstkmBgo"
      },
      "source": [
        "dep_list = list(df_comb['Department'].unique()) "
      ],
      "execution_count": 83,
      "outputs": []
    },
    {
      "cell_type": "markdown",
      "metadata": {
        "id": "YJniMCuPS6QA"
      },
      "source": [
        "It looks like we should drop 'Managing Director\" after all. There are nearly not enough people to predict anything"
      ]
    },
    {
      "cell_type": "markdown",
      "metadata": {
        "id": "SWx4HjaJOqP4"
      },
      "source": [
        "#Create, Fit, and Predict"
      ]
    },
    {
      "cell_type": "code",
      "metadata": {
        "id": "GvGJwcTCCQ2F"
      },
      "source": [
        "for dep in dep_list:\r\n",
        "  job_list = list(df_comb[df_comb['Department']== dep][\"Job Family\"].unique())\r\n",
        "  for job_fam in job_list:\r\n",
        "    #Split into explanatory and response variables\r\n",
        "    df_new = df_comb[(df_comb['Department']== dep) & (df_comb['Job Family']== job_fam)]\r\n",
        "    df_new = create_dummy_df(df_new, cat_df_col, dummy_na = False)\r\n",
        "    X = df_new.drop(['Total Compensation'], axis = 1)\r\n",
        "    y = df_new['Total Compensation']\r\n",
        "    #Split into train and test\r\n",
        "    X_train, X_test, y_train, y_test = train_test_split(X, y, test_size = .20, random_state=42) \r\n",
        "\r\n",
        "    lm_model = LinearRegression(normalize=True) # Instantiate\r\n",
        "    lm_model.fit(X_train, y_train) #Fit\r\n",
        "    \r\n",
        "    #Predict and score the model\r\n",
        "    y_test_preds = lm_model.predict(X_test)\r\n",
        "    y_train_preds = lm_model.predict(X_train)\r\n",
        "    test_score_temp = r2_score(y_test, y_test_preds)\r\n",
        "    train_score_temp = r2_score(y_train, y_train_preds)\r\n",
        "    test_score_list.append(test_score_temp)\r\n",
        "    train_score_list.append(train_score_temp)\r\n",
        "    depart.append(dep)\r\n",
        "    job_fami.append(job_fam)\r\n"
      ],
      "execution_count": 84,
      "outputs": []
    },
    {
      "cell_type": "code",
      "metadata": {
        "colab": {
          "base_uri": "https://localhost:8080/"
        },
        "id": "nmReLGTCNddE",
        "outputId": "e2f34364-d38e-44eb-87b2-51f8f19bbb71"
      },
      "source": [
        "\r\n",
        "\r\n",
        "test_score = statistics.mean(test_score_list)\r\n",
        "train_score = statistics.mean(train_score_list)\r\n",
        "\r\n",
        "print(\"The rsquared on the training data was {}.  The rsquared on the test data was {}.\".format(train_score, test_score))\r\n"
      ],
      "execution_count": 85,
      "outputs": [
        {
          "output_type": "stream",
          "text": [
            "The rsquared on the training data was -0.8873044245903906.  The rsquared on the test data was -1.8821322765270424e+16.\n"
          ],
          "name": "stdout"
        }
      ]
    },
    {
      "cell_type": "markdown",
      "metadata": {
        "id": "YJOpbgV3wDWV"
      },
      "source": [
        "Well, that does not look good for an overall score. Let's look at scores by Job Family within each department"
      ]
    },
    {
      "cell_type": "code",
      "metadata": {
        "id": "1bJkqhuLutYl"
      },
      "source": [
        "result = pd.DataFrame(data=[depart,job_fami, test_score_list, train_score_list]).transpose()\r\n",
        "result.columns = ['Department', 'Job Family', \"train_score\", \"test_score\"]"
      ],
      "execution_count": 86,
      "outputs": []
    },
    {
      "cell_type": "code",
      "metadata": {
        "colab": {
          "base_uri": "https://localhost:8080/",
          "height": 450
        },
        "id": "X6BLUv4aqOJ4",
        "outputId": "079b7637-75ac-4893-816c-ebef0e5a2869"
      },
      "source": [
        "result"
      ],
      "execution_count": 87,
      "outputs": [
        {
          "output_type": "execute_result",
          "data": {
            "text/html": [
              "<div>\n",
              "<style scoped>\n",
              "    .dataframe tbody tr th:only-of-type {\n",
              "        vertical-align: middle;\n",
              "    }\n",
              "\n",
              "    .dataframe tbody tr th {\n",
              "        vertical-align: top;\n",
              "    }\n",
              "\n",
              "    .dataframe thead th {\n",
              "        text-align: right;\n",
              "    }\n",
              "</style>\n",
              "<table border=\"1\" class=\"dataframe\">\n",
              "  <thead>\n",
              "    <tr style=\"text-align: right;\">\n",
              "      <th></th>\n",
              "      <th>Department</th>\n",
              "      <th>Job Family</th>\n",
              "      <th>train_score</th>\n",
              "      <th>test_score</th>\n",
              "    </tr>\n",
              "  </thead>\n",
              "  <tbody>\n",
              "    <tr>\n",
              "      <th>0</th>\n",
              "      <td>District Attorney</td>\n",
              "      <td>Legal &amp; Court</td>\n",
              "      <td>0.991153</td>\n",
              "      <td>0.993201</td>\n",
              "    </tr>\n",
              "    <tr>\n",
              "      <th>1</th>\n",
              "      <td>Public Health</td>\n",
              "      <td>Human Services</td>\n",
              "      <td>0.998059</td>\n",
              "      <td>0.997403</td>\n",
              "    </tr>\n",
              "    <tr>\n",
              "      <th>2</th>\n",
              "      <td>Public Health</td>\n",
              "      <td>Medical &amp; Dental</td>\n",
              "      <td>0.883965</td>\n",
              "      <td>0.884841</td>\n",
              "    </tr>\n",
              "    <tr>\n",
              "      <th>3</th>\n",
              "      <td>Public Health</td>\n",
              "      <td>Nursing</td>\n",
              "      <td>0.984689</td>\n",
              "      <td>0.984735</td>\n",
              "    </tr>\n",
              "    <tr>\n",
              "      <th>4</th>\n",
              "      <td>Public Health</td>\n",
              "      <td>Dietary &amp; Food</td>\n",
              "      <td>0.996467</td>\n",
              "      <td>0.997694</td>\n",
              "    </tr>\n",
              "    <tr>\n",
              "      <th>...</th>\n",
              "      <td>...</td>\n",
              "      <td>...</td>\n",
              "      <td>...</td>\n",
              "      <td>...</td>\n",
              "    </tr>\n",
              "    <tr>\n",
              "      <th>92</th>\n",
              "      <td>Human Resources</td>\n",
              "      <td>Personnel</td>\n",
              "      <td>0.998052</td>\n",
              "      <td>0.997564</td>\n",
              "    </tr>\n",
              "    <tr>\n",
              "      <th>93</th>\n",
              "      <td>Adult Probation</td>\n",
              "      <td>Probation &amp; Parole</td>\n",
              "      <td>0.884886</td>\n",
              "      <td>0.9208</td>\n",
              "    </tr>\n",
              "    <tr>\n",
              "      <th>94</th>\n",
              "      <td>Controller</td>\n",
              "      <td>Payroll, Billing &amp; Accounting</td>\n",
              "      <td>0.953489</td>\n",
              "      <td>0.954136</td>\n",
              "    </tr>\n",
              "    <tr>\n",
              "      <th>95</th>\n",
              "      <td>Public Defender</td>\n",
              "      <td>Legal &amp; Court</td>\n",
              "      <td>0.994384</td>\n",
              "      <td>0.995213</td>\n",
              "    </tr>\n",
              "    <tr>\n",
              "      <th>96</th>\n",
              "      <td>General Services Agency - Technology</td>\n",
              "      <td>Information Systems</td>\n",
              "      <td>0.998614</td>\n",
              "      <td>0.998759</td>\n",
              "    </tr>\n",
              "  </tbody>\n",
              "</table>\n",
              "<p>97 rows × 4 columns</p>\n",
              "</div>"
            ],
            "text/plain": [
              "                              Department  ... test_score\n",
              "0                      District Attorney  ...   0.993201\n",
              "1                          Public Health  ...   0.997403\n",
              "2                          Public Health  ...   0.884841\n",
              "3                          Public Health  ...   0.984735\n",
              "4                          Public Health  ...   0.997694\n",
              "..                                   ...  ...        ...\n",
              "92                       Human Resources  ...   0.997564\n",
              "93                       Adult Probation  ...     0.9208\n",
              "94                            Controller  ...   0.954136\n",
              "95                       Public Defender  ...   0.995213\n",
              "96  General Services Agency - Technology  ...   0.998759\n",
              "\n",
              "[97 rows x 4 columns]"
            ]
          },
          "metadata": {
            "tags": []
          },
          "execution_count": 87
        }
      ]
    },
    {
      "cell_type": "markdown",
      "metadata": {
        "id": "51YDnB2O-Er8"
      },
      "source": [
        "Currently, not all of our models perform fine. It is possible that some departments have bad data and/or significant outliers that throw the model way off. For the sake of time constrain of this project, we would recommend this model only for select departments"
      ]
    }
  ]
}